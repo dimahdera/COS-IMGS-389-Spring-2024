{
  "nbformat": 4,
  "nbformat_minor": 0,
  "metadata": {
    "kernelspec": {
      "display_name": "Python 3",
      "name": "python3"
    },
    "language_info": {
      "name": "python"
    },
    "colab": {
      "name": "linear-regression-scratch.ipynb",
      "provenance": [],
      "include_colab_link": true
    }
  },
  "cells": [
    {
      "cell_type": "markdown",
      "metadata": {
        "id": "view-in-github",
        "colab_type": "text"
      },
      "source": [
        "<a href=\"https://colab.research.google.com/github/dimahdera/ELEE-6399-ELEE-4333-AI-course/blob/main/chapter_linear-networks/linear-regression-scratch.ipynb\" target=\"_parent\"><img src=\"https://colab.research.google.com/assets/colab-badge.svg\" alt=\"Open In Colab\"/></a>"
      ]
    },
    {
      "cell_type": "markdown",
      "metadata": {
        "id": "l7eWCaHDDTRR"
      },
      "source": [
        "The following additional libraries are needed to run this\n",
        "notebook. Note that running on Colab is experimental, please report a Github\n",
        "issue if you have any problem."
      ]
    },
    {
      "cell_type": "code",
      "metadata": {
        "id": "YvhjsLX0DTRW",
        "outputId": "822117a7-6f71-411e-dd98-d160578c2d4d",
        "colab": {
          "base_uri": "https://localhost:8080/"
        }
      },
      "source": [
        "!pip install d2l==0.17.0\n"
      ],
      "execution_count": 1,
      "outputs": [
        {
          "output_type": "stream",
          "text": [
            "Requirement already satisfied: d2l==0.17.0 in /usr/local/lib/python3.7/dist-packages (0.17.0)\n",
            "Requirement already satisfied: numpy in /usr/local/lib/python3.7/dist-packages (from d2l==0.17.0) (1.19.5)\n",
            "Requirement already satisfied: pandas in /usr/local/lib/python3.7/dist-packages (from d2l==0.17.0) (1.1.5)\n",
            "Requirement already satisfied: jupyter in /usr/local/lib/python3.7/dist-packages (from d2l==0.17.0) (1.0.0)\n",
            "Requirement already satisfied: matplotlib in /usr/local/lib/python3.7/dist-packages (from d2l==0.17.0) (3.2.2)\n",
            "Requirement already satisfied: requests in /usr/local/lib/python3.7/dist-packages (from d2l==0.17.0) (2.23.0)\n",
            "Requirement already satisfied: ipywidgets in /usr/local/lib/python3.7/dist-packages (from jupyter->d2l==0.17.0) (7.6.3)\n",
            "Requirement already satisfied: ipykernel in /usr/local/lib/python3.7/dist-packages (from jupyter->d2l==0.17.0) (4.10.1)\n",
            "Requirement already satisfied: nbconvert in /usr/local/lib/python3.7/dist-packages (from jupyter->d2l==0.17.0) (5.6.1)\n",
            "Requirement already satisfied: qtconsole in /usr/local/lib/python3.7/dist-packages (from jupyter->d2l==0.17.0) (5.1.1)\n",
            "Requirement already satisfied: notebook in /usr/local/lib/python3.7/dist-packages (from jupyter->d2l==0.17.0) (5.3.1)\n",
            "Requirement already satisfied: jupyter-console in /usr/local/lib/python3.7/dist-packages (from jupyter->d2l==0.17.0) (5.2.0)\n",
            "Requirement already satisfied: ipython>=4.0.0 in /usr/local/lib/python3.7/dist-packages (from ipykernel->jupyter->d2l==0.17.0) (5.5.0)\n",
            "Requirement already satisfied: tornado>=4.0 in /usr/local/lib/python3.7/dist-packages (from ipykernel->jupyter->d2l==0.17.0) (5.1.1)\n",
            "Requirement already satisfied: traitlets>=4.1.0 in /usr/local/lib/python3.7/dist-packages (from ipykernel->jupyter->d2l==0.17.0) (5.0.5)\n",
            "Requirement already satisfied: jupyter-client in /usr/local/lib/python3.7/dist-packages (from ipykernel->jupyter->d2l==0.17.0) (5.3.5)\n",
            "Requirement already satisfied: pickleshare in /usr/local/lib/python3.7/dist-packages (from ipython>=4.0.0->ipykernel->jupyter->d2l==0.17.0) (0.7.5)\n",
            "Requirement already satisfied: pygments in /usr/local/lib/python3.7/dist-packages (from ipython>=4.0.0->ipykernel->jupyter->d2l==0.17.0) (2.6.1)\n",
            "Requirement already satisfied: pexpect in /usr/local/lib/python3.7/dist-packages (from ipython>=4.0.0->ipykernel->jupyter->d2l==0.17.0) (4.8.0)\n",
            "Requirement already satisfied: simplegeneric>0.8 in /usr/local/lib/python3.7/dist-packages (from ipython>=4.0.0->ipykernel->jupyter->d2l==0.17.0) (0.8.1)\n",
            "Requirement already satisfied: setuptools>=18.5 in /usr/local/lib/python3.7/dist-packages (from ipython>=4.0.0->ipykernel->jupyter->d2l==0.17.0) (57.4.0)\n",
            "Requirement already satisfied: decorator in /usr/local/lib/python3.7/dist-packages (from ipython>=4.0.0->ipykernel->jupyter->d2l==0.17.0) (4.4.2)\n",
            "Requirement already satisfied: prompt-toolkit<2.0.0,>=1.0.4 in /usr/local/lib/python3.7/dist-packages (from ipython>=4.0.0->ipykernel->jupyter->d2l==0.17.0) (1.0.18)\n",
            "Requirement already satisfied: wcwidth in /usr/local/lib/python3.7/dist-packages (from prompt-toolkit<2.0.0,>=1.0.4->ipython>=4.0.0->ipykernel->jupyter->d2l==0.17.0) (0.2.5)\n",
            "Requirement already satisfied: six>=1.9.0 in /usr/local/lib/python3.7/dist-packages (from prompt-toolkit<2.0.0,>=1.0.4->ipython>=4.0.0->ipykernel->jupyter->d2l==0.17.0) (1.15.0)\n",
            "Requirement already satisfied: ipython-genutils in /usr/local/lib/python3.7/dist-packages (from traitlets>=4.1.0->ipykernel->jupyter->d2l==0.17.0) (0.2.0)\n",
            "Requirement already satisfied: widgetsnbextension~=3.5.0 in /usr/local/lib/python3.7/dist-packages (from ipywidgets->jupyter->d2l==0.17.0) (3.5.1)\n",
            "Requirement already satisfied: jupyterlab-widgets>=1.0.0 in /usr/local/lib/python3.7/dist-packages (from ipywidgets->jupyter->d2l==0.17.0) (1.0.0)\n",
            "Requirement already satisfied: nbformat>=4.2.0 in /usr/local/lib/python3.7/dist-packages (from ipywidgets->jupyter->d2l==0.17.0) (5.1.3)\n",
            "Requirement already satisfied: jsonschema!=2.5.0,>=2.4 in /usr/local/lib/python3.7/dist-packages (from nbformat>=4.2.0->ipywidgets->jupyter->d2l==0.17.0) (2.6.0)\n",
            "Requirement already satisfied: jupyter-core in /usr/local/lib/python3.7/dist-packages (from nbformat>=4.2.0->ipywidgets->jupyter->d2l==0.17.0) (4.7.1)\n",
            "Requirement already satisfied: jinja2 in /usr/local/lib/python3.7/dist-packages (from notebook->jupyter->d2l==0.17.0) (2.11.3)\n",
            "Requirement already satisfied: Send2Trash in /usr/local/lib/python3.7/dist-packages (from notebook->jupyter->d2l==0.17.0) (1.8.0)\n",
            "Requirement already satisfied: terminado>=0.8.1 in /usr/local/lib/python3.7/dist-packages (from notebook->jupyter->d2l==0.17.0) (0.11.0)\n",
            "Requirement already satisfied: pyzmq>=13 in /usr/local/lib/python3.7/dist-packages (from jupyter-client->ipykernel->jupyter->d2l==0.17.0) (22.2.1)\n",
            "Requirement already satisfied: python-dateutil>=2.1 in /usr/local/lib/python3.7/dist-packages (from jupyter-client->ipykernel->jupyter->d2l==0.17.0) (2.8.2)\n",
            "Requirement already satisfied: ptyprocess in /usr/local/lib/python3.7/dist-packages (from terminado>=0.8.1->notebook->jupyter->d2l==0.17.0) (0.7.0)\n",
            "Requirement already satisfied: MarkupSafe>=0.23 in /usr/local/lib/python3.7/dist-packages (from jinja2->notebook->jupyter->d2l==0.17.0) (2.0.1)\n",
            "Requirement already satisfied: pyparsing!=2.0.4,!=2.1.2,!=2.1.6,>=2.0.1 in /usr/local/lib/python3.7/dist-packages (from matplotlib->d2l==0.17.0) (2.4.7)\n",
            "Requirement already satisfied: cycler>=0.10 in /usr/local/lib/python3.7/dist-packages (from matplotlib->d2l==0.17.0) (0.10.0)\n",
            "Requirement already satisfied: kiwisolver>=1.0.1 in /usr/local/lib/python3.7/dist-packages (from matplotlib->d2l==0.17.0) (1.3.1)\n",
            "Requirement already satisfied: testpath in /usr/local/lib/python3.7/dist-packages (from nbconvert->jupyter->d2l==0.17.0) (0.5.0)\n",
            "Requirement already satisfied: bleach in /usr/local/lib/python3.7/dist-packages (from nbconvert->jupyter->d2l==0.17.0) (4.0.0)\n",
            "Requirement already satisfied: defusedxml in /usr/local/lib/python3.7/dist-packages (from nbconvert->jupyter->d2l==0.17.0) (0.7.1)\n",
            "Requirement already satisfied: pandocfilters>=1.4.1 in /usr/local/lib/python3.7/dist-packages (from nbconvert->jupyter->d2l==0.17.0) (1.4.3)\n",
            "Requirement already satisfied: entrypoints>=0.2.2 in /usr/local/lib/python3.7/dist-packages (from nbconvert->jupyter->d2l==0.17.0) (0.3)\n",
            "Requirement already satisfied: mistune<2,>=0.8.1 in /usr/local/lib/python3.7/dist-packages (from nbconvert->jupyter->d2l==0.17.0) (0.8.4)\n",
            "Requirement already satisfied: webencodings in /usr/local/lib/python3.7/dist-packages (from bleach->nbconvert->jupyter->d2l==0.17.0) (0.5.1)\n",
            "Requirement already satisfied: packaging in /usr/local/lib/python3.7/dist-packages (from bleach->nbconvert->jupyter->d2l==0.17.0) (21.0)\n",
            "Requirement already satisfied: pytz>=2017.2 in /usr/local/lib/python3.7/dist-packages (from pandas->d2l==0.17.0) (2018.9)\n",
            "Requirement already satisfied: qtpy in /usr/local/lib/python3.7/dist-packages (from qtconsole->jupyter->d2l==0.17.0) (1.10.0)\n",
            "Requirement already satisfied: urllib3!=1.25.0,!=1.25.1,<1.26,>=1.21.1 in /usr/local/lib/python3.7/dist-packages (from requests->d2l==0.17.0) (1.24.3)\n",
            "Requirement already satisfied: chardet<4,>=3.0.2 in /usr/local/lib/python3.7/dist-packages (from requests->d2l==0.17.0) (3.0.4)\n",
            "Requirement already satisfied: idna<3,>=2.5 in /usr/local/lib/python3.7/dist-packages (from requests->d2l==0.17.0) (2.10)\n",
            "Requirement already satisfied: certifi>=2017.4.17 in /usr/local/lib/python3.7/dist-packages (from requests->d2l==0.17.0) (2021.5.30)\n"
          ],
          "name": "stdout"
        }
      ]
    },
    {
      "cell_type": "markdown",
      "metadata": {
        "origin_pos": 0,
        "id": "wBEjLNuUDTRX"
      },
      "source": [
        "# Linear Regression Implementation from Scratch\n",
        ":label:`sec_linear_scratch`\n",
        "\n",
        "Now that you understand the key ideas behind linear regression,\n",
        "we can begin to work through a hands-on implementation in code.\n",
        "In this section, (**we will implement the entire method from scratch,\n",
        "including the data pipeline, the model,\n",
        "the loss function, and the minibatch stochastic gradient descent optimizer.**)\n",
        "While modern deep learning frameworks can automate nearly all of this work,\n",
        "implementing things from scratch is the only way\n",
        "to make sure that you really know what you are doing.\n",
        "Moreover, when it comes time to customize models,\n",
        "defining our own layers or loss functions,\n",
        "understanding how things work under the hood will prove handy.\n",
        "In this section, we will rely only on tensors and auto differentiation.\n",
        "Afterwards, we will introduce a more concise implementation,\n",
        "taking advantage of bells and whistles of deep learning frameworks.\n"
      ]
    },
    {
      "cell_type": "code",
      "metadata": {
        "origin_pos": 3,
        "tab": [
          "tensorflow"
        ],
        "id": "0qnlghAnDTRY"
      },
      "source": [
        "%matplotlib inline\n",
        "import random\n",
        "import tensorflow as tf\n",
        "from d2l import tensorflow as d2l\n"
      ],
      "execution_count": 2,
      "outputs": []
    },
    {
      "cell_type": "markdown",
      "metadata": {
        "origin_pos": 4,
        "id": "hNt4DcUpDTRZ"
      },
      "source": [
        "## Generating the Dataset\n",
        "\n",
        "To keep things simple, we will [**construct an artificial dataset\n",
        "according to a linear model with additive noise.**]\n",
        "Our task will be to recover this model's parameters\n",
        "using the finite set of examples contained in our dataset.\n",
        "We will keep the data low-dimensional so we can visualize it easily.\n",
        "In the following code snippet, we generate a dataset\n",
        "containing 1000 examples, each consisting of 2 features\n",
        "sampled from a standard normal distribution.\n",
        "Thus our synthetic dataset will be a matrix\n",
        "$\\mathbf{X}\\in \\mathbb{R}^{1000 \\times 2}$.\n",
        "\n",
        "(**The true parameters generating our dataset will be\n",
        "$\\mathbf{w} = [2, -3.4]^\\top$ and $b = 4.2$,\n",
        "and**) our synthetic labels will be assigned according\n",
        "to the following linear model with the noise term $\\epsilon$:\n",
        "\n",
        "(**$$\\mathbf{y}= \\mathbf{X} \\mathbf{w} + b + \\mathbf\\epsilon.$$**)\n",
        "\n",
        "You could think of $\\epsilon$ as capturing potential\n",
        "measurement errors on the features and labels.\n",
        "We will assume that the standard assumptions hold and thus\n",
        "that $\\epsilon$ obeys a normal distribution with mean of 0.\n",
        "To make our problem easy, we will set its standard deviation to 0.01.\n",
        "The following code generates our synthetic dataset.\n"
      ]
    },
    {
      "cell_type": "code",
      "metadata": {
        "origin_pos": 6,
        "tab": [
          "tensorflow"
        ],
        "id": "V_9mMZfJDTRa"
      },
      "source": [
        "def synthetic_data(w, b, num_examples):  \n",
        "    \"\"\"Generate y = Xw + b + noise.\"\"\"\n",
        "    X = tf.zeros((num_examples, w.shape[0]))\n",
        "    X += tf.random.normal(shape=X.shape)\n",
        "    y = tf.matmul(X, tf.reshape(w, (-1, 1))) + b\n",
        "    y += tf.random.normal(shape=y.shape, stddev=0.01)\n",
        "    y = tf.reshape(y, (-1, 1))\n",
        "    return X, y"
      ],
      "execution_count": 3,
      "outputs": []
    },
    {
      "cell_type": "code",
      "metadata": {
        "origin_pos": 7,
        "tab": [
          "tensorflow"
        ],
        "id": "CVUUaIcUDTRb"
      },
      "source": [
        "true_w = tf.constant([2, -3.4])\n",
        "true_b = 4.2\n",
        "features, labels = synthetic_data(true_w, true_b, 1000)"
      ],
      "execution_count": 4,
      "outputs": []
    },
    {
      "cell_type": "markdown",
      "metadata": {
        "origin_pos": 8,
        "id": "ZimyRw4cDTRc"
      },
      "source": [
        "Note that [**each row in `features` consists of a 2-dimensional data example\n",
        "and that each row in `labels` consists of a 1-dimensional label value (a scalar).**]\n"
      ]
    },
    {
      "cell_type": "code",
      "metadata": {
        "origin_pos": 9,
        "tab": [
          "tensorflow"
        ],
        "id": "z26mXDHHDTRd",
        "outputId": "0b502298-f225-4cdc-fa08-a92a189c8607",
        "colab": {
          "base_uri": "https://localhost:8080/"
        }
      },
      "source": [
        "print('features:', features[0], '\\nlabel:', labels[0])"
      ],
      "execution_count": 5,
      "outputs": [
        {
          "output_type": "stream",
          "text": [
            "features: tf.Tensor([-0.30795193 -0.22343485], shape=(2,), dtype=float32) \n",
            "label: tf.Tensor([4.344947], shape=(1,), dtype=float32)\n"
          ],
          "name": "stdout"
        }
      ]
    },
    {
      "cell_type": "markdown",
      "metadata": {
        "origin_pos": 10,
        "id": "LMZaG_fpDTRf"
      },
      "source": [
        "By generating a scatter plot using the second feature `features[:, 1]` and `labels`,\n",
        "we can clearly observe the linear correlation between the two.\n"
      ]
    },
    {
      "cell_type": "code",
      "metadata": {
        "origin_pos": 11,
        "tab": [
          "tensorflow"
        ],
        "id": "_uVnR2tVDTRf",
        "outputId": "f0ce5244-572c-4cfb-934a-0632a9aa5ee5",
        "colab": {
          "base_uri": "https://localhost:8080/",
          "height": 244
        }
      },
      "source": [
        "d2l.set_figsize()\n",
        "# The semicolon is for displaying the plot only\n",
        "d2l.plt.scatter(features[:, (1)].numpy(), labels.numpy(), 1);"
      ],
      "execution_count": 6,
      "outputs": [
        {
          "output_type": "display_data",
          "data": {
            "text/plain": [
              "<Figure size 252x180 with 1 Axes>"
            ],
            "image/svg+xml": "<?xml version=\"1.0\" encoding=\"utf-8\" standalone=\"no\"?>\n<!DOCTYPE svg PUBLIC \"-//W3C//DTD SVG 1.1//EN\"\n  \"http://www.w3.org/Graphics/SVG/1.1/DTD/svg11.dtd\">\n<!-- Created with matplotlib (https://matplotlib.org/) -->\n<svg height=\"166.978125pt\" version=\"1.1\" viewBox=\"0 0 231.442187 166.978125\" width=\"231.442187pt\" xmlns=\"http://www.w3.org/2000/svg\" xmlns:xlink=\"http://www.w3.org/1999/xlink\">\n <defs>\n  <style type=\"text/css\">\n*{stroke-linecap:butt;stroke-linejoin:round;}\n  </style>\n </defs>\n <g id=\"figure_1\">\n  <g id=\"patch_1\">\n   <path d=\"M 0 166.978125 \nL 231.442187 166.978125 \nL 231.442187 0 \nL 0 0 \nz\n\" style=\"fill:none;\"/>\n  </g>\n  <g id=\"axes_1\">\n   <g id=\"patch_2\">\n    <path d=\"M 28.942188 143.1 \nL 224.242188 143.1 \nL 224.242188 7.2 \nL 28.942188 7.2 \nz\n\" style=\"fill:#ffffff;\"/>\n   </g>\n   <g id=\"PathCollection_1\">\n    <defs>\n     <path d=\"M 0 0.5 \nC 0.132602 0.5 0.25979 0.447317 0.353553 0.353553 \nC 0.447317 0.25979 0.5 0.132602 0.5 0 \nC 0.5 -0.132602 0.447317 -0.25979 0.353553 -0.353553 \nC 0.25979 -0.447317 0.132602 -0.5 0 -0.5 \nC -0.132602 -0.5 -0.25979 -0.447317 -0.353553 -0.353553 \nC -0.447317 -0.25979 -0.5 -0.132602 -0.5 0 \nC -0.5 0.132602 -0.447317 0.25979 -0.353553 0.353553 \nC -0.25979 0.447317 -0.132602 0.5 0 0.5 \nz\n\" id=\"m85d9ac503a\" style=\"stroke:#1f77b4;\"/>\n    </defs>\n    <g clip-path=\"url(#p9f472269e6)\">\n     <use style=\"fill:#1f77b4;stroke:#1f77b4;\" x=\"124.57661\" xlink:href=\"#m85d9ac503a\" y=\"76.197133\"/>\n     <use style=\"fill:#1f77b4;stroke:#1f77b4;\" x=\"121.540036\" xlink:href=\"#m85d9ac503a\" y=\"77.902526\"/>\n     <use style=\"fill:#1f77b4;stroke:#1f77b4;\" x=\"120.521067\" xlink:href=\"#m85d9ac503a\" y=\"77.306883\"/>\n     <use style=\"fill:#1f77b4;stroke:#1f77b4;\" x=\"128.461802\" xlink:href=\"#m85d9ac503a\" y=\"68.634345\"/>\n     <use style=\"fill:#1f77b4;stroke:#1f77b4;\" x=\"119.633357\" xlink:href=\"#m85d9ac503a\" y=\"80.499805\"/>\n     <use style=\"fill:#1f77b4;stroke:#1f77b4;\" x=\"143.656519\" xlink:href=\"#m85d9ac503a\" y=\"82.147091\"/>\n     <use style=\"fill:#1f77b4;stroke:#1f77b4;\" x=\"162.713712\" xlink:href=\"#m85d9ac503a\" y=\"100.834444\"/>\n     <use style=\"fill:#1f77b4;stroke:#1f77b4;\" x=\"145.570483\" xlink:href=\"#m85d9ac503a\" y=\"89.891409\"/>\n     <use style=\"fill:#1f77b4;stroke:#1f77b4;\" x=\"177.422315\" xlink:href=\"#m85d9ac503a\" y=\"84.176502\"/>\n     <use style=\"fill:#1f77b4;stroke:#1f77b4;\" x=\"161.087273\" xlink:href=\"#m85d9ac503a\" y=\"85.273932\"/>\n     <use style=\"fill:#1f77b4;stroke:#1f77b4;\" x=\"130.335942\" xlink:href=\"#m85d9ac503a\" y=\"67.934816\"/>\n     <use style=\"fill:#1f77b4;stroke:#1f77b4;\" x=\"145.5685\" xlink:href=\"#m85d9ac503a\" y=\"87.202394\"/>\n     <use style=\"fill:#1f77b4;stroke:#1f77b4;\" x=\"158.273413\" xlink:href=\"#m85d9ac503a\" y=\"80.591651\"/>\n     <use style=\"fill:#1f77b4;stroke:#1f77b4;\" x=\"126.258282\" xlink:href=\"#m85d9ac503a\" y=\"78.935234\"/>\n     <use style=\"fill:#1f77b4;stroke:#1f77b4;\" x=\"166.951096\" xlink:href=\"#m85d9ac503a\" y=\"101.765883\"/>\n     <use style=\"fill:#1f77b4;stroke:#1f77b4;\" x=\"135.491089\" xlink:href=\"#m85d9ac503a\" y=\"90.329234\"/>\n     <use style=\"fill:#1f77b4;stroke:#1f77b4;\" x=\"145.86751\" xlink:href=\"#m85d9ac503a\" y=\"64.638693\"/>\n     <use style=\"fill:#1f77b4;stroke:#1f77b4;\" x=\"90.314571\" xlink:href=\"#m85d9ac503a\" y=\"58.912354\"/>\n     <use style=\"fill:#1f77b4;stroke:#1f77b4;\" x=\"167.988677\" xlink:href=\"#m85d9ac503a\" y=\"99.730802\"/>\n     <use style=\"fill:#1f77b4;stroke:#1f77b4;\" x=\"137.9565\" xlink:href=\"#m85d9ac503a\" y=\"68.17197\"/>\n     <use style=\"fill:#1f77b4;stroke:#1f77b4;\" x=\"131.932195\" xlink:href=\"#m85d9ac503a\" y=\"85.745932\"/>\n     <use style=\"fill:#1f77b4;stroke:#1f77b4;\" x=\"115.0395\" xlink:href=\"#m85d9ac503a\" y=\"74.707718\"/>\n     <use style=\"fill:#1f77b4;stroke:#1f77b4;\" x=\"187.897246\" xlink:href=\"#m85d9ac503a\" y=\"119.741501\"/>\n     <use style=\"fill:#1f77b4;stroke:#1f77b4;\" x=\"134.168681\" xlink:href=\"#m85d9ac503a\" y=\"102.402067\"/>\n     <use style=\"fill:#1f77b4;stroke:#1f77b4;\" x=\"144.793167\" xlink:href=\"#m85d9ac503a\" y=\"87.771858\"/>\n     <use style=\"fill:#1f77b4;stroke:#1f77b4;\" x=\"134.042267\" xlink:href=\"#m85d9ac503a\" y=\"61.038877\"/>\n     <use style=\"fill:#1f77b4;stroke:#1f77b4;\" x=\"122.489024\" xlink:href=\"#m85d9ac503a\" y=\"64.186748\"/>\n     <use style=\"fill:#1f77b4;stroke:#1f77b4;\" x=\"157.752008\" xlink:href=\"#m85d9ac503a\" y=\"91.550518\"/>\n     <use style=\"fill:#1f77b4;stroke:#1f77b4;\" x=\"149.500956\" xlink:href=\"#m85d9ac503a\" y=\"82.21828\"/>\n     <use style=\"fill:#1f77b4;stroke:#1f77b4;\" x=\"70.894713\" xlink:href=\"#m85d9ac503a\" y=\"37.880944\"/>\n     <use style=\"fill:#1f77b4;stroke:#1f77b4;\" x=\"110.643858\" xlink:href=\"#m85d9ac503a\" y=\"67.522669\"/>\n     <use style=\"fill:#1f77b4;stroke:#1f77b4;\" x=\"183.757448\" xlink:href=\"#m85d9ac503a\" y=\"110.389032\"/>\n     <use style=\"fill:#1f77b4;stroke:#1f77b4;\" x=\"137.977885\" xlink:href=\"#m85d9ac503a\" y=\"70.140687\"/>\n     <use style=\"fill:#1f77b4;stroke:#1f77b4;\" x=\"118.522601\" xlink:href=\"#m85d9ac503a\" y=\"52.048011\"/>\n     <use style=\"fill:#1f77b4;stroke:#1f77b4;\" x=\"184.176435\" xlink:href=\"#m85d9ac503a\" y=\"104.999402\"/>\n     <use style=\"fill:#1f77b4;stroke:#1f77b4;\" x=\"136.808283\" xlink:href=\"#m85d9ac503a\" y=\"90.549734\"/>\n     <use style=\"fill:#1f77b4;stroke:#1f77b4;\" x=\"60.440736\" xlink:href=\"#m85d9ac503a\" y=\"30.515912\"/>\n     <use style=\"fill:#1f77b4;stroke:#1f77b4;\" x=\"129.45601\" xlink:href=\"#m85d9ac503a\" y=\"66.949119\"/>\n     <use style=\"fill:#1f77b4;stroke:#1f77b4;\" x=\"189.898761\" xlink:href=\"#m85d9ac503a\" y=\"96.912793\"/>\n     <use style=\"fill:#1f77b4;stroke:#1f77b4;\" x=\"85.734322\" xlink:href=\"#m85d9ac503a\" y=\"46.479323\"/>\n     <use style=\"fill:#1f77b4;stroke:#1f77b4;\" x=\"120.691146\" xlink:href=\"#m85d9ac503a\" y=\"82.182236\"/>\n     <use style=\"fill:#1f77b4;stroke:#1f77b4;\" x=\"200.660199\" xlink:href=\"#m85d9ac503a\" y=\"119.783943\"/>\n     <use style=\"fill:#1f77b4;stroke:#1f77b4;\" x=\"149.170229\" xlink:href=\"#m85d9ac503a\" y=\"87.522298\"/>\n     <use style=\"fill:#1f77b4;stroke:#1f77b4;\" x=\"115.591942\" xlink:href=\"#m85d9ac503a\" y=\"72.121378\"/>\n     <use style=\"fill:#1f77b4;stroke:#1f77b4;\" x=\"111.333668\" xlink:href=\"#m85d9ac503a\" y=\"63.051733\"/>\n     <use style=\"fill:#1f77b4;stroke:#1f77b4;\" x=\"190.800832\" xlink:href=\"#m85d9ac503a\" y=\"123.185442\"/>\n     <use style=\"fill:#1f77b4;stroke:#1f77b4;\" x=\"109.865217\" xlink:href=\"#m85d9ac503a\" y=\"54.772889\"/>\n     <use style=\"fill:#1f77b4;stroke:#1f77b4;\" x=\"135.011119\" xlink:href=\"#m85d9ac503a\" y=\"74.942573\"/>\n     <use style=\"fill:#1f77b4;stroke:#1f77b4;\" x=\"184.539483\" xlink:href=\"#m85d9ac503a\" y=\"105.186248\"/>\n     <use style=\"fill:#1f77b4;stroke:#1f77b4;\" x=\"97.230743\" xlink:href=\"#m85d9ac503a\" y=\"62.54153\"/>\n     <use style=\"fill:#1f77b4;stroke:#1f77b4;\" x=\"171.921218\" xlink:href=\"#m85d9ac503a\" y=\"116.382729\"/>\n     <use style=\"fill:#1f77b4;stroke:#1f77b4;\" x=\"114.640333\" xlink:href=\"#m85d9ac503a\" y=\"88.780544\"/>\n     <use style=\"fill:#1f77b4;stroke:#1f77b4;\" x=\"147.319492\" xlink:href=\"#m85d9ac503a\" y=\"92.172696\"/>\n     <use style=\"fill:#1f77b4;stroke:#1f77b4;\" x=\"199.889023\" xlink:href=\"#m85d9ac503a\" y=\"119.212645\"/>\n     <use style=\"fill:#1f77b4;stroke:#1f77b4;\" x=\"146.714776\" xlink:href=\"#m85d9ac503a\" y=\"84.577493\"/>\n     <use style=\"fill:#1f77b4;stroke:#1f77b4;\" x=\"183.232301\" xlink:href=\"#m85d9ac503a\" y=\"106.175603\"/>\n     <use style=\"fill:#1f77b4;stroke:#1f77b4;\" x=\"98.32371\" xlink:href=\"#m85d9ac503a\" y=\"50.698384\"/>\n     <use style=\"fill:#1f77b4;stroke:#1f77b4;\" x=\"188.829449\" xlink:href=\"#m85d9ac503a\" y=\"100.361241\"/>\n     <use style=\"fill:#1f77b4;stroke:#1f77b4;\" x=\"157.834551\" xlink:href=\"#m85d9ac503a\" y=\"101.618212\"/>\n     <use style=\"fill:#1f77b4;stroke:#1f77b4;\" x=\"148.892679\" xlink:href=\"#m85d9ac503a\" y=\"102.55162\"/>\n     <use style=\"fill:#1f77b4;stroke:#1f77b4;\" x=\"116.541977\" xlink:href=\"#m85d9ac503a\" y=\"76.335623\"/>\n     <use style=\"fill:#1f77b4;stroke:#1f77b4;\" x=\"69.131928\" xlink:href=\"#m85d9ac503a\" y=\"28.536118\"/>\n     <use style=\"fill:#1f77b4;stroke:#1f77b4;\" x=\"141.386246\" xlink:href=\"#m85d9ac503a\" y=\"62.68182\"/>\n     <use style=\"fill:#1f77b4;stroke:#1f77b4;\" x=\"90.98351\" xlink:href=\"#m85d9ac503a\" y=\"52.270078\"/>\n     <use style=\"fill:#1f77b4;stroke:#1f77b4;\" x=\"140.922816\" xlink:href=\"#m85d9ac503a\" y=\"100.553802\"/>\n     <use style=\"fill:#1f77b4;stroke:#1f77b4;\" x=\"105.038868\" xlink:href=\"#m85d9ac503a\" y=\"44.238952\"/>\n     <use style=\"fill:#1f77b4;stroke:#1f77b4;\" x=\"162.857467\" xlink:href=\"#m85d9ac503a\" y=\"92.960021\"/>\n     <use style=\"fill:#1f77b4;stroke:#1f77b4;\" x=\"75.114542\" xlink:href=\"#m85d9ac503a\" y=\"40.863715\"/>\n     <use style=\"fill:#1f77b4;stroke:#1f77b4;\" x=\"154.261615\" xlink:href=\"#m85d9ac503a\" y=\"90.955955\"/>\n     <use style=\"fill:#1f77b4;stroke:#1f77b4;\" x=\"100.842801\" xlink:href=\"#m85d9ac503a\" y=\"59.963241\"/>\n     <use style=\"fill:#1f77b4;stroke:#1f77b4;\" x=\"113.590962\" xlink:href=\"#m85d9ac503a\" y=\"63.520078\"/>\n     <use style=\"fill:#1f77b4;stroke:#1f77b4;\" x=\"87.65478\" xlink:href=\"#m85d9ac503a\" y=\"60.858132\"/>\n     <use style=\"fill:#1f77b4;stroke:#1f77b4;\" x=\"176.780468\" xlink:href=\"#m85d9ac503a\" y=\"99.309887\"/>\n     <use style=\"fill:#1f77b4;stroke:#1f77b4;\" x=\"144.679544\" xlink:href=\"#m85d9ac503a\" y=\"94.690458\"/>\n     <use style=\"fill:#1f77b4;stroke:#1f77b4;\" x=\"86.767568\" xlink:href=\"#m85d9ac503a\" y=\"42.329712\"/>\n     <use style=\"fill:#1f77b4;stroke:#1f77b4;\" x=\"121.983897\" xlink:href=\"#m85d9ac503a\" y=\"91.217221\"/>\n     <use style=\"fill:#1f77b4;stroke:#1f77b4;\" x=\"96.292473\" xlink:href=\"#m85d9ac503a\" y=\"54.537335\"/>\n     <use style=\"fill:#1f77b4;stroke:#1f77b4;\" x=\"98.83164\" xlink:href=\"#m85d9ac503a\" y=\"55.872096\"/>\n     <use style=\"fill:#1f77b4;stroke:#1f77b4;\" x=\"132.373722\" xlink:href=\"#m85d9ac503a\" y=\"98.967833\"/>\n     <use style=\"fill:#1f77b4;stroke:#1f77b4;\" x=\"143.399985\" xlink:href=\"#m85d9ac503a\" y=\"83.089291\"/>\n     <use style=\"fill:#1f77b4;stroke:#1f77b4;\" x=\"137.817133\" xlink:href=\"#m85d9ac503a\" y=\"73.031362\"/>\n     <use style=\"fill:#1f77b4;stroke:#1f77b4;\" x=\"168.631572\" xlink:href=\"#m85d9ac503a\" y=\"117.447304\"/>\n     <use style=\"fill:#1f77b4;stroke:#1f77b4;\" x=\"104.274367\" xlink:href=\"#m85d9ac503a\" y=\"61.392761\"/>\n     <use style=\"fill:#1f77b4;stroke:#1f77b4;\" x=\"159.744127\" xlink:href=\"#m85d9ac503a\" y=\"97.646007\"/>\n     <use style=\"fill:#1f77b4;stroke:#1f77b4;\" x=\"122.535972\" xlink:href=\"#m85d9ac503a\" y=\"85.124349\"/>\n     <use style=\"fill:#1f77b4;stroke:#1f77b4;\" x=\"155.067293\" xlink:href=\"#m85d9ac503a\" y=\"104.081836\"/>\n     <use style=\"fill:#1f77b4;stroke:#1f77b4;\" x=\"153.082208\" xlink:href=\"#m85d9ac503a\" y=\"107.271721\"/>\n     <use style=\"fill:#1f77b4;stroke:#1f77b4;\" x=\"135.727268\" xlink:href=\"#m85d9ac503a\" y=\"102.911473\"/>\n     <use style=\"fill:#1f77b4;stroke:#1f77b4;\" x=\"156.285566\" xlink:href=\"#m85d9ac503a\" y=\"89.508803\"/>\n     <use style=\"fill:#1f77b4;stroke:#1f77b4;\" x=\"137.401254\" xlink:href=\"#m85d9ac503a\" y=\"85.659832\"/>\n     <use style=\"fill:#1f77b4;stroke:#1f77b4;\" x=\"86.061978\" xlink:href=\"#m85d9ac503a\" y=\"31.34167\"/>\n     <use style=\"fill:#1f77b4;stroke:#1f77b4;\" x=\"130.635622\" xlink:href=\"#m85d9ac503a\" y=\"73.640181\"/>\n     <use style=\"fill:#1f77b4;stroke:#1f77b4;\" x=\"148.932976\" xlink:href=\"#m85d9ac503a\" y=\"99.155022\"/>\n     <use style=\"fill:#1f77b4;stroke:#1f77b4;\" x=\"130.340789\" xlink:href=\"#m85d9ac503a\" y=\"84.199765\"/>\n     <use style=\"fill:#1f77b4;stroke:#1f77b4;\" x=\"121.116697\" xlink:href=\"#m85d9ac503a\" y=\"62.61421\"/>\n     <use style=\"fill:#1f77b4;stroke:#1f77b4;\" x=\"113.565265\" xlink:href=\"#m85d9ac503a\" y=\"62.054058\"/>\n     <use style=\"fill:#1f77b4;stroke:#1f77b4;\" x=\"112.55644\" xlink:href=\"#m85d9ac503a\" y=\"64.285678\"/>\n     <use style=\"fill:#1f77b4;stroke:#1f77b4;\" x=\"71.530797\" xlink:href=\"#m85d9ac503a\" y=\"59.039617\"/>\n     <use style=\"fill:#1f77b4;stroke:#1f77b4;\" x=\"131.843472\" xlink:href=\"#m85d9ac503a\" y=\"84.071266\"/>\n     <use style=\"fill:#1f77b4;stroke:#1f77b4;\" x=\"163.538563\" xlink:href=\"#m85d9ac503a\" y=\"102.826108\"/>\n     <use style=\"fill:#1f77b4;stroke:#1f77b4;\" x=\"212.154586\" xlink:href=\"#m85d9ac503a\" y=\"126.312234\"/>\n     <use style=\"fill:#1f77b4;stroke:#1f77b4;\" x=\"83.324221\" xlink:href=\"#m85d9ac503a\" y=\"52.371012\"/>\n     <use style=\"fill:#1f77b4;stroke:#1f77b4;\" x=\"146.947544\" xlink:href=\"#m85d9ac503a\" y=\"86.670119\"/>\n     <use style=\"fill:#1f77b4;stroke:#1f77b4;\" x=\"78.42864\" xlink:href=\"#m85d9ac503a\" y=\"47.98301\"/>\n     <use style=\"fill:#1f77b4;stroke:#1f77b4;\" x=\"130.102144\" xlink:href=\"#m85d9ac503a\" y=\"80.085295\"/>\n     <use style=\"fill:#1f77b4;stroke:#1f77b4;\" x=\"66.140469\" xlink:href=\"#m85d9ac503a\" y=\"19.188156\"/>\n     <use style=\"fill:#1f77b4;stroke:#1f77b4;\" x=\"124.324374\" xlink:href=\"#m85d9ac503a\" y=\"87.594536\"/>\n     <use style=\"fill:#1f77b4;stroke:#1f77b4;\" x=\"78.557519\" xlink:href=\"#m85d9ac503a\" y=\"44.580998\"/>\n     <use style=\"fill:#1f77b4;stroke:#1f77b4;\" x=\"116.889096\" xlink:href=\"#m85d9ac503a\" y=\"62.981131\"/>\n     <use style=\"fill:#1f77b4;stroke:#1f77b4;\" x=\"157.469212\" xlink:href=\"#m85d9ac503a\" y=\"96.142876\"/>\n     <use style=\"fill:#1f77b4;stroke:#1f77b4;\" x=\"143.151707\" xlink:href=\"#m85d9ac503a\" y=\"103.941352\"/>\n     <use style=\"fill:#1f77b4;stroke:#1f77b4;\" x=\"78.908195\" xlink:href=\"#m85d9ac503a\" y=\"38.598731\"/>\n     <use style=\"fill:#1f77b4;stroke:#1f77b4;\" x=\"163.079026\" xlink:href=\"#m85d9ac503a\" y=\"95.5865\"/>\n     <use style=\"fill:#1f77b4;stroke:#1f77b4;\" x=\"188.321594\" xlink:href=\"#m85d9ac503a\" y=\"119.988354\"/>\n     <use style=\"fill:#1f77b4;stroke:#1f77b4;\" x=\"140.915857\" xlink:href=\"#m85d9ac503a\" y=\"94.302629\"/>\n     <use style=\"fill:#1f77b4;stroke:#1f77b4;\" x=\"139.786277\" xlink:href=\"#m85d9ac503a\" y=\"64.336037\"/>\n     <use style=\"fill:#1f77b4;stroke:#1f77b4;\" x=\"139.343319\" xlink:href=\"#m85d9ac503a\" y=\"92.63513\"/>\n     <use style=\"fill:#1f77b4;stroke:#1f77b4;\" x=\"125.892371\" xlink:href=\"#m85d9ac503a\" y=\"73.42839\"/>\n     <use style=\"fill:#1f77b4;stroke:#1f77b4;\" x=\"157.82324\" xlink:href=\"#m85d9ac503a\" y=\"94.425966\"/>\n     <use style=\"fill:#1f77b4;stroke:#1f77b4;\" x=\"130.493187\" xlink:href=\"#m85d9ac503a\" y=\"81.228215\"/>\n     <use style=\"fill:#1f77b4;stroke:#1f77b4;\" x=\"146.75881\" xlink:href=\"#m85d9ac503a\" y=\"105.565338\"/>\n     <use style=\"fill:#1f77b4;stroke:#1f77b4;\" x=\"160.036208\" xlink:href=\"#m85d9ac503a\" y=\"98.460413\"/>\n     <use style=\"fill:#1f77b4;stroke:#1f77b4;\" x=\"150.453677\" xlink:href=\"#m85d9ac503a\" y=\"61.162945\"/>\n     <use style=\"fill:#1f77b4;stroke:#1f77b4;\" x=\"172.228869\" xlink:href=\"#m85d9ac503a\" y=\"108.433818\"/>\n     <use style=\"fill:#1f77b4;stroke:#1f77b4;\" x=\"89.938193\" xlink:href=\"#m85d9ac503a\" y=\"42.727545\"/>\n     <use style=\"fill:#1f77b4;stroke:#1f77b4;\" x=\"107.645651\" xlink:href=\"#m85d9ac503a\" y=\"61.945316\"/>\n     <use style=\"fill:#1f77b4;stroke:#1f77b4;\" x=\"130.16413\" xlink:href=\"#m85d9ac503a\" y=\"76.421376\"/>\n     <use style=\"fill:#1f77b4;stroke:#1f77b4;\" x=\"175.584488\" xlink:href=\"#m85d9ac503a\" y=\"100.048922\"/>\n     <use style=\"fill:#1f77b4;stroke:#1f77b4;\" x=\"154.459014\" xlink:href=\"#m85d9ac503a\" y=\"77.762704\"/>\n     <use style=\"fill:#1f77b4;stroke:#1f77b4;\" x=\"124.892831\" xlink:href=\"#m85d9ac503a\" y=\"72.31423\"/>\n     <use style=\"fill:#1f77b4;stroke:#1f77b4;\" x=\"201.042846\" xlink:href=\"#m85d9ac503a\" y=\"118.229067\"/>\n     <use style=\"fill:#1f77b4;stroke:#1f77b4;\" x=\"176.283681\" xlink:href=\"#m85d9ac503a\" y=\"103.962981\"/>\n     <use style=\"fill:#1f77b4;stroke:#1f77b4;\" x=\"129.025671\" xlink:href=\"#m85d9ac503a\" y=\"74.319202\"/>\n     <use style=\"fill:#1f77b4;stroke:#1f77b4;\" x=\"105.319558\" xlink:href=\"#m85d9ac503a\" y=\"56.528943\"/>\n     <use style=\"fill:#1f77b4;stroke:#1f77b4;\" x=\"214.034046\" xlink:href=\"#m85d9ac503a\" y=\"135.340193\"/>\n     <use style=\"fill:#1f77b4;stroke:#1f77b4;\" x=\"144.863339\" xlink:href=\"#m85d9ac503a\" y=\"84.324925\"/>\n     <use style=\"fill:#1f77b4;stroke:#1f77b4;\" x=\"132.449632\" xlink:href=\"#m85d9ac503a\" y=\"96.590734\"/>\n     <use style=\"fill:#1f77b4;stroke:#1f77b4;\" x=\"130.571394\" xlink:href=\"#m85d9ac503a\" y=\"58.580392\"/>\n     <use style=\"fill:#1f77b4;stroke:#1f77b4;\" x=\"88.514246\" xlink:href=\"#m85d9ac503a\" y=\"39.770087\"/>\n     <use style=\"fill:#1f77b4;stroke:#1f77b4;\" x=\"115.391547\" xlink:href=\"#m85d9ac503a\" y=\"75.797826\"/>\n     <use style=\"fill:#1f77b4;stroke:#1f77b4;\" x=\"112.286379\" xlink:href=\"#m85d9ac503a\" y=\"62.255037\"/>\n     <use style=\"fill:#1f77b4;stroke:#1f77b4;\" x=\"126.897527\" xlink:href=\"#m85d9ac503a\" y=\"89.638221\"/>\n     <use style=\"fill:#1f77b4;stroke:#1f77b4;\" x=\"112.145749\" xlink:href=\"#m85d9ac503a\" y=\"60.01315\"/>\n     <use style=\"fill:#1f77b4;stroke:#1f77b4;\" x=\"104.818319\" xlink:href=\"#m85d9ac503a\" y=\"66.979367\"/>\n     <use style=\"fill:#1f77b4;stroke:#1f77b4;\" x=\"86.911667\" xlink:href=\"#m85d9ac503a\" y=\"17.074568\"/>\n     <use style=\"fill:#1f77b4;stroke:#1f77b4;\" x=\"136.943729\" xlink:href=\"#m85d9ac503a\" y=\"80.632167\"/>\n     <use style=\"fill:#1f77b4;stroke:#1f77b4;\" x=\"125.202209\" xlink:href=\"#m85d9ac503a\" y=\"81.667611\"/>\n     <use style=\"fill:#1f77b4;stroke:#1f77b4;\" x=\"122.569724\" xlink:href=\"#m85d9ac503a\" y=\"70.257511\"/>\n     <use style=\"fill:#1f77b4;stroke:#1f77b4;\" x=\"82.209234\" xlink:href=\"#m85d9ac503a\" y=\"37.740415\"/>\n     <use style=\"fill:#1f77b4;stroke:#1f77b4;\" x=\"112.42389\" xlink:href=\"#m85d9ac503a\" y=\"63.169662\"/>\n     <use style=\"fill:#1f77b4;stroke:#1f77b4;\" x=\"168.552047\" xlink:href=\"#m85d9ac503a\" y=\"103.432294\"/>\n     <use style=\"fill:#1f77b4;stroke:#1f77b4;\" x=\"155.865905\" xlink:href=\"#m85d9ac503a\" y=\"81.989927\"/>\n     <use style=\"fill:#1f77b4;stroke:#1f77b4;\" x=\"149.112904\" xlink:href=\"#m85d9ac503a\" y=\"81.611591\"/>\n     <use style=\"fill:#1f77b4;stroke:#1f77b4;\" x=\"111.839285\" xlink:href=\"#m85d9ac503a\" y=\"65.005857\"/>\n     <use style=\"fill:#1f77b4;stroke:#1f77b4;\" x=\"104.143655\" xlink:href=\"#m85d9ac503a\" y=\"61.235173\"/>\n     <use style=\"fill:#1f77b4;stroke:#1f77b4;\" x=\"121.40693\" xlink:href=\"#m85d9ac503a\" y=\"68.334823\"/>\n     <use style=\"fill:#1f77b4;stroke:#1f77b4;\" x=\"160.206695\" xlink:href=\"#m85d9ac503a\" y=\"78.7112\"/>\n     <use style=\"fill:#1f77b4;stroke:#1f77b4;\" x=\"186.391873\" xlink:href=\"#m85d9ac503a\" y=\"117.769073\"/>\n     <use style=\"fill:#1f77b4;stroke:#1f77b4;\" x=\"174.52804\" xlink:href=\"#m85d9ac503a\" y=\"101.983416\"/>\n     <use style=\"fill:#1f77b4;stroke:#1f77b4;\" x=\"103.615137\" xlink:href=\"#m85d9ac503a\" y=\"79.596679\"/>\n     <use style=\"fill:#1f77b4;stroke:#1f77b4;\" x=\"121.528901\" xlink:href=\"#m85d9ac503a\" y=\"79.422142\"/>\n     <use style=\"fill:#1f77b4;stroke:#1f77b4;\" x=\"97.107774\" xlink:href=\"#m85d9ac503a\" y=\"68.116609\"/>\n     <use style=\"fill:#1f77b4;stroke:#1f77b4;\" x=\"134.284633\" xlink:href=\"#m85d9ac503a\" y=\"95.283698\"/>\n     <use style=\"fill:#1f77b4;stroke:#1f77b4;\" x=\"138.747768\" xlink:href=\"#m85d9ac503a\" y=\"89.909814\"/>\n     <use style=\"fill:#1f77b4;stroke:#1f77b4;\" x=\"188.274955\" xlink:href=\"#m85d9ac503a\" y=\"103.700273\"/>\n     <use style=\"fill:#1f77b4;stroke:#1f77b4;\" x=\"149.683943\" xlink:href=\"#m85d9ac503a\" y=\"88.191807\"/>\n     <use style=\"fill:#1f77b4;stroke:#1f77b4;\" x=\"138.590773\" xlink:href=\"#m85d9ac503a\" y=\"79.781121\"/>\n     <use style=\"fill:#1f77b4;stroke:#1f77b4;\" x=\"99.741152\" xlink:href=\"#m85d9ac503a\" y=\"44.173913\"/>\n     <use style=\"fill:#1f77b4;stroke:#1f77b4;\" x=\"121.903653\" xlink:href=\"#m85d9ac503a\" y=\"55.691929\"/>\n     <use style=\"fill:#1f77b4;stroke:#1f77b4;\" x=\"146.817462\" xlink:href=\"#m85d9ac503a\" y=\"107.808342\"/>\n     <use style=\"fill:#1f77b4;stroke:#1f77b4;\" x=\"155.458362\" xlink:href=\"#m85d9ac503a\" y=\"82.748223\"/>\n     <use style=\"fill:#1f77b4;stroke:#1f77b4;\" x=\"116.268976\" xlink:href=\"#m85d9ac503a\" y=\"53.637866\"/>\n     <use style=\"fill:#1f77b4;stroke:#1f77b4;\" x=\"138.976782\" xlink:href=\"#m85d9ac503a\" y=\"75.802439\"/>\n     <use style=\"fill:#1f77b4;stroke:#1f77b4;\" x=\"106.022352\" xlink:href=\"#m85d9ac503a\" y=\"75.516207\"/>\n     <use style=\"fill:#1f77b4;stroke:#1f77b4;\" x=\"128.414133\" xlink:href=\"#m85d9ac503a\" y=\"89.207978\"/>\n     <use style=\"fill:#1f77b4;stroke:#1f77b4;\" x=\"82.587951\" xlink:href=\"#m85d9ac503a\" y=\"54.571841\"/>\n     <use style=\"fill:#1f77b4;stroke:#1f77b4;\" x=\"136.344337\" xlink:href=\"#m85d9ac503a\" y=\"100.643416\"/>\n     <use style=\"fill:#1f77b4;stroke:#1f77b4;\" x=\"130.552813\" xlink:href=\"#m85d9ac503a\" y=\"88.783859\"/>\n     <use style=\"fill:#1f77b4;stroke:#1f77b4;\" x=\"177.665016\" xlink:href=\"#m85d9ac503a\" y=\"106.661429\"/>\n     <use style=\"fill:#1f77b4;stroke:#1f77b4;\" x=\"166.043291\" xlink:href=\"#m85d9ac503a\" y=\"107.333151\"/>\n     <use style=\"fill:#1f77b4;stroke:#1f77b4;\" x=\"154.23146\" xlink:href=\"#m85d9ac503a\" y=\"78.459932\"/>\n     <use style=\"fill:#1f77b4;stroke:#1f77b4;\" x=\"87.296653\" xlink:href=\"#m85d9ac503a\" y=\"56.278257\"/>\n     <use style=\"fill:#1f77b4;stroke:#1f77b4;\" x=\"110.858741\" xlink:href=\"#m85d9ac503a\" y=\"53.3723\"/>\n     <use style=\"fill:#1f77b4;stroke:#1f77b4;\" x=\"134.870008\" xlink:href=\"#m85d9ac503a\" y=\"79.464004\"/>\n     <use style=\"fill:#1f77b4;stroke:#1f77b4;\" x=\"122.779433\" xlink:href=\"#m85d9ac503a\" y=\"87.748111\"/>\n     <use style=\"fill:#1f77b4;stroke:#1f77b4;\" x=\"138.20769\" xlink:href=\"#m85d9ac503a\" y=\"89.610168\"/>\n     <use style=\"fill:#1f77b4;stroke:#1f77b4;\" x=\"91.431316\" xlink:href=\"#m85d9ac503a\" y=\"17.130977\"/>\n     <use style=\"fill:#1f77b4;stroke:#1f77b4;\" x=\"138.819334\" xlink:href=\"#m85d9ac503a\" y=\"77.128717\"/>\n     <use style=\"fill:#1f77b4;stroke:#1f77b4;\" x=\"168.886491\" xlink:href=\"#m85d9ac503a\" y=\"104.508278\"/>\n     <use style=\"fill:#1f77b4;stroke:#1f77b4;\" x=\"133.056995\" xlink:href=\"#m85d9ac503a\" y=\"66.494708\"/>\n     <use style=\"fill:#1f77b4;stroke:#1f77b4;\" x=\"152.430956\" xlink:href=\"#m85d9ac503a\" y=\"85.992424\"/>\n     <use style=\"fill:#1f77b4;stroke:#1f77b4;\" x=\"67.623869\" xlink:href=\"#m85d9ac503a\" y=\"45.804315\"/>\n     <use style=\"fill:#1f77b4;stroke:#1f77b4;\" x=\"102.224648\" xlink:href=\"#m85d9ac503a\" y=\"48.219096\"/>\n     <use style=\"fill:#1f77b4;stroke:#1f77b4;\" x=\"83.174122\" xlink:href=\"#m85d9ac503a\" y=\"63.880595\"/>\n     <use style=\"fill:#1f77b4;stroke:#1f77b4;\" x=\"118.74497\" xlink:href=\"#m85d9ac503a\" y=\"80.638745\"/>\n     <use style=\"fill:#1f77b4;stroke:#1f77b4;\" x=\"177.623264\" xlink:href=\"#m85d9ac503a\" y=\"107.816808\"/>\n     <use style=\"fill:#1f77b4;stroke:#1f77b4;\" x=\"149.733936\" xlink:href=\"#m85d9ac503a\" y=\"81.570856\"/>\n     <use style=\"fill:#1f77b4;stroke:#1f77b4;\" x=\"136.661458\" xlink:href=\"#m85d9ac503a\" y=\"73.39446\"/>\n     <use style=\"fill:#1f77b4;stroke:#1f77b4;\" x=\"155.391588\" xlink:href=\"#m85d9ac503a\" y=\"72.474112\"/>\n     <use style=\"fill:#1f77b4;stroke:#1f77b4;\" x=\"78.152705\" xlink:href=\"#m85d9ac503a\" y=\"37.248683\"/>\n     <use style=\"fill:#1f77b4;stroke:#1f77b4;\" x=\"135.922988\" xlink:href=\"#m85d9ac503a\" y=\"77.324107\"/>\n     <use style=\"fill:#1f77b4;stroke:#1f77b4;\" x=\"130.426093\" xlink:href=\"#m85d9ac503a\" y=\"59.826622\"/>\n     <use style=\"fill:#1f77b4;stroke:#1f77b4;\" x=\"123.112849\" xlink:href=\"#m85d9ac503a\" y=\"72.4468\"/>\n     <use style=\"fill:#1f77b4;stroke:#1f77b4;\" x=\"90.554195\" xlink:href=\"#m85d9ac503a\" y=\"49.323791\"/>\n     <use style=\"fill:#1f77b4;stroke:#1f77b4;\" x=\"117.753207\" xlink:href=\"#m85d9ac503a\" y=\"66.358613\"/>\n     <use style=\"fill:#1f77b4;stroke:#1f77b4;\" x=\"159.869877\" xlink:href=\"#m85d9ac503a\" y=\"79.466343\"/>\n     <use style=\"fill:#1f77b4;stroke:#1f77b4;\" x=\"135.524685\" xlink:href=\"#m85d9ac503a\" y=\"76.134731\"/>\n     <use style=\"fill:#1f77b4;stroke:#1f77b4;\" x=\"134.353286\" xlink:href=\"#m85d9ac503a\" y=\"86.107057\"/>\n     <use style=\"fill:#1f77b4;stroke:#1f77b4;\" x=\"153.806054\" xlink:href=\"#m85d9ac503a\" y=\"82.196679\"/>\n     <use style=\"fill:#1f77b4;stroke:#1f77b4;\" x=\"112.907279\" xlink:href=\"#m85d9ac503a\" y=\"62.128306\"/>\n     <use style=\"fill:#1f77b4;stroke:#1f77b4;\" x=\"127.599456\" xlink:href=\"#m85d9ac503a\" y=\"69.574375\"/>\n     <use style=\"fill:#1f77b4;stroke:#1f77b4;\" x=\"159.375852\" xlink:href=\"#m85d9ac503a\" y=\"90.669449\"/>\n     <use style=\"fill:#1f77b4;stroke:#1f77b4;\" x=\"143.671123\" xlink:href=\"#m85d9ac503a\" y=\"67.543921\"/>\n     <use style=\"fill:#1f77b4;stroke:#1f77b4;\" x=\"112.949889\" xlink:href=\"#m85d9ac503a\" y=\"51.656482\"/>\n     <use style=\"fill:#1f77b4;stroke:#1f77b4;\" x=\"174.085277\" xlink:href=\"#m85d9ac503a\" y=\"122.777518\"/>\n     <use style=\"fill:#1f77b4;stroke:#1f77b4;\" x=\"135.919781\" xlink:href=\"#m85d9ac503a\" y=\"80.748187\"/>\n     <use style=\"fill:#1f77b4;stroke:#1f77b4;\" x=\"131.353466\" xlink:href=\"#m85d9ac503a\" y=\"74.154871\"/>\n     <use style=\"fill:#1f77b4;stroke:#1f77b4;\" x=\"86.709897\" xlink:href=\"#m85d9ac503a\" y=\"55.21108\"/>\n     <use style=\"fill:#1f77b4;stroke:#1f77b4;\" x=\"156.25294\" xlink:href=\"#m85d9ac503a\" y=\"96.988824\"/>\n     <use style=\"fill:#1f77b4;stroke:#1f77b4;\" x=\"145.42046\" xlink:href=\"#m85d9ac503a\" y=\"75.584167\"/>\n     <use style=\"fill:#1f77b4;stroke:#1f77b4;\" x=\"83.093262\" xlink:href=\"#m85d9ac503a\" y=\"42.443766\"/>\n     <use style=\"fill:#1f77b4;stroke:#1f77b4;\" x=\"125.459096\" xlink:href=\"#m85d9ac503a\" y=\"66.470746\"/>\n     <use style=\"fill:#1f77b4;stroke:#1f77b4;\" x=\"99.020467\" xlink:href=\"#m85d9ac503a\" y=\"51.418329\"/>\n     <use style=\"fill:#1f77b4;stroke:#1f77b4;\" x=\"71.445121\" xlink:href=\"#m85d9ac503a\" y=\"54.332477\"/>\n     <use style=\"fill:#1f77b4;stroke:#1f77b4;\" x=\"95.637833\" xlink:href=\"#m85d9ac503a\" y=\"47.093134\"/>\n     <use style=\"fill:#1f77b4;stroke:#1f77b4;\" x=\"90.554564\" xlink:href=\"#m85d9ac503a\" y=\"52.362839\"/>\n     <use style=\"fill:#1f77b4;stroke:#1f77b4;\" x=\"182.596015\" xlink:href=\"#m85d9ac503a\" y=\"97.037508\"/>\n     <use style=\"fill:#1f77b4;stroke:#1f77b4;\" x=\"153.437894\" xlink:href=\"#m85d9ac503a\" y=\"80.88019\"/>\n     <use style=\"fill:#1f77b4;stroke:#1f77b4;\" x=\"102.674428\" xlink:href=\"#m85d9ac503a\" y=\"53.004205\"/>\n     <use style=\"fill:#1f77b4;stroke:#1f77b4;\" x=\"114.908824\" xlink:href=\"#m85d9ac503a\" y=\"66.525925\"/>\n     <use style=\"fill:#1f77b4;stroke:#1f77b4;\" x=\"186.050694\" xlink:href=\"#m85d9ac503a\" y=\"114.370035\"/>\n     <use style=\"fill:#1f77b4;stroke:#1f77b4;\" x=\"147.659383\" xlink:href=\"#m85d9ac503a\" y=\"107.799147\"/>\n     <use style=\"fill:#1f77b4;stroke:#1f77b4;\" x=\"150.971557\" xlink:href=\"#m85d9ac503a\" y=\"112.742383\"/>\n     <use style=\"fill:#1f77b4;stroke:#1f77b4;\" x=\"151.768195\" xlink:href=\"#m85d9ac503a\" y=\"95.064665\"/>\n     <use style=\"fill:#1f77b4;stroke:#1f77b4;\" x=\"103.294152\" xlink:href=\"#m85d9ac503a\" y=\"52.665627\"/>\n     <use style=\"fill:#1f77b4;stroke:#1f77b4;\" x=\"76.051686\" xlink:href=\"#m85d9ac503a\" y=\"36.59614\"/>\n     <use style=\"fill:#1f77b4;stroke:#1f77b4;\" x=\"173.18033\" xlink:href=\"#m85d9ac503a\" y=\"95.663574\"/>\n     <use style=\"fill:#1f77b4;stroke:#1f77b4;\" x=\"140.263259\" xlink:href=\"#m85d9ac503a\" y=\"87.537551\"/>\n     <use style=\"fill:#1f77b4;stroke:#1f77b4;\" x=\"102.093923\" xlink:href=\"#m85d9ac503a\" y=\"44.905861\"/>\n     <use style=\"fill:#1f77b4;stroke:#1f77b4;\" x=\"120.657999\" xlink:href=\"#m85d9ac503a\" y=\"65.417985\"/>\n     <use style=\"fill:#1f77b4;stroke:#1f77b4;\" x=\"114.832227\" xlink:href=\"#m85d9ac503a\" y=\"76.801877\"/>\n     <use style=\"fill:#1f77b4;stroke:#1f77b4;\" x=\"141.279445\" xlink:href=\"#m85d9ac503a\" y=\"92.769889\"/>\n     <use style=\"fill:#1f77b4;stroke:#1f77b4;\" x=\"108.321894\" xlink:href=\"#m85d9ac503a\" y=\"66.425372\"/>\n     <use style=\"fill:#1f77b4;stroke:#1f77b4;\" x=\"126.569663\" xlink:href=\"#m85d9ac503a\" y=\"73.821358\"/>\n     <use style=\"fill:#1f77b4;stroke:#1f77b4;\" x=\"160.714437\" xlink:href=\"#m85d9ac503a\" y=\"97.381631\"/>\n     <use style=\"fill:#1f77b4;stroke:#1f77b4;\" x=\"103.881094\" xlink:href=\"#m85d9ac503a\" y=\"52.629321\"/>\n     <use style=\"fill:#1f77b4;stroke:#1f77b4;\" x=\"128.266339\" xlink:href=\"#m85d9ac503a\" y=\"74.569626\"/>\n     <use style=\"fill:#1f77b4;stroke:#1f77b4;\" x=\"172.677446\" xlink:href=\"#m85d9ac503a\" y=\"110.029648\"/>\n     <use style=\"fill:#1f77b4;stroke:#1f77b4;\" x=\"167.045615\" xlink:href=\"#m85d9ac503a\" y=\"122.102212\"/>\n     <use style=\"fill:#1f77b4;stroke:#1f77b4;\" x=\"147.901047\" xlink:href=\"#m85d9ac503a\" y=\"71.820188\"/>\n     <use style=\"fill:#1f77b4;stroke:#1f77b4;\" x=\"118.231567\" xlink:href=\"#m85d9ac503a\" y=\"66.770226\"/>\n     <use style=\"fill:#1f77b4;stroke:#1f77b4;\" x=\"156.623924\" xlink:href=\"#m85d9ac503a\" y=\"80.897986\"/>\n     <use style=\"fill:#1f77b4;stroke:#1f77b4;\" x=\"197.668381\" xlink:href=\"#m85d9ac503a\" y=\"108.898227\"/>\n     <use style=\"fill:#1f77b4;stroke:#1f77b4;\" x=\"155.056566\" xlink:href=\"#m85d9ac503a\" y=\"91.422485\"/>\n     <use style=\"fill:#1f77b4;stroke:#1f77b4;\" x=\"134.949008\" xlink:href=\"#m85d9ac503a\" y=\"82.038635\"/>\n     <use style=\"fill:#1f77b4;stroke:#1f77b4;\" x=\"103.076912\" xlink:href=\"#m85d9ac503a\" y=\"73.840798\"/>\n     <use style=\"fill:#1f77b4;stroke:#1f77b4;\" x=\"143.95745\" xlink:href=\"#m85d9ac503a\" y=\"76.080169\"/>\n     <use style=\"fill:#1f77b4;stroke:#1f77b4;\" x=\"142.014443\" xlink:href=\"#m85d9ac503a\" y=\"84.538991\"/>\n     <use style=\"fill:#1f77b4;stroke:#1f77b4;\" x=\"147.30527\" xlink:href=\"#m85d9ac503a\" y=\"90.147315\"/>\n     <use style=\"fill:#1f77b4;stroke:#1f77b4;\" x=\"154.352696\" xlink:href=\"#m85d9ac503a\" y=\"83.813097\"/>\n     <use style=\"fill:#1f77b4;stroke:#1f77b4;\" x=\"96.786143\" xlink:href=\"#m85d9ac503a\" y=\"78.305878\"/>\n     <use style=\"fill:#1f77b4;stroke:#1f77b4;\" x=\"104.337053\" xlink:href=\"#m85d9ac503a\" y=\"37.674302\"/>\n     <use style=\"fill:#1f77b4;stroke:#1f77b4;\" x=\"97.205524\" xlink:href=\"#m85d9ac503a\" y=\"58.296304\"/>\n     <use style=\"fill:#1f77b4;stroke:#1f77b4;\" x=\"123.672219\" xlink:href=\"#m85d9ac503a\" y=\"63.840193\"/>\n     <use style=\"fill:#1f77b4;stroke:#1f77b4;\" x=\"168.004525\" xlink:href=\"#m85d9ac503a\" y=\"111.152442\"/>\n     <use style=\"fill:#1f77b4;stroke:#1f77b4;\" x=\"100.551748\" xlink:href=\"#m85d9ac503a\" y=\"45.728619\"/>\n     <use style=\"fill:#1f77b4;stroke:#1f77b4;\" x=\"129.112821\" xlink:href=\"#m85d9ac503a\" y=\"65.352494\"/>\n     <use style=\"fill:#1f77b4;stroke:#1f77b4;\" x=\"125.804629\" xlink:href=\"#m85d9ac503a\" y=\"77.373354\"/>\n     <use style=\"fill:#1f77b4;stroke:#1f77b4;\" x=\"184.9693\" xlink:href=\"#m85d9ac503a\" y=\"90.459836\"/>\n     <use style=\"fill:#1f77b4;stroke:#1f77b4;\" x=\"153.46109\" xlink:href=\"#m85d9ac503a\" y=\"102.392104\"/>\n     <use style=\"fill:#1f77b4;stroke:#1f77b4;\" x=\"104.660629\" xlink:href=\"#m85d9ac503a\" y=\"45.888431\"/>\n     <use style=\"fill:#1f77b4;stroke:#1f77b4;\" x=\"128.679362\" xlink:href=\"#m85d9ac503a\" y=\"89.959302\"/>\n     <use style=\"fill:#1f77b4;stroke:#1f77b4;\" x=\"133.745875\" xlink:href=\"#m85d9ac503a\" y=\"57.101636\"/>\n     <use style=\"fill:#1f77b4;stroke:#1f77b4;\" x=\"99.178198\" xlink:href=\"#m85d9ac503a\" y=\"69.973453\"/>\n     <use style=\"fill:#1f77b4;stroke:#1f77b4;\" x=\"150.464344\" xlink:href=\"#m85d9ac503a\" y=\"83.85067\"/>\n     <use style=\"fill:#1f77b4;stroke:#1f77b4;\" x=\"113.847215\" xlink:href=\"#m85d9ac503a\" y=\"74.601158\"/>\n     <use style=\"fill:#1f77b4;stroke:#1f77b4;\" x=\"97.084291\" xlink:href=\"#m85d9ac503a\" y=\"62.071069\"/>\n     <use style=\"fill:#1f77b4;stroke:#1f77b4;\" x=\"136.601016\" xlink:href=\"#m85d9ac503a\" y=\"69.897823\"/>\n     <use style=\"fill:#1f77b4;stroke:#1f77b4;\" x=\"97.552169\" xlink:href=\"#m85d9ac503a\" y=\"45.678105\"/>\n     <use style=\"fill:#1f77b4;stroke:#1f77b4;\" x=\"164.454483\" xlink:href=\"#m85d9ac503a\" y=\"98.954967\"/>\n     <use style=\"fill:#1f77b4;stroke:#1f77b4;\" x=\"166.715898\" xlink:href=\"#m85d9ac503a\" y=\"100.738841\"/>\n     <use style=\"fill:#1f77b4;stroke:#1f77b4;\" x=\"96.506842\" xlink:href=\"#m85d9ac503a\" y=\"50.772422\"/>\n     <use style=\"fill:#1f77b4;stroke:#1f77b4;\" x=\"170.649942\" xlink:href=\"#m85d9ac503a\" y=\"104.935725\"/>\n     <use style=\"fill:#1f77b4;stroke:#1f77b4;\" x=\"105.710079\" xlink:href=\"#m85d9ac503a\" y=\"86.843702\"/>\n     <use style=\"fill:#1f77b4;stroke:#1f77b4;\" x=\"98.901185\" xlink:href=\"#m85d9ac503a\" y=\"29.883977\"/>\n     <use style=\"fill:#1f77b4;stroke:#1f77b4;\" x=\"165.258294\" xlink:href=\"#m85d9ac503a\" y=\"100.688206\"/>\n     <use style=\"fill:#1f77b4;stroke:#1f77b4;\" x=\"94.840736\" xlink:href=\"#m85d9ac503a\" y=\"50.175145\"/>\n     <use style=\"fill:#1f77b4;stroke:#1f77b4;\" x=\"102.498373\" xlink:href=\"#m85d9ac503a\" y=\"39.215105\"/>\n     <use style=\"fill:#1f77b4;stroke:#1f77b4;\" x=\"64.400809\" xlink:href=\"#m85d9ac503a\" y=\"41.149321\"/>\n     <use style=\"fill:#1f77b4;stroke:#1f77b4;\" x=\"111.775797\" xlink:href=\"#m85d9ac503a\" y=\"67.315722\"/>\n     <use style=\"fill:#1f77b4;stroke:#1f77b4;\" x=\"136.844587\" xlink:href=\"#m85d9ac503a\" y=\"77.260147\"/>\n     <use style=\"fill:#1f77b4;stroke:#1f77b4;\" x=\"175.798556\" xlink:href=\"#m85d9ac503a\" y=\"82.166383\"/>\n     <use style=\"fill:#1f77b4;stroke:#1f77b4;\" x=\"101.054176\" xlink:href=\"#m85d9ac503a\" y=\"45.753479\"/>\n     <use style=\"fill:#1f77b4;stroke:#1f77b4;\" x=\"114.209072\" xlink:href=\"#m85d9ac503a\" y=\"69.834092\"/>\n     <use style=\"fill:#1f77b4;stroke:#1f77b4;\" x=\"126.469198\" xlink:href=\"#m85d9ac503a\" y=\"70.965539\"/>\n     <use style=\"fill:#1f77b4;stroke:#1f77b4;\" x=\"117.021665\" xlink:href=\"#m85d9ac503a\" y=\"57.309528\"/>\n     <use style=\"fill:#1f77b4;stroke:#1f77b4;\" x=\"119.20634\" xlink:href=\"#m85d9ac503a\" y=\"61.464915\"/>\n     <use style=\"fill:#1f77b4;stroke:#1f77b4;\" x=\"140.254751\" xlink:href=\"#m85d9ac503a\" y=\"82.606381\"/>\n     <use style=\"fill:#1f77b4;stroke:#1f77b4;\" x=\"123.823073\" xlink:href=\"#m85d9ac503a\" y=\"70.787996\"/>\n     <use style=\"fill:#1f77b4;stroke:#1f77b4;\" x=\"135.577762\" xlink:href=\"#m85d9ac503a\" y=\"74.555604\"/>\n     <use style=\"fill:#1f77b4;stroke:#1f77b4;\" x=\"120.678601\" xlink:href=\"#m85d9ac503a\" y=\"58.335773\"/>\n     <use style=\"fill:#1f77b4;stroke:#1f77b4;\" x=\"126.550191\" xlink:href=\"#m85d9ac503a\" y=\"77.939089\"/>\n     <use style=\"fill:#1f77b4;stroke:#1f77b4;\" x=\"180.104926\" xlink:href=\"#m85d9ac503a\" y=\"96.171149\"/>\n     <use style=\"fill:#1f77b4;stroke:#1f77b4;\" x=\"85.081415\" xlink:href=\"#m85d9ac503a\" y=\"55.750674\"/>\n     <use style=\"fill:#1f77b4;stroke:#1f77b4;\" x=\"101.562982\" xlink:href=\"#m85d9ac503a\" y=\"62.64844\"/>\n     <use style=\"fill:#1f77b4;stroke:#1f77b4;\" x=\"159.768807\" xlink:href=\"#m85d9ac503a\" y=\"91.864497\"/>\n     <use style=\"fill:#1f77b4;stroke:#1f77b4;\" x=\"106.613854\" xlink:href=\"#m85d9ac503a\" y=\"65.485122\"/>\n     <use style=\"fill:#1f77b4;stroke:#1f77b4;\" x=\"140.6819\" xlink:href=\"#m85d9ac503a\" y=\"60.07028\"/>\n     <use style=\"fill:#1f77b4;stroke:#1f77b4;\" x=\"157.860631\" xlink:href=\"#m85d9ac503a\" y=\"91.238898\"/>\n     <use style=\"fill:#1f77b4;stroke:#1f77b4;\" x=\"130.906753\" xlink:href=\"#m85d9ac503a\" y=\"74.571725\"/>\n     <use style=\"fill:#1f77b4;stroke:#1f77b4;\" x=\"133.477384\" xlink:href=\"#m85d9ac503a\" y=\"98.008539\"/>\n     <use style=\"fill:#1f77b4;stroke:#1f77b4;\" x=\"196.006507\" xlink:href=\"#m85d9ac503a\" y=\"126.575401\"/>\n     <use style=\"fill:#1f77b4;stroke:#1f77b4;\" x=\"152.604109\" xlink:href=\"#m85d9ac503a\" y=\"90.243989\"/>\n     <use style=\"fill:#1f77b4;stroke:#1f77b4;\" x=\"92.374772\" xlink:href=\"#m85d9ac503a\" y=\"58.273068\"/>\n     <use style=\"fill:#1f77b4;stroke:#1f77b4;\" x=\"102.957165\" xlink:href=\"#m85d9ac503a\" y=\"55.640415\"/>\n     <use style=\"fill:#1f77b4;stroke:#1f77b4;\" x=\"121.744751\" xlink:href=\"#m85d9ac503a\" y=\"87.077507\"/>\n     <use style=\"fill:#1f77b4;stroke:#1f77b4;\" x=\"116.168411\" xlink:href=\"#m85d9ac503a\" y=\"55.843047\"/>\n     <use style=\"fill:#1f77b4;stroke:#1f77b4;\" x=\"125.544566\" xlink:href=\"#m85d9ac503a\" y=\"73.642131\"/>\n     <use style=\"fill:#1f77b4;stroke:#1f77b4;\" x=\"133.466983\" xlink:href=\"#m85d9ac503a\" y=\"98.992376\"/>\n     <use style=\"fill:#1f77b4;stroke:#1f77b4;\" x=\"168.02095\" xlink:href=\"#m85d9ac503a\" y=\"107.087615\"/>\n     <use style=\"fill:#1f77b4;stroke:#1f77b4;\" x=\"133.793548\" xlink:href=\"#m85d9ac503a\" y=\"67.03109\"/>\n     <use style=\"fill:#1f77b4;stroke:#1f77b4;\" x=\"151.488929\" xlink:href=\"#m85d9ac503a\" y=\"62.348202\"/>\n     <use style=\"fill:#1f77b4;stroke:#1f77b4;\" x=\"97.692033\" xlink:href=\"#m85d9ac503a\" y=\"47.98301\"/>\n     <use style=\"fill:#1f77b4;stroke:#1f77b4;\" x=\"106.320141\" xlink:href=\"#m85d9ac503a\" y=\"58.091344\"/>\n     <use style=\"fill:#1f77b4;stroke:#1f77b4;\" x=\"130.845248\" xlink:href=\"#m85d9ac503a\" y=\"75.483064\"/>\n     <use style=\"fill:#1f77b4;stroke:#1f77b4;\" x=\"157.743571\" xlink:href=\"#m85d9ac503a\" y=\"102.584687\"/>\n     <use style=\"fill:#1f77b4;stroke:#1f77b4;\" x=\"120.80355\" xlink:href=\"#m85d9ac503a\" y=\"87.989712\"/>\n     <use style=\"fill:#1f77b4;stroke:#1f77b4;\" x=\"98.740072\" xlink:href=\"#m85d9ac503a\" y=\"56.682179\"/>\n     <use style=\"fill:#1f77b4;stroke:#1f77b4;\" x=\"102.933467\" xlink:href=\"#m85d9ac503a\" y=\"60.764286\"/>\n     <use style=\"fill:#1f77b4;stroke:#1f77b4;\" x=\"66.568525\" xlink:href=\"#m85d9ac503a\" y=\"27.368478\"/>\n     <use style=\"fill:#1f77b4;stroke:#1f77b4;\" x=\"82.78857\" xlink:href=\"#m85d9ac503a\" y=\"43.908052\"/>\n     <use style=\"fill:#1f77b4;stroke:#1f77b4;\" x=\"116.612945\" xlink:href=\"#m85d9ac503a\" y=\"77.330496\"/>\n     <use style=\"fill:#1f77b4;stroke:#1f77b4;\" x=\"117.593108\" xlink:href=\"#m85d9ac503a\" y=\"76.717856\"/>\n     <use style=\"fill:#1f77b4;stroke:#1f77b4;\" x=\"186.071437\" xlink:href=\"#m85d9ac503a\" y=\"127.263418\"/>\n     <use style=\"fill:#1f77b4;stroke:#1f77b4;\" x=\"161.680101\" xlink:href=\"#m85d9ac503a\" y=\"94.098519\"/>\n     <use style=\"fill:#1f77b4;stroke:#1f77b4;\" x=\"109.629837\" xlink:href=\"#m85d9ac503a\" y=\"63.880853\"/>\n     <use style=\"fill:#1f77b4;stroke:#1f77b4;\" x=\"97.790458\" xlink:href=\"#m85d9ac503a\" y=\"57.263426\"/>\n     <use style=\"fill:#1f77b4;stroke:#1f77b4;\" x=\"159.507842\" xlink:href=\"#m85d9ac503a\" y=\"80.32204\"/>\n     <use style=\"fill:#1f77b4;stroke:#1f77b4;\" x=\"150.570575\" xlink:href=\"#m85d9ac503a\" y=\"90.726469\"/>\n     <use style=\"fill:#1f77b4;stroke:#1f77b4;\" x=\"163.632462\" xlink:href=\"#m85d9ac503a\" y=\"108.865421\"/>\n     <use style=\"fill:#1f77b4;stroke:#1f77b4;\" x=\"158.959953\" xlink:href=\"#m85d9ac503a\" y=\"105.853663\"/>\n     <use style=\"fill:#1f77b4;stroke:#1f77b4;\" x=\"141.852868\" xlink:href=\"#m85d9ac503a\" y=\"84.082606\"/>\n     <use style=\"fill:#1f77b4;stroke:#1f77b4;\" x=\"98.55846\" xlink:href=\"#m85d9ac503a\" y=\"58.306453\"/>\n     <use style=\"fill:#1f77b4;stroke:#1f77b4;\" x=\"63.598124\" xlink:href=\"#m85d9ac503a\" y=\"13.377273\"/>\n     <use style=\"fill:#1f77b4;stroke:#1f77b4;\" x=\"77.9079\" xlink:href=\"#m85d9ac503a\" y=\"41.639684\"/>\n     <use style=\"fill:#1f77b4;stroke:#1f77b4;\" x=\"126.492337\" xlink:href=\"#m85d9ac503a\" y=\"80.278744\"/>\n     <use style=\"fill:#1f77b4;stroke:#1f77b4;\" x=\"178.306315\" xlink:href=\"#m85d9ac503a\" y=\"84.880053\"/>\n     <use style=\"fill:#1f77b4;stroke:#1f77b4;\" x=\"121.931822\" xlink:href=\"#m85d9ac503a\" y=\"72.76633\"/>\n     <use style=\"fill:#1f77b4;stroke:#1f77b4;\" x=\"169.261936\" xlink:href=\"#m85d9ac503a\" y=\"103.999594\"/>\n     <use style=\"fill:#1f77b4;stroke:#1f77b4;\" x=\"119.670096\" xlink:href=\"#m85d9ac503a\" y=\"76.85486\"/>\n     <use style=\"fill:#1f77b4;stroke:#1f77b4;\" x=\"131.434419\" xlink:href=\"#m85d9ac503a\" y=\"73.411497\"/>\n     <use style=\"fill:#1f77b4;stroke:#1f77b4;\" x=\"148.420924\" xlink:href=\"#m85d9ac503a\" y=\"92.995642\"/>\n     <use style=\"fill:#1f77b4;stroke:#1f77b4;\" x=\"138.141766\" xlink:href=\"#m85d9ac503a\" y=\"76.680819\"/>\n     <use style=\"fill:#1f77b4;stroke:#1f77b4;\" x=\"131.055506\" xlink:href=\"#m85d9ac503a\" y=\"66.303941\"/>\n     <use style=\"fill:#1f77b4;stroke:#1f77b4;\" x=\"172.318418\" xlink:href=\"#m85d9ac503a\" y=\"103.633761\"/>\n     <use style=\"fill:#1f77b4;stroke:#1f77b4;\" x=\"146.762586\" xlink:href=\"#m85d9ac503a\" y=\"84.658805\"/>\n     <use style=\"fill:#1f77b4;stroke:#1f77b4;\" x=\"164.383067\" xlink:href=\"#m85d9ac503a\" y=\"96.235536\"/>\n     <use style=\"fill:#1f77b4;stroke:#1f77b4;\" x=\"141.645672\" xlink:href=\"#m85d9ac503a\" y=\"95.087373\"/>\n     <use style=\"fill:#1f77b4;stroke:#1f77b4;\" x=\"113.397026\" xlink:href=\"#m85d9ac503a\" y=\"86.962926\"/>\n     <use style=\"fill:#1f77b4;stroke:#1f77b4;\" x=\"130.421887\" xlink:href=\"#m85d9ac503a\" y=\"104.280421\"/>\n     <use style=\"fill:#1f77b4;stroke:#1f77b4;\" x=\"136.624646\" xlink:href=\"#m85d9ac503a\" y=\"91.34493\"/>\n     <use style=\"fill:#1f77b4;stroke:#1f77b4;\" x=\"95.710587\" xlink:href=\"#m85d9ac503a\" y=\"54.60129\"/>\n     <use style=\"fill:#1f77b4;stroke:#1f77b4;\" x=\"145.253649\" xlink:href=\"#m85d9ac503a\" y=\"79.013412\"/>\n     <use style=\"fill:#1f77b4;stroke:#1f77b4;\" x=\"114.434751\" xlink:href=\"#m85d9ac503a\" y=\"76.8302\"/>\n     <use style=\"fill:#1f77b4;stroke:#1f77b4;\" x=\"143.294691\" xlink:href=\"#m85d9ac503a\" y=\"76.859164\"/>\n     <use style=\"fill:#1f77b4;stroke:#1f77b4;\" x=\"151.837453\" xlink:href=\"#m85d9ac503a\" y=\"105.52847\"/>\n     <use style=\"fill:#1f77b4;stroke:#1f77b4;\" x=\"71.522621\" xlink:href=\"#m85d9ac503a\" y=\"59.979076\"/>\n     <use style=\"fill:#1f77b4;stroke:#1f77b4;\" x=\"140.037854\" xlink:href=\"#m85d9ac503a\" y=\"91.704589\"/>\n     <use style=\"fill:#1f77b4;stroke:#1f77b4;\" x=\"87.841987\" xlink:href=\"#m85d9ac503a\" y=\"56.955557\"/>\n     <use style=\"fill:#1f77b4;stroke:#1f77b4;\" x=\"103.56442\" xlink:href=\"#m85d9ac503a\" y=\"51.424986\"/>\n     <use style=\"fill:#1f77b4;stroke:#1f77b4;\" x=\"93.208879\" xlink:href=\"#m85d9ac503a\" y=\"35.960653\"/>\n     <use style=\"fill:#1f77b4;stroke:#1f77b4;\" x=\"109.144798\" xlink:href=\"#m85d9ac503a\" y=\"77.794737\"/>\n     <use style=\"fill:#1f77b4;stroke:#1f77b4;\" x=\"134.962584\" xlink:href=\"#m85d9ac503a\" y=\"53.323159\"/>\n     <use style=\"fill:#1f77b4;stroke:#1f77b4;\" x=\"129.957627\" xlink:href=\"#m85d9ac503a\" y=\"79.891113\"/>\n     <use style=\"fill:#1f77b4;stroke:#1f77b4;\" x=\"163.115954\" xlink:href=\"#m85d9ac503a\" y=\"95.214859\"/>\n     <use style=\"fill:#1f77b4;stroke:#1f77b4;\" x=\"141.54512\" xlink:href=\"#m85d9ac503a\" y=\"76.161211\"/>\n     <use style=\"fill:#1f77b4;stroke:#1f77b4;\" x=\"69.28712\" xlink:href=\"#m85d9ac503a\" y=\"39.507573\"/>\n     <use style=\"fill:#1f77b4;stroke:#1f77b4;\" x=\"119.466705\" xlink:href=\"#m85d9ac503a\" y=\"79.267601\"/>\n     <use style=\"fill:#1f77b4;stroke:#1f77b4;\" x=\"167.14716\" xlink:href=\"#m85d9ac503a\" y=\"105.187134\"/>\n     <use style=\"fill:#1f77b4;stroke:#1f77b4;\" x=\"178.055309\" xlink:href=\"#m85d9ac503a\" y=\"109.713524\"/>\n     <use style=\"fill:#1f77b4;stroke:#1f77b4;\" x=\"147.040056\" xlink:href=\"#m85d9ac503a\" y=\"72.302134\"/>\n     <use style=\"fill:#1f77b4;stroke:#1f77b4;\" x=\"181.355147\" xlink:href=\"#m85d9ac503a\" y=\"96.755405\"/>\n     <use style=\"fill:#1f77b4;stroke:#1f77b4;\" x=\"96.362122\" xlink:href=\"#m85d9ac503a\" y=\"59.194079\"/>\n     <use style=\"fill:#1f77b4;stroke:#1f77b4;\" x=\"128.055674\" xlink:href=\"#m85d9ac503a\" y=\"74.779683\"/>\n     <use style=\"fill:#1f77b4;stroke:#1f77b4;\" x=\"150.892193\" xlink:href=\"#m85d9ac503a\" y=\"81.487258\"/>\n     <use style=\"fill:#1f77b4;stroke:#1f77b4;\" x=\"124.633379\" xlink:href=\"#m85d9ac503a\" y=\"64.98176\"/>\n     <use style=\"fill:#1f77b4;stroke:#1f77b4;\" x=\"111.487745\" xlink:href=\"#m85d9ac503a\" y=\"63.459033\"/>\n     <use style=\"fill:#1f77b4;stroke:#1f77b4;\" x=\"110.157362\" xlink:href=\"#m85d9ac503a\" y=\"57.593081\"/>\n     <use style=\"fill:#1f77b4;stroke:#1f77b4;\" x=\"138.571506\" xlink:href=\"#m85d9ac503a\" y=\"68.692609\"/>\n     <use style=\"fill:#1f77b4;stroke:#1f77b4;\" x=\"136.804991\" xlink:href=\"#m85d9ac503a\" y=\"87.370487\"/>\n     <use style=\"fill:#1f77b4;stroke:#1f77b4;\" x=\"134.51246\" xlink:href=\"#m85d9ac503a\" y=\"72.393941\"/>\n     <use style=\"fill:#1f77b4;stroke:#1f77b4;\" x=\"180.025311\" xlink:href=\"#m85d9ac503a\" y=\"102.240865\"/>\n     <use style=\"fill:#1f77b4;stroke:#1f77b4;\" x=\"115.901516\" xlink:href=\"#m85d9ac503a\" y=\"81.630745\"/>\n     <use style=\"fill:#1f77b4;stroke:#1f77b4;\" x=\"74.568946\" xlink:href=\"#m85d9ac503a\" y=\"29.792031\"/>\n     <use style=\"fill:#1f77b4;stroke:#1f77b4;\" x=\"104.852182\" xlink:href=\"#m85d9ac503a\" y=\"66.582773\"/>\n     <use style=\"fill:#1f77b4;stroke:#1f77b4;\" x=\"121.688464\" xlink:href=\"#m85d9ac503a\" y=\"74.574972\"/>\n     <use style=\"fill:#1f77b4;stroke:#1f77b4;\" x=\"189.409387\" xlink:href=\"#m85d9ac503a\" y=\"100.297903\"/>\n     <use style=\"fill:#1f77b4;stroke:#1f77b4;\" x=\"121.56142\" xlink:href=\"#m85d9ac503a\" y=\"60.850238\"/>\n     <use style=\"fill:#1f77b4;stroke:#1f77b4;\" x=\"142.245758\" xlink:href=\"#m85d9ac503a\" y=\"96.385257\"/>\n     <use style=\"fill:#1f77b4;stroke:#1f77b4;\" x=\"125.283865\" xlink:href=\"#m85d9ac503a\" y=\"75.45847\"/>\n     <use style=\"fill:#1f77b4;stroke:#1f77b4;\" x=\"129.426213\" xlink:href=\"#m85d9ac503a\" y=\"89.2672\"/>\n     <use style=\"fill:#1f77b4;stroke:#1f77b4;\" x=\"182.624379\" xlink:href=\"#m85d9ac503a\" y=\"126.914499\"/>\n     <use style=\"fill:#1f77b4;stroke:#1f77b4;\" x=\"196.658934\" xlink:href=\"#m85d9ac503a\" y=\"131.535514\"/>\n     <use style=\"fill:#1f77b4;stroke:#1f77b4;\" x=\"153.910886\" xlink:href=\"#m85d9ac503a\" y=\"97.590459\"/>\n     <use style=\"fill:#1f77b4;stroke:#1f77b4;\" x=\"185.084465\" xlink:href=\"#m85d9ac503a\" y=\"119.063672\"/>\n     <use style=\"fill:#1f77b4;stroke:#1f77b4;\" x=\"128.445866\" xlink:href=\"#m85d9ac503a\" y=\"70.40194\"/>\n     <use style=\"fill:#1f77b4;stroke:#1f77b4;\" x=\"154.161505\" xlink:href=\"#m85d9ac503a\" y=\"93.149311\"/>\n     <use style=\"fill:#1f77b4;stroke:#1f77b4;\" x=\"170.814688\" xlink:href=\"#m85d9ac503a\" y=\"87.670376\"/>\n     <use style=\"fill:#1f77b4;stroke:#1f77b4;\" x=\"86.301605\" xlink:href=\"#m85d9ac503a\" y=\"37.813405\"/>\n     <use style=\"fill:#1f77b4;stroke:#1f77b4;\" x=\"110.893019\" xlink:href=\"#m85d9ac503a\" y=\"64.82629\"/>\n     <use style=\"fill:#1f77b4;stroke:#1f77b4;\" x=\"146.061912\" xlink:href=\"#m85d9ac503a\" y=\"74.864754\"/>\n     <use style=\"fill:#1f77b4;stroke:#1f77b4;\" x=\"110.920265\" xlink:href=\"#m85d9ac503a\" y=\"65.687251\"/>\n     <use style=\"fill:#1f77b4;stroke:#1f77b4;\" x=\"85.908841\" xlink:href=\"#m85d9ac503a\" y=\"51.617229\"/>\n     <use style=\"fill:#1f77b4;stroke:#1f77b4;\" x=\"125.534292\" xlink:href=\"#m85d9ac503a\" y=\"82.750656\"/>\n     <use style=\"fill:#1f77b4;stroke:#1f77b4;\" x=\"104.588276\" xlink:href=\"#m85d9ac503a\" y=\"66.989627\"/>\n     <use style=\"fill:#1f77b4;stroke:#1f77b4;\" x=\"93.944959\" xlink:href=\"#m85d9ac503a\" y=\"66.000711\"/>\n     <use style=\"fill:#1f77b4;stroke:#1f77b4;\" x=\"136.759108\" xlink:href=\"#m85d9ac503a\" y=\"64.124393\"/>\n     <use style=\"fill:#1f77b4;stroke:#1f77b4;\" x=\"158.905832\" xlink:href=\"#m85d9ac503a\" y=\"93.709388\"/>\n     <use style=\"fill:#1f77b4;stroke:#1f77b4;\" x=\"104.446888\" xlink:href=\"#m85d9ac503a\" y=\"54.703019\"/>\n     <use style=\"fill:#1f77b4;stroke:#1f77b4;\" x=\"113.975713\" xlink:href=\"#m85d9ac503a\" y=\"64.904859\"/>\n     <use style=\"fill:#1f77b4;stroke:#1f77b4;\" x=\"114.294954\" xlink:href=\"#m85d9ac503a\" y=\"64.81567\"/>\n     <use style=\"fill:#1f77b4;stroke:#1f77b4;\" x=\"157.1846\" xlink:href=\"#m85d9ac503a\" y=\"88.976872\"/>\n     <use style=\"fill:#1f77b4;stroke:#1f77b4;\" x=\"189.169211\" xlink:href=\"#m85d9ac503a\" y=\"114.524176\"/>\n     <use style=\"fill:#1f77b4;stroke:#1f77b4;\" x=\"112.62414\" xlink:href=\"#m85d9ac503a\" y=\"67.809432\"/>\n     <use style=\"fill:#1f77b4;stroke:#1f77b4;\" x=\"137.155464\" xlink:href=\"#m85d9ac503a\" y=\"96.336076\"/>\n     <use style=\"fill:#1f77b4;stroke:#1f77b4;\" x=\"123.094283\" xlink:href=\"#m85d9ac503a\" y=\"72.046432\"/>\n     <use style=\"fill:#1f77b4;stroke:#1f77b4;\" x=\"143.310501\" xlink:href=\"#m85d9ac503a\" y=\"77.237066\"/>\n     <use style=\"fill:#1f77b4;stroke:#1f77b4;\" x=\"162.306911\" xlink:href=\"#m85d9ac503a\" y=\"95.337437\"/>\n     <use style=\"fill:#1f77b4;stroke:#1f77b4;\" x=\"138.42246\" xlink:href=\"#m85d9ac503a\" y=\"105.091826\"/>\n     <use style=\"fill:#1f77b4;stroke:#1f77b4;\" x=\"137.376598\" xlink:href=\"#m85d9ac503a\" y=\"76.529628\"/>\n     <use style=\"fill:#1f77b4;stroke:#1f77b4;\" x=\"110.776099\" xlink:href=\"#m85d9ac503a\" y=\"70.018147\"/>\n     <use style=\"fill:#1f77b4;stroke:#1f77b4;\" x=\"112.626641\" xlink:href=\"#m85d9ac503a\" y=\"74.563768\"/>\n     <use style=\"fill:#1f77b4;stroke:#1f77b4;\" x=\"61.278178\" xlink:href=\"#m85d9ac503a\" y=\"43.572143\"/>\n     <use style=\"fill:#1f77b4;stroke:#1f77b4;\" x=\"99.517595\" xlink:href=\"#m85d9ac503a\" y=\"51.761248\"/>\n     <use style=\"fill:#1f77b4;stroke:#1f77b4;\" x=\"156.019917\" xlink:href=\"#m85d9ac503a\" y=\"94.084503\"/>\n     <use style=\"fill:#1f77b4;stroke:#1f77b4;\" x=\"120.046944\" xlink:href=\"#m85d9ac503a\" y=\"65.695405\"/>\n     <use style=\"fill:#1f77b4;stroke:#1f77b4;\" x=\"122.581553\" xlink:href=\"#m85d9ac503a\" y=\"74.893513\"/>\n     <use style=\"fill:#1f77b4;stroke:#1f77b4;\" x=\"145.801305\" xlink:href=\"#m85d9ac503a\" y=\"84.143734\"/>\n     <use style=\"fill:#1f77b4;stroke:#1f77b4;\" x=\"97.806984\" xlink:href=\"#m85d9ac503a\" y=\"61.58221\"/>\n     <use style=\"fill:#1f77b4;stroke:#1f77b4;\" x=\"146.005924\" xlink:href=\"#m85d9ac503a\" y=\"65.404137\"/>\n     <use style=\"fill:#1f77b4;stroke:#1f77b4;\" x=\"133.923398\" xlink:href=\"#m85d9ac503a\" y=\"97.756692\"/>\n     <use style=\"fill:#1f77b4;stroke:#1f77b4;\" x=\"141.896468\" xlink:href=\"#m85d9ac503a\" y=\"73.926942\"/>\n     <use style=\"fill:#1f77b4;stroke:#1f77b4;\" x=\"136.897148\" xlink:href=\"#m85d9ac503a\" y=\"85.185428\"/>\n     <use style=\"fill:#1f77b4;stroke:#1f77b4;\" x=\"114.507311\" xlink:href=\"#m85d9ac503a\" y=\"53.287626\"/>\n     <use style=\"fill:#1f77b4;stroke:#1f77b4;\" x=\"141.840387\" xlink:href=\"#m85d9ac503a\" y=\"89.329108\"/>\n     <use style=\"fill:#1f77b4;stroke:#1f77b4;\" x=\"141.674249\" xlink:href=\"#m85d9ac503a\" y=\"111.149469\"/>\n     <use style=\"fill:#1f77b4;stroke:#1f77b4;\" x=\"94.425493\" xlink:href=\"#m85d9ac503a\" y=\"46.732028\"/>\n     <use style=\"fill:#1f77b4;stroke:#1f77b4;\" x=\"119.473327\" xlink:href=\"#m85d9ac503a\" y=\"75.584664\"/>\n     <use style=\"fill:#1f77b4;stroke:#1f77b4;\" x=\"37.81946\" xlink:href=\"#m85d9ac503a\" y=\"25.057105\"/>\n     <use style=\"fill:#1f77b4;stroke:#1f77b4;\" x=\"93.03993\" xlink:href=\"#m85d9ac503a\" y=\"55.475468\"/>\n     <use style=\"fill:#1f77b4;stroke:#1f77b4;\" x=\"166.854744\" xlink:href=\"#m85d9ac503a\" y=\"105.194775\"/>\n     <use style=\"fill:#1f77b4;stroke:#1f77b4;\" x=\"97.081691\" xlink:href=\"#m85d9ac503a\" y=\"77.816255\"/>\n     <use style=\"fill:#1f77b4;stroke:#1f77b4;\" x=\"158.162494\" xlink:href=\"#m85d9ac503a\" y=\"96.31866\"/>\n     <use style=\"fill:#1f77b4;stroke:#1f77b4;\" x=\"120.057323\" xlink:href=\"#m85d9ac503a\" y=\"66.564273\"/>\n     <use style=\"fill:#1f77b4;stroke:#1f77b4;\" x=\"173.900753\" xlink:href=\"#m85d9ac503a\" y=\"105.346546\"/>\n     <use style=\"fill:#1f77b4;stroke:#1f77b4;\" x=\"112.660207\" xlink:href=\"#m85d9ac503a\" y=\"85.485062\"/>\n     <use style=\"fill:#1f77b4;stroke:#1f77b4;\" x=\"133.594207\" xlink:href=\"#m85d9ac503a\" y=\"50.724812\"/>\n     <use style=\"fill:#1f77b4;stroke:#1f77b4;\" x=\"148.831243\" xlink:href=\"#m85d9ac503a\" y=\"75.99267\"/>\n     <use style=\"fill:#1f77b4;stroke:#1f77b4;\" x=\"129.365511\" xlink:href=\"#m85d9ac503a\" y=\"77.493923\"/>\n     <use style=\"fill:#1f77b4;stroke:#1f77b4;\" x=\"199.862298\" xlink:href=\"#m85d9ac503a\" y=\"113.679329\"/>\n     <use style=\"fill:#1f77b4;stroke:#1f77b4;\" x=\"125.78813\" xlink:href=\"#m85d9ac503a\" y=\"92.385361\"/>\n     <use style=\"fill:#1f77b4;stroke:#1f77b4;\" x=\"158.202131\" xlink:href=\"#m85d9ac503a\" y=\"110.22401\"/>\n     <use style=\"fill:#1f77b4;stroke:#1f77b4;\" x=\"143.812017\" xlink:href=\"#m85d9ac503a\" y=\"87.840003\"/>\n     <use style=\"fill:#1f77b4;stroke:#1f77b4;\" x=\"140.207789\" xlink:href=\"#m85d9ac503a\" y=\"86.248087\"/>\n     <use style=\"fill:#1f77b4;stroke:#1f77b4;\" x=\"139.835148\" xlink:href=\"#m85d9ac503a\" y=\"76.664031\"/>\n     <use style=\"fill:#1f77b4;stroke:#1f77b4;\" x=\"85.885494\" xlink:href=\"#m85d9ac503a\" y=\"39.722372\"/>\n     <use style=\"fill:#1f77b4;stroke:#1f77b4;\" x=\"171.422512\" xlink:href=\"#m85d9ac503a\" y=\"94.533289\"/>\n     <use style=\"fill:#1f77b4;stroke:#1f77b4;\" x=\"132.496543\" xlink:href=\"#m85d9ac503a\" y=\"86.265132\"/>\n     <use style=\"fill:#1f77b4;stroke:#1f77b4;\" x=\"114.427549\" xlink:href=\"#m85d9ac503a\" y=\"69.113339\"/>\n     <use style=\"fill:#1f77b4;stroke:#1f77b4;\" x=\"157.339801\" xlink:href=\"#m85d9ac503a\" y=\"91.774911\"/>\n     <use style=\"fill:#1f77b4;stroke:#1f77b4;\" x=\"146.738017\" xlink:href=\"#m85d9ac503a\" y=\"94.927642\"/>\n     <use style=\"fill:#1f77b4;stroke:#1f77b4;\" x=\"106.106097\" xlink:href=\"#m85d9ac503a\" y=\"57.19375\"/>\n     <use style=\"fill:#1f77b4;stroke:#1f77b4;\" x=\"165.454706\" xlink:href=\"#m85d9ac503a\" y=\"106.702877\"/>\n     <use style=\"fill:#1f77b4;stroke:#1f77b4;\" x=\"96.114354\" xlink:href=\"#m85d9ac503a\" y=\"58.039598\"/>\n     <use style=\"fill:#1f77b4;stroke:#1f77b4;\" x=\"127.976736\" xlink:href=\"#m85d9ac503a\" y=\"68.584699\"/>\n     <use style=\"fill:#1f77b4;stroke:#1f77b4;\" x=\"141.640981\" xlink:href=\"#m85d9ac503a\" y=\"81.956052\"/>\n     <use style=\"fill:#1f77b4;stroke:#1f77b4;\" x=\"161.712883\" xlink:href=\"#m85d9ac503a\" y=\"86.411762\"/>\n     <use style=\"fill:#1f77b4;stroke:#1f77b4;\" x=\"163.626968\" xlink:href=\"#m85d9ac503a\" y=\"85.108332\"/>\n     <use style=\"fill:#1f77b4;stroke:#1f77b4;\" x=\"188.943513\" xlink:href=\"#m85d9ac503a\" y=\"104.883211\"/>\n     <use style=\"fill:#1f77b4;stroke:#1f77b4;\" x=\"172.237103\" xlink:href=\"#m85d9ac503a\" y=\"116.627231\"/>\n     <use style=\"fill:#1f77b4;stroke:#1f77b4;\" x=\"162.21638\" xlink:href=\"#m85d9ac503a\" y=\"81.585898\"/>\n     <use style=\"fill:#1f77b4;stroke:#1f77b4;\" x=\"106.162615\" xlink:href=\"#m85d9ac503a\" y=\"69.266217\"/>\n     <use style=\"fill:#1f77b4;stroke:#1f77b4;\" x=\"116.791443\" xlink:href=\"#m85d9ac503a\" y=\"50.064133\"/>\n     <use style=\"fill:#1f77b4;stroke:#1f77b4;\" x=\"150.289215\" xlink:href=\"#m85d9ac503a\" y=\"91.32397\"/>\n     <use style=\"fill:#1f77b4;stroke:#1f77b4;\" x=\"124.063986\" xlink:href=\"#m85d9ac503a\" y=\"82.408908\"/>\n     <use style=\"fill:#1f77b4;stroke:#1f77b4;\" x=\"122.778858\" xlink:href=\"#m85d9ac503a\" y=\"67.118179\"/>\n     <use style=\"fill:#1f77b4;stroke:#1f77b4;\" x=\"157.343423\" xlink:href=\"#m85d9ac503a\" y=\"86.500398\"/>\n     <use style=\"fill:#1f77b4;stroke:#1f77b4;\" x=\"165.669624\" xlink:href=\"#m85d9ac503a\" y=\"96.771465\"/>\n     <use style=\"fill:#1f77b4;stroke:#1f77b4;\" x=\"152.602605\" xlink:href=\"#m85d9ac503a\" y=\"75.534634\"/>\n     <use style=\"fill:#1f77b4;stroke:#1f77b4;\" x=\"143.885905\" xlink:href=\"#m85d9ac503a\" y=\"102.493175\"/>\n     <use style=\"fill:#1f77b4;stroke:#1f77b4;\" x=\"132.007673\" xlink:href=\"#m85d9ac503a\" y=\"72.908851\"/>\n     <use style=\"fill:#1f77b4;stroke:#1f77b4;\" x=\"133.821549\" xlink:href=\"#m85d9ac503a\" y=\"88.033577\"/>\n     <use style=\"fill:#1f77b4;stroke:#1f77b4;\" x=\"127.567429\" xlink:href=\"#m85d9ac503a\" y=\"62.986625\"/>\n     <use style=\"fill:#1f77b4;stroke:#1f77b4;\" x=\"103.299137\" xlink:href=\"#m85d9ac503a\" y=\"59.972432\"/>\n     <use style=\"fill:#1f77b4;stroke:#1f77b4;\" x=\"170.12653\" xlink:href=\"#m85d9ac503a\" y=\"117.970235\"/>\n     <use style=\"fill:#1f77b4;stroke:#1f77b4;\" x=\"132.660396\" xlink:href=\"#m85d9ac503a\" y=\"73.335183\"/>\n     <use style=\"fill:#1f77b4;stroke:#1f77b4;\" x=\"140.700825\" xlink:href=\"#m85d9ac503a\" y=\"90.758443\"/>\n     <use style=\"fill:#1f77b4;stroke:#1f77b4;\" x=\"67.658806\" xlink:href=\"#m85d9ac503a\" y=\"30.864847\"/>\n     <use style=\"fill:#1f77b4;stroke:#1f77b4;\" x=\"146.119029\" xlink:href=\"#m85d9ac503a\" y=\"101.172892\"/>\n     <use style=\"fill:#1f77b4;stroke:#1f77b4;\" x=\"163.302651\" xlink:href=\"#m85d9ac503a\" y=\"87.646539\"/>\n     <use style=\"fill:#1f77b4;stroke:#1f77b4;\" x=\"114.91259\" xlink:href=\"#m85d9ac503a\" y=\"73.708073\"/>\n     <use style=\"fill:#1f77b4;stroke:#1f77b4;\" x=\"121.940481\" xlink:href=\"#m85d9ac503a\" y=\"71.793631\"/>\n     <use style=\"fill:#1f77b4;stroke:#1f77b4;\" x=\"88.934287\" xlink:href=\"#m85d9ac503a\" y=\"64.816468\"/>\n     <use style=\"fill:#1f77b4;stroke:#1f77b4;\" x=\"122.896122\" xlink:href=\"#m85d9ac503a\" y=\"49.694086\"/>\n     <use style=\"fill:#1f77b4;stroke:#1f77b4;\" x=\"112.890881\" xlink:href=\"#m85d9ac503a\" y=\"80.48116\"/>\n     <use style=\"fill:#1f77b4;stroke:#1f77b4;\" x=\"153.20485\" xlink:href=\"#m85d9ac503a\" y=\"81.621037\"/>\n     <use style=\"fill:#1f77b4;stroke:#1f77b4;\" x=\"134.308187\" xlink:href=\"#m85d9ac503a\" y=\"90.682585\"/>\n     <use style=\"fill:#1f77b4;stroke:#1f77b4;\" x=\"156.972952\" xlink:href=\"#m85d9ac503a\" y=\"83.796618\"/>\n     <use style=\"fill:#1f77b4;stroke:#1f77b4;\" x=\"134.564719\" xlink:href=\"#m85d9ac503a\" y=\"80.760336\"/>\n     <use style=\"fill:#1f77b4;stroke:#1f77b4;\" x=\"139.509486\" xlink:href=\"#m85d9ac503a\" y=\"78.883842\"/>\n     <use style=\"fill:#1f77b4;stroke:#1f77b4;\" x=\"173.139945\" xlink:href=\"#m85d9ac503a\" y=\"104.711733\"/>\n     <use style=\"fill:#1f77b4;stroke:#1f77b4;\" x=\"130.012215\" xlink:href=\"#m85d9ac503a\" y=\"71.223101\"/>\n     <use style=\"fill:#1f77b4;stroke:#1f77b4;\" x=\"123.322004\" xlink:href=\"#m85d9ac503a\" y=\"61.523912\"/>\n     <use style=\"fill:#1f77b4;stroke:#1f77b4;\" x=\"152.958436\" xlink:href=\"#m85d9ac503a\" y=\"78.796311\"/>\n     <use style=\"fill:#1f77b4;stroke:#1f77b4;\" x=\"154.309548\" xlink:href=\"#m85d9ac503a\" y=\"92.895154\"/>\n     <use style=\"fill:#1f77b4;stroke:#1f77b4;\" x=\"152.451948\" xlink:href=\"#m85d9ac503a\" y=\"75.903592\"/>\n     <use style=\"fill:#1f77b4;stroke:#1f77b4;\" x=\"124.531677\" xlink:href=\"#m85d9ac503a\" y=\"80.323996\"/>\n     <use style=\"fill:#1f77b4;stroke:#1f77b4;\" x=\"162.149564\" xlink:href=\"#m85d9ac503a\" y=\"97.477772\"/>\n     <use style=\"fill:#1f77b4;stroke:#1f77b4;\" x=\"74.292858\" xlink:href=\"#m85d9ac503a\" y=\"32.008443\"/>\n     <use style=\"fill:#1f77b4;stroke:#1f77b4;\" x=\"168.943247\" xlink:href=\"#m85d9ac503a\" y=\"115.340013\"/>\n     <use style=\"fill:#1f77b4;stroke:#1f77b4;\" x=\"153.953742\" xlink:href=\"#m85d9ac503a\" y=\"66.83887\"/>\n     <use style=\"fill:#1f77b4;stroke:#1f77b4;\" x=\"144.610583\" xlink:href=\"#m85d9ac503a\" y=\"64.285599\"/>\n     <use style=\"fill:#1f77b4;stroke:#1f77b4;\" x=\"115.471042\" xlink:href=\"#m85d9ac503a\" y=\"64.50631\"/>\n     <use style=\"fill:#1f77b4;stroke:#1f77b4;\" x=\"104.095984\" xlink:href=\"#m85d9ac503a\" y=\"38.062442\"/>\n     <use style=\"fill:#1f77b4;stroke:#1f77b4;\" x=\"100.368461\" xlink:href=\"#m85d9ac503a\" y=\"60.921608\"/>\n     <use style=\"fill:#1f77b4;stroke:#1f77b4;\" x=\"154.644273\" xlink:href=\"#m85d9ac503a\" y=\"85.625942\"/>\n     <use style=\"fill:#1f77b4;stroke:#1f77b4;\" x=\"135.998866\" xlink:href=\"#m85d9ac503a\" y=\"78.447384\"/>\n     <use style=\"fill:#1f77b4;stroke:#1f77b4;\" x=\"150.75029\" xlink:href=\"#m85d9ac503a\" y=\"104.505142\"/>\n     <use style=\"fill:#1f77b4;stroke:#1f77b4;\" x=\"168.717384\" xlink:href=\"#m85d9ac503a\" y=\"81.968765\"/>\n     <use style=\"fill:#1f77b4;stroke:#1f77b4;\" x=\"130.009636\" xlink:href=\"#m85d9ac503a\" y=\"58.867694\"/>\n     <use style=\"fill:#1f77b4;stroke:#1f77b4;\" x=\"171.117175\" xlink:href=\"#m85d9ac503a\" y=\"106.72957\"/>\n     <use style=\"fill:#1f77b4;stroke:#1f77b4;\" x=\"103.384364\" xlink:href=\"#m85d9ac503a\" y=\"48.831117\"/>\n     <use style=\"fill:#1f77b4;stroke:#1f77b4;\" x=\"141.892122\" xlink:href=\"#m85d9ac503a\" y=\"96.130311\"/>\n     <use style=\"fill:#1f77b4;stroke:#1f77b4;\" x=\"145.656567\" xlink:href=\"#m85d9ac503a\" y=\"98.823091\"/>\n     <use style=\"fill:#1f77b4;stroke:#1f77b4;\" x=\"93.47244\" xlink:href=\"#m85d9ac503a\" y=\"73.298691\"/>\n     <use style=\"fill:#1f77b4;stroke:#1f77b4;\" x=\"116.604474\" xlink:href=\"#m85d9ac503a\" y=\"61.310471\"/>\n     <use style=\"fill:#1f77b4;stroke:#1f77b4;\" x=\"161.76815\" xlink:href=\"#m85d9ac503a\" y=\"96.782909\"/>\n     <use style=\"fill:#1f77b4;stroke:#1f77b4;\" x=\"103.187371\" xlink:href=\"#m85d9ac503a\" y=\"58.2242\"/>\n     <use style=\"fill:#1f77b4;stroke:#1f77b4;\" x=\"95.891701\" xlink:href=\"#m85d9ac503a\" y=\"57.41368\"/>\n     <use style=\"fill:#1f77b4;stroke:#1f77b4;\" x=\"117.255267\" xlink:href=\"#m85d9ac503a\" y=\"57.435443\"/>\n     <use style=\"fill:#1f77b4;stroke:#1f77b4;\" x=\"130.846004\" xlink:href=\"#m85d9ac503a\" y=\"66.321388\"/>\n     <use style=\"fill:#1f77b4;stroke:#1f77b4;\" x=\"146.76512\" xlink:href=\"#m85d9ac503a\" y=\"81.018444\"/>\n     <use style=\"fill:#1f77b4;stroke:#1f77b4;\" x=\"86.712167\" xlink:href=\"#m85d9ac503a\" y=\"39.418126\"/>\n     <use style=\"fill:#1f77b4;stroke:#1f77b4;\" x=\"136.310025\" xlink:href=\"#m85d9ac503a\" y=\"93.757637\"/>\n     <use style=\"fill:#1f77b4;stroke:#1f77b4;\" x=\"138.17655\" xlink:href=\"#m85d9ac503a\" y=\"103.982232\"/>\n     <use style=\"fill:#1f77b4;stroke:#1f77b4;\" x=\"152.375424\" xlink:href=\"#m85d9ac503a\" y=\"104.918214\"/>\n     <use style=\"fill:#1f77b4;stroke:#1f77b4;\" x=\"161.620988\" xlink:href=\"#m85d9ac503a\" y=\"78.278276\"/>\n     <use style=\"fill:#1f77b4;stroke:#1f77b4;\" x=\"93.995827\" xlink:href=\"#m85d9ac503a\" y=\"59.339544\"/>\n     <use style=\"fill:#1f77b4;stroke:#1f77b4;\" x=\"66.495961\" xlink:href=\"#m85d9ac503a\" y=\"27.584787\"/>\n     <use style=\"fill:#1f77b4;stroke:#1f77b4;\" x=\"121.49995\" xlink:href=\"#m85d9ac503a\" y=\"58.77628\"/>\n     <use style=\"fill:#1f77b4;stroke:#1f77b4;\" x=\"149.444049\" xlink:href=\"#m85d9ac503a\" y=\"84.174739\"/>\n     <use style=\"fill:#1f77b4;stroke:#1f77b4;\" x=\"120.174882\" xlink:href=\"#m85d9ac503a\" y=\"61.265264\"/>\n     <use style=\"fill:#1f77b4;stroke:#1f77b4;\" x=\"116.417202\" xlink:href=\"#m85d9ac503a\" y=\"63.703931\"/>\n     <use style=\"fill:#1f77b4;stroke:#1f77b4;\" x=\"166.012381\" xlink:href=\"#m85d9ac503a\" y=\"112.492856\"/>\n     <use style=\"fill:#1f77b4;stroke:#1f77b4;\" x=\"140.499798\" xlink:href=\"#m85d9ac503a\" y=\"80.458789\"/>\n     <use style=\"fill:#1f77b4;stroke:#1f77b4;\" x=\"148.7328\" xlink:href=\"#m85d9ac503a\" y=\"81.933696\"/>\n     <use style=\"fill:#1f77b4;stroke:#1f77b4;\" x=\"142.780609\" xlink:href=\"#m85d9ac503a\" y=\"75.152098\"/>\n     <use style=\"fill:#1f77b4;stroke:#1f77b4;\" x=\"127.017023\" xlink:href=\"#m85d9ac503a\" y=\"79.451175\"/>\n     <use style=\"fill:#1f77b4;stroke:#1f77b4;\" x=\"162.960694\" xlink:href=\"#m85d9ac503a\" y=\"107.376306\"/>\n     <use style=\"fill:#1f77b4;stroke:#1f77b4;\" x=\"131.864015\" xlink:href=\"#m85d9ac503a\" y=\"71.337999\"/>\n     <use style=\"fill:#1f77b4;stroke:#1f77b4;\" x=\"122.411977\" xlink:href=\"#m85d9ac503a\" y=\"93.354683\"/>\n     <use style=\"fill:#1f77b4;stroke:#1f77b4;\" x=\"149.824564\" xlink:href=\"#m85d9ac503a\" y=\"60.13549\"/>\n     <use style=\"fill:#1f77b4;stroke:#1f77b4;\" x=\"123.891621\" xlink:href=\"#m85d9ac503a\" y=\"83.587166\"/>\n     <use style=\"fill:#1f77b4;stroke:#1f77b4;\" x=\"73.733996\" xlink:href=\"#m85d9ac503a\" y=\"51.043134\"/>\n     <use style=\"fill:#1f77b4;stroke:#1f77b4;\" x=\"120.467793\" xlink:href=\"#m85d9ac503a\" y=\"55.367681\"/>\n     <use style=\"fill:#1f77b4;stroke:#1f77b4;\" x=\"114.254458\" xlink:href=\"#m85d9ac503a\" y=\"49.705658\"/>\n     <use style=\"fill:#1f77b4;stroke:#1f77b4;\" x=\"98.316599\" xlink:href=\"#m85d9ac503a\" y=\"71.427364\"/>\n     <use style=\"fill:#1f77b4;stroke:#1f77b4;\" x=\"140.863912\" xlink:href=\"#m85d9ac503a\" y=\"78.377799\"/>\n     <use style=\"fill:#1f77b4;stroke:#1f77b4;\" x=\"110.832551\" xlink:href=\"#m85d9ac503a\" y=\"54.52732\"/>\n     <use style=\"fill:#1f77b4;stroke:#1f77b4;\" x=\"107.607179\" xlink:href=\"#m85d9ac503a\" y=\"54.215024\"/>\n     <use style=\"fill:#1f77b4;stroke:#1f77b4;\" x=\"152.359785\" xlink:href=\"#m85d9ac503a\" y=\"92.86203\"/>\n     <use style=\"fill:#1f77b4;stroke:#1f77b4;\" x=\"88.157761\" xlink:href=\"#m85d9ac503a\" y=\"68.623365\"/>\n     <use style=\"fill:#1f77b4;stroke:#1f77b4;\" x=\"96.037733\" xlink:href=\"#m85d9ac503a\" y=\"49.318239\"/>\n     <use style=\"fill:#1f77b4;stroke:#1f77b4;\" x=\"152.074144\" xlink:href=\"#m85d9ac503a\" y=\"92.3545\"/>\n     <use style=\"fill:#1f77b4;stroke:#1f77b4;\" x=\"96.13325\" xlink:href=\"#m85d9ac503a\" y=\"48.865387\"/>\n     <use style=\"fill:#1f77b4;stroke:#1f77b4;\" x=\"203.838574\" xlink:href=\"#m85d9ac503a\" y=\"136.922727\"/>\n     <use style=\"fill:#1f77b4;stroke:#1f77b4;\" x=\"147.726484\" xlink:href=\"#m85d9ac503a\" y=\"86.170556\"/>\n     <use style=\"fill:#1f77b4;stroke:#1f77b4;\" x=\"155.336302\" xlink:href=\"#m85d9ac503a\" y=\"100.17522\"/>\n     <use style=\"fill:#1f77b4;stroke:#1f77b4;\" x=\"153.143978\" xlink:href=\"#m85d9ac503a\" y=\"73.697229\"/>\n     <use style=\"fill:#1f77b4;stroke:#1f77b4;\" x=\"88.661021\" xlink:href=\"#m85d9ac503a\" y=\"37.975211\"/>\n     <use style=\"fill:#1f77b4;stroke:#1f77b4;\" x=\"153.702874\" xlink:href=\"#m85d9ac503a\" y=\"99.270883\"/>\n     <use style=\"fill:#1f77b4;stroke:#1f77b4;\" x=\"110.713856\" xlink:href=\"#m85d9ac503a\" y=\"58.039245\"/>\n     <use style=\"fill:#1f77b4;stroke:#1f77b4;\" x=\"124.433495\" xlink:href=\"#m85d9ac503a\" y=\"86.747608\"/>\n     <use style=\"fill:#1f77b4;stroke:#1f77b4;\" x=\"132.417246\" xlink:href=\"#m85d9ac503a\" y=\"82.643364\"/>\n     <use style=\"fill:#1f77b4;stroke:#1f77b4;\" x=\"119.384363\" xlink:href=\"#m85d9ac503a\" y=\"88.378363\"/>\n     <use style=\"fill:#1f77b4;stroke:#1f77b4;\" x=\"175.06769\" xlink:href=\"#m85d9ac503a\" y=\"100.428329\"/>\n     <use style=\"fill:#1f77b4;stroke:#1f77b4;\" x=\"87.713097\" xlink:href=\"#m85d9ac503a\" y=\"44.047803\"/>\n     <use style=\"fill:#1f77b4;stroke:#1f77b4;\" x=\"103.865142\" xlink:href=\"#m85d9ac503a\" y=\"64.038051\"/>\n     <use style=\"fill:#1f77b4;stroke:#1f77b4;\" x=\"114.851248\" xlink:href=\"#m85d9ac503a\" y=\"79.180488\"/>\n     <use style=\"fill:#1f77b4;stroke:#1f77b4;\" x=\"146.950976\" xlink:href=\"#m85d9ac503a\" y=\"85.69039\"/>\n     <use style=\"fill:#1f77b4;stroke:#1f77b4;\" x=\"151.720139\" xlink:href=\"#m85d9ac503a\" y=\"85.685333\"/>\n     <use style=\"fill:#1f77b4;stroke:#1f77b4;\" x=\"117.167798\" xlink:href=\"#m85d9ac503a\" y=\"74.584155\"/>\n     <use style=\"fill:#1f77b4;stroke:#1f77b4;\" x=\"215.364915\" xlink:href=\"#m85d9ac503a\" y=\"123.971976\"/>\n     <use style=\"fill:#1f77b4;stroke:#1f77b4;\" x=\"140.824292\" xlink:href=\"#m85d9ac503a\" y=\"88.612261\"/>\n     <use style=\"fill:#1f77b4;stroke:#1f77b4;\" x=\"94.946427\" xlink:href=\"#m85d9ac503a\" y=\"54.897294\"/>\n     <use style=\"fill:#1f77b4;stroke:#1f77b4;\" x=\"87.541376\" xlink:href=\"#m85d9ac503a\" y=\"22.342263\"/>\n     <use style=\"fill:#1f77b4;stroke:#1f77b4;\" x=\"136.22906\" xlink:href=\"#m85d9ac503a\" y=\"69.307659\"/>\n     <use style=\"fill:#1f77b4;stroke:#1f77b4;\" x=\"111.414917\" xlink:href=\"#m85d9ac503a\" y=\"86.71075\"/>\n     <use style=\"fill:#1f77b4;stroke:#1f77b4;\" x=\"158.27517\" xlink:href=\"#m85d9ac503a\" y=\"97.222307\"/>\n     <use style=\"fill:#1f77b4;stroke:#1f77b4;\" x=\"135.510334\" xlink:href=\"#m85d9ac503a\" y=\"75.463661\"/>\n     <use style=\"fill:#1f77b4;stroke:#1f77b4;\" x=\"180.363585\" xlink:href=\"#m85d9ac503a\" y=\"116.049078\"/>\n     <use style=\"fill:#1f77b4;stroke:#1f77b4;\" x=\"156.2972\" xlink:href=\"#m85d9ac503a\" y=\"88.842116\"/>\n     <use style=\"fill:#1f77b4;stroke:#1f77b4;\" x=\"111.268622\" xlink:href=\"#m85d9ac503a\" y=\"43.792988\"/>\n     <use style=\"fill:#1f77b4;stroke:#1f77b4;\" x=\"154.907889\" xlink:href=\"#m85d9ac503a\" y=\"88.678863\"/>\n     <use style=\"fill:#1f77b4;stroke:#1f77b4;\" x=\"200.529228\" xlink:href=\"#m85d9ac503a\" y=\"99.672307\"/>\n     <use style=\"fill:#1f77b4;stroke:#1f77b4;\" x=\"110.974916\" xlink:href=\"#m85d9ac503a\" y=\"65.612579\"/>\n     <use style=\"fill:#1f77b4;stroke:#1f77b4;\" x=\"135.891318\" xlink:href=\"#m85d9ac503a\" y=\"78.674374\"/>\n     <use style=\"fill:#1f77b4;stroke:#1f77b4;\" x=\"182.956345\" xlink:href=\"#m85d9ac503a\" y=\"96.215033\"/>\n     <use style=\"fill:#1f77b4;stroke:#1f77b4;\" x=\"166.522466\" xlink:href=\"#m85d9ac503a\" y=\"97.558849\"/>\n     <use style=\"fill:#1f77b4;stroke:#1f77b4;\" x=\"106.170218\" xlink:href=\"#m85d9ac503a\" y=\"72.367641\"/>\n     <use style=\"fill:#1f77b4;stroke:#1f77b4;\" x=\"123.604089\" xlink:href=\"#m85d9ac503a\" y=\"81.130233\"/>\n     <use style=\"fill:#1f77b4;stroke:#1f77b4;\" x=\"131.652702\" xlink:href=\"#m85d9ac503a\" y=\"72.724222\"/>\n     <use style=\"fill:#1f77b4;stroke:#1f77b4;\" x=\"103.509953\" xlink:href=\"#m85d9ac503a\" y=\"44.203899\"/>\n     <use style=\"fill:#1f77b4;stroke:#1f77b4;\" x=\"143.8941\" xlink:href=\"#m85d9ac503a\" y=\"93.030545\"/>\n     <use style=\"fill:#1f77b4;stroke:#1f77b4;\" x=\"148.713492\" xlink:href=\"#m85d9ac503a\" y=\"101.149332\"/>\n     <use style=\"fill:#1f77b4;stroke:#1f77b4;\" x=\"152.66669\" xlink:href=\"#m85d9ac503a\" y=\"83.547501\"/>\n     <use style=\"fill:#1f77b4;stroke:#1f77b4;\" x=\"114.689528\" xlink:href=\"#m85d9ac503a\" y=\"68.62713\"/>\n     <use style=\"fill:#1f77b4;stroke:#1f77b4;\" x=\"90.599278\" xlink:href=\"#m85d9ac503a\" y=\"68.74246\"/>\n     <use style=\"fill:#1f77b4;stroke:#1f77b4;\" x=\"159.07767\" xlink:href=\"#m85d9ac503a\" y=\"112.075371\"/>\n     <use style=\"fill:#1f77b4;stroke:#1f77b4;\" x=\"107.996183\" xlink:href=\"#m85d9ac503a\" y=\"78.37849\"/>\n     <use style=\"fill:#1f77b4;stroke:#1f77b4;\" x=\"93.201147\" xlink:href=\"#m85d9ac503a\" y=\"48.242451\"/>\n     <use style=\"fill:#1f77b4;stroke:#1f77b4;\" x=\"111.571231\" xlink:href=\"#m85d9ac503a\" y=\"54.248709\"/>\n     <use style=\"fill:#1f77b4;stroke:#1f77b4;\" x=\"144.487063\" xlink:href=\"#m85d9ac503a\" y=\"86.613783\"/>\n     <use style=\"fill:#1f77b4;stroke:#1f77b4;\" x=\"104.558173\" xlink:href=\"#m85d9ac503a\" y=\"50.706909\"/>\n     <use style=\"fill:#1f77b4;stroke:#1f77b4;\" x=\"174.320313\" xlink:href=\"#m85d9ac503a\" y=\"96.625561\"/>\n     <use style=\"fill:#1f77b4;stroke:#1f77b4;\" x=\"153.428817\" xlink:href=\"#m85d9ac503a\" y=\"96.669091\"/>\n     <use style=\"fill:#1f77b4;stroke:#1f77b4;\" x=\"100.07735\" xlink:href=\"#m85d9ac503a\" y=\"60.796598\"/>\n     <use style=\"fill:#1f77b4;stroke:#1f77b4;\" x=\"124.52108\" xlink:href=\"#m85d9ac503a\" y=\"85.599343\"/>\n     <use style=\"fill:#1f77b4;stroke:#1f77b4;\" x=\"165.078561\" xlink:href=\"#m85d9ac503a\" y=\"97.143131\"/>\n     <use style=\"fill:#1f77b4;stroke:#1f77b4;\" x=\"98.538219\" xlink:href=\"#m85d9ac503a\" y=\"52.754395\"/>\n     <use style=\"fill:#1f77b4;stroke:#1f77b4;\" x=\"143.663882\" xlink:href=\"#m85d9ac503a\" y=\"93.338421\"/>\n     <use style=\"fill:#1f77b4;stroke:#1f77b4;\" x=\"105.315251\" xlink:href=\"#m85d9ac503a\" y=\"44.82584\"/>\n     <use style=\"fill:#1f77b4;stroke:#1f77b4;\" x=\"151.067141\" xlink:href=\"#m85d9ac503a\" y=\"84.350419\"/>\n     <use style=\"fill:#1f77b4;stroke:#1f77b4;\" x=\"143.908263\" xlink:href=\"#m85d9ac503a\" y=\"90.640807\"/>\n     <use style=\"fill:#1f77b4;stroke:#1f77b4;\" x=\"198.643285\" xlink:href=\"#m85d9ac503a\" y=\"111.944881\"/>\n     <use style=\"fill:#1f77b4;stroke:#1f77b4;\" x=\"99.39171\" xlink:href=\"#m85d9ac503a\" y=\"62.979061\"/>\n     <use style=\"fill:#1f77b4;stroke:#1f77b4;\" x=\"116.807738\" xlink:href=\"#m85d9ac503a\" y=\"95.781696\"/>\n     <use style=\"fill:#1f77b4;stroke:#1f77b4;\" x=\"110.083685\" xlink:href=\"#m85d9ac503a\" y=\"62.741612\"/>\n     <use style=\"fill:#1f77b4;stroke:#1f77b4;\" x=\"126.301468\" xlink:href=\"#m85d9ac503a\" y=\"79.890971\"/>\n     <use style=\"fill:#1f77b4;stroke:#1f77b4;\" x=\"155.732946\" xlink:href=\"#m85d9ac503a\" y=\"81.581667\"/>\n     <use style=\"fill:#1f77b4;stroke:#1f77b4;\" x=\"87.711443\" xlink:href=\"#m85d9ac503a\" y=\"63.212741\"/>\n     <use style=\"fill:#1f77b4;stroke:#1f77b4;\" x=\"141.240784\" xlink:href=\"#m85d9ac503a\" y=\"87.455345\"/>\n     <use style=\"fill:#1f77b4;stroke:#1f77b4;\" x=\"132.101704\" xlink:href=\"#m85d9ac503a\" y=\"80.133967\"/>\n     <use style=\"fill:#1f77b4;stroke:#1f77b4;\" x=\"131.446375\" xlink:href=\"#m85d9ac503a\" y=\"83.80039\"/>\n     <use style=\"fill:#1f77b4;stroke:#1f77b4;\" x=\"91.189591\" xlink:href=\"#m85d9ac503a\" y=\"59.063027\"/>\n     <use style=\"fill:#1f77b4;stroke:#1f77b4;\" x=\"153.940381\" xlink:href=\"#m85d9ac503a\" y=\"94.591532\"/>\n     <use style=\"fill:#1f77b4;stroke:#1f77b4;\" x=\"118.409699\" xlink:href=\"#m85d9ac503a\" y=\"54.520306\"/>\n     <use style=\"fill:#1f77b4;stroke:#1f77b4;\" x=\"161.841525\" xlink:href=\"#m85d9ac503a\" y=\"94.821483\"/>\n     <use style=\"fill:#1f77b4;stroke:#1f77b4;\" x=\"137.868138\" xlink:href=\"#m85d9ac503a\" y=\"94.00619\"/>\n     <use style=\"fill:#1f77b4;stroke:#1f77b4;\" x=\"126.609383\" xlink:href=\"#m85d9ac503a\" y=\"66.197907\"/>\n     <use style=\"fill:#1f77b4;stroke:#1f77b4;\" x=\"168.776862\" xlink:href=\"#m85d9ac503a\" y=\"108.032605\"/>\n     <use style=\"fill:#1f77b4;stroke:#1f77b4;\" x=\"135.310399\" xlink:href=\"#m85d9ac503a\" y=\"53.844387\"/>\n     <use style=\"fill:#1f77b4;stroke:#1f77b4;\" x=\"127.299713\" xlink:href=\"#m85d9ac503a\" y=\"72.842328\"/>\n     <use style=\"fill:#1f77b4;stroke:#1f77b4;\" x=\"137.818588\" xlink:href=\"#m85d9ac503a\" y=\"85.176244\"/>\n     <use style=\"fill:#1f77b4;stroke:#1f77b4;\" x=\"132.958331\" xlink:href=\"#m85d9ac503a\" y=\"80.185259\"/>\n     <use style=\"fill:#1f77b4;stroke:#1f77b4;\" x=\"72.132565\" xlink:href=\"#m85d9ac503a\" y=\"53.882482\"/>\n     <use style=\"fill:#1f77b4;stroke:#1f77b4;\" x=\"73.690548\" xlink:href=\"#m85d9ac503a\" y=\"48.919022\"/>\n     <use style=\"fill:#1f77b4;stroke:#1f77b4;\" x=\"191.532042\" xlink:href=\"#m85d9ac503a\" y=\"100.013444\"/>\n     <use style=\"fill:#1f77b4;stroke:#1f77b4;\" x=\"167.384399\" xlink:href=\"#m85d9ac503a\" y=\"105.625359\"/>\n     <use style=\"fill:#1f77b4;stroke:#1f77b4;\" x=\"143.345042\" xlink:href=\"#m85d9ac503a\" y=\"77.087111\"/>\n     <use style=\"fill:#1f77b4;stroke:#1f77b4;\" x=\"125.206915\" xlink:href=\"#m85d9ac503a\" y=\"64.101425\"/>\n     <use style=\"fill:#1f77b4;stroke:#1f77b4;\" x=\"101.500327\" xlink:href=\"#m85d9ac503a\" y=\"77.916237\"/>\n     <use style=\"fill:#1f77b4;stroke:#1f77b4;\" x=\"130.496553\" xlink:href=\"#m85d9ac503a\" y=\"98.024223\"/>\n     <use style=\"fill:#1f77b4;stroke:#1f77b4;\" x=\"140.949651\" xlink:href=\"#m85d9ac503a\" y=\"76.51495\"/>\n     <use style=\"fill:#1f77b4;stroke:#1f77b4;\" x=\"112.62795\" xlink:href=\"#m85d9ac503a\" y=\"75.550818\"/>\n     <use style=\"fill:#1f77b4;stroke:#1f77b4;\" x=\"97.995714\" xlink:href=\"#m85d9ac503a\" y=\"44.99987\"/>\n     <use style=\"fill:#1f77b4;stroke:#1f77b4;\" x=\"183.088782\" xlink:href=\"#m85d9ac503a\" y=\"99.723451\"/>\n     <use style=\"fill:#1f77b4;stroke:#1f77b4;\" x=\"167.429647\" xlink:href=\"#m85d9ac503a\" y=\"93.666778\"/>\n     <use style=\"fill:#1f77b4;stroke:#1f77b4;\" x=\"129.490108\" xlink:href=\"#m85d9ac503a\" y=\"68.890065\"/>\n     <use style=\"fill:#1f77b4;stroke:#1f77b4;\" x=\"62.76997\" xlink:href=\"#m85d9ac503a\" y=\"31.644836\"/>\n     <use style=\"fill:#1f77b4;stroke:#1f77b4;\" x=\"103.458851\" xlink:href=\"#m85d9ac503a\" y=\"45.540822\"/>\n     <use style=\"fill:#1f77b4;stroke:#1f77b4;\" x=\"150.673814\" xlink:href=\"#m85d9ac503a\" y=\"90.290808\"/>\n     <use style=\"fill:#1f77b4;stroke:#1f77b4;\" x=\"181.451911\" xlink:href=\"#m85d9ac503a\" y=\"128.489203\"/>\n     <use style=\"fill:#1f77b4;stroke:#1f77b4;\" x=\"104.419523\" xlink:href=\"#m85d9ac503a\" y=\"41.70155\"/>\n     <use style=\"fill:#1f77b4;stroke:#1f77b4;\" x=\"117.144737\" xlink:href=\"#m85d9ac503a\" y=\"78.972111\"/>\n     <use style=\"fill:#1f77b4;stroke:#1f77b4;\" x=\"125.889191\" xlink:href=\"#m85d9ac503a\" y=\"63.769157\"/>\n     <use style=\"fill:#1f77b4;stroke:#1f77b4;\" x=\"91.585553\" xlink:href=\"#m85d9ac503a\" y=\"64.675425\"/>\n     <use style=\"fill:#1f77b4;stroke:#1f77b4;\" x=\"102.336937\" xlink:href=\"#m85d9ac503a\" y=\"73.955204\"/>\n     <use style=\"fill:#1f77b4;stroke:#1f77b4;\" x=\"126.638663\" xlink:href=\"#m85d9ac503a\" y=\"79.068429\"/>\n     <use style=\"fill:#1f77b4;stroke:#1f77b4;\" x=\"192.976739\" xlink:href=\"#m85d9ac503a\" y=\"127.413096\"/>\n     <use style=\"fill:#1f77b4;stroke:#1f77b4;\" x=\"155.918847\" xlink:href=\"#m85d9ac503a\" y=\"112.842515\"/>\n     <use style=\"fill:#1f77b4;stroke:#1f77b4;\" x=\"127.944793\" xlink:href=\"#m85d9ac503a\" y=\"77.491991\"/>\n     <use style=\"fill:#1f77b4;stroke:#1f77b4;\" x=\"122.989337\" xlink:href=\"#m85d9ac503a\" y=\"71.585999\"/>\n     <use style=\"fill:#1f77b4;stroke:#1f77b4;\" x=\"123.78348\" xlink:href=\"#m85d9ac503a\" y=\"55.019173\"/>\n     <use style=\"fill:#1f77b4;stroke:#1f77b4;\" x=\"164.320289\" xlink:href=\"#m85d9ac503a\" y=\"92.633683\"/>\n     <use style=\"fill:#1f77b4;stroke:#1f77b4;\" x=\"100.031105\" xlink:href=\"#m85d9ac503a\" y=\"73.012617\"/>\n     <use style=\"fill:#1f77b4;stroke:#1f77b4;\" x=\"110.931243\" xlink:href=\"#m85d9ac503a\" y=\"70.789225\"/>\n     <use style=\"fill:#1f77b4;stroke:#1f77b4;\" x=\"147.882286\" xlink:href=\"#m85d9ac503a\" y=\"97.243204\"/>\n     <use style=\"fill:#1f77b4;stroke:#1f77b4;\" x=\"161.337026\" xlink:href=\"#m85d9ac503a\" y=\"80.039648\"/>\n     <use style=\"fill:#1f77b4;stroke:#1f77b4;\" x=\"84.699338\" xlink:href=\"#m85d9ac503a\" y=\"53.58192\"/>\n     <use style=\"fill:#1f77b4;stroke:#1f77b4;\" x=\"124.474656\" xlink:href=\"#m85d9ac503a\" y=\"82.415433\"/>\n     <use style=\"fill:#1f77b4;stroke:#1f77b4;\" x=\"174.096606\" xlink:href=\"#m85d9ac503a\" y=\"104.194782\"/>\n     <use style=\"fill:#1f77b4;stroke:#1f77b4;\" x=\"173.973457\" xlink:href=\"#m85d9ac503a\" y=\"97.439393\"/>\n     <use style=\"fill:#1f77b4;stroke:#1f77b4;\" x=\"150.686449\" xlink:href=\"#m85d9ac503a\" y=\"72.288512\"/>\n     <use style=\"fill:#1f77b4;stroke:#1f77b4;\" x=\"146.785088\" xlink:href=\"#m85d9ac503a\" y=\"69.568523\"/>\n     <use style=\"fill:#1f77b4;stroke:#1f77b4;\" x=\"197.373081\" xlink:href=\"#m85d9ac503a\" y=\"130.143363\"/>\n     <use style=\"fill:#1f77b4;stroke:#1f77b4;\" x=\"139.90603\" xlink:href=\"#m85d9ac503a\" y=\"95.413748\"/>\n     <use style=\"fill:#1f77b4;stroke:#1f77b4;\" x=\"125.511757\" xlink:href=\"#m85d9ac503a\" y=\"69.262394\"/>\n     <use style=\"fill:#1f77b4;stroke:#1f77b4;\" x=\"133.878068\" xlink:href=\"#m85d9ac503a\" y=\"90.736479\"/>\n     <use style=\"fill:#1f77b4;stroke:#1f77b4;\" x=\"137.605866\" xlink:href=\"#m85d9ac503a\" y=\"79.106495\"/>\n     <use style=\"fill:#1f77b4;stroke:#1f77b4;\" x=\"160.241314\" xlink:href=\"#m85d9ac503a\" y=\"95.629404\"/>\n     <use style=\"fill:#1f77b4;stroke:#1f77b4;\" x=\"164.596743\" xlink:href=\"#m85d9ac503a\" y=\"87.238637\"/>\n     <use style=\"fill:#1f77b4;stroke:#1f77b4;\" x=\"143.04626\" xlink:href=\"#m85d9ac503a\" y=\"89.518931\"/>\n     <use style=\"fill:#1f77b4;stroke:#1f77b4;\" x=\"64.681319\" xlink:href=\"#m85d9ac503a\" y=\"22.21439\"/>\n     <use style=\"fill:#1f77b4;stroke:#1f77b4;\" x=\"163.410845\" xlink:href=\"#m85d9ac503a\" y=\"104.407933\"/>\n     <use style=\"fill:#1f77b4;stroke:#1f77b4;\" x=\"124.372606\" xlink:href=\"#m85d9ac503a\" y=\"88.413155\"/>\n     <use style=\"fill:#1f77b4;stroke:#1f77b4;\" x=\"75.525556\" xlink:href=\"#m85d9ac503a\" y=\"45.569135\"/>\n     <use style=\"fill:#1f77b4;stroke:#1f77b4;\" x=\"109.852612\" xlink:href=\"#m85d9ac503a\" y=\"44.827545\"/>\n     <use style=\"fill:#1f77b4;stroke:#1f77b4;\" x=\"148.629008\" xlink:href=\"#m85d9ac503a\" y=\"90.546597\"/>\n     <use style=\"fill:#1f77b4;stroke:#1f77b4;\" x=\"157.690547\" xlink:href=\"#m85d9ac503a\" y=\"87.307012\"/>\n     <use style=\"fill:#1f77b4;stroke:#1f77b4;\" x=\"101.653932\" xlink:href=\"#m85d9ac503a\" y=\"53.462793\"/>\n     <use style=\"fill:#1f77b4;stroke:#1f77b4;\" x=\"145.374874\" xlink:href=\"#m85d9ac503a\" y=\"83.73567\"/>\n     <use style=\"fill:#1f77b4;stroke:#1f77b4;\" x=\"104.536811\" xlink:href=\"#m85d9ac503a\" y=\"68.995954\"/>\n     <use style=\"fill:#1f77b4;stroke:#1f77b4;\" x=\"91.30604\" xlink:href=\"#m85d9ac503a\" y=\"38.59188\"/>\n     <use style=\"fill:#1f77b4;stroke:#1f77b4;\" x=\"160.887043\" xlink:href=\"#m85d9ac503a\" y=\"88.341783\"/>\n     <use style=\"fill:#1f77b4;stroke:#1f77b4;\" x=\"120.35164\" xlink:href=\"#m85d9ac503a\" y=\"63.31987\"/>\n     <use style=\"fill:#1f77b4;stroke:#1f77b4;\" x=\"163.417006\" xlink:href=\"#m85d9ac503a\" y=\"101.259309\"/>\n     <use style=\"fill:#1f77b4;stroke:#1f77b4;\" x=\"146.963417\" xlink:href=\"#m85d9ac503a\" y=\"95.874706\"/>\n     <use style=\"fill:#1f77b4;stroke:#1f77b4;\" x=\"175.156063\" xlink:href=\"#m85d9ac503a\" y=\"112.82377\"/>\n     <use style=\"fill:#1f77b4;stroke:#1f77b4;\" x=\"143.918955\" xlink:href=\"#m85d9ac503a\" y=\"80.4103\"/>\n     <use style=\"fill:#1f77b4;stroke:#1f77b4;\" x=\"125.4624\" xlink:href=\"#m85d9ac503a\" y=\"60.428042\"/>\n     <use style=\"fill:#1f77b4;stroke:#1f77b4;\" x=\"140.657906\" xlink:href=\"#m85d9ac503a\" y=\"81.781472\"/>\n     <use style=\"fill:#1f77b4;stroke:#1f77b4;\" x=\"145.665233\" xlink:href=\"#m85d9ac503a\" y=\"84.906672\"/>\n     <use style=\"fill:#1f77b4;stroke:#1f77b4;\" x=\"147.466749\" xlink:href=\"#m85d9ac503a\" y=\"95.011197\"/>\n     <use style=\"fill:#1f77b4;stroke:#1f77b4;\" x=\"171.573354\" xlink:href=\"#m85d9ac503a\" y=\"113.172741\"/>\n     <use style=\"fill:#1f77b4;stroke:#1f77b4;\" x=\"160.963047\" xlink:href=\"#m85d9ac503a\" y=\"87.035867\"/>\n     <use style=\"fill:#1f77b4;stroke:#1f77b4;\" x=\"119.72044\" xlink:href=\"#m85d9ac503a\" y=\"73.39305\"/>\n     <use style=\"fill:#1f77b4;stroke:#1f77b4;\" x=\"142.302546\" xlink:href=\"#m85d9ac503a\" y=\"83.668395\"/>\n     <use style=\"fill:#1f77b4;stroke:#1f77b4;\" x=\"133.495304\" xlink:href=\"#m85d9ac503a\" y=\"70.45616\"/>\n     <use style=\"fill:#1f77b4;stroke:#1f77b4;\" x=\"169.589972\" xlink:href=\"#m85d9ac503a\" y=\"109.555283\"/>\n     <use style=\"fill:#1f77b4;stroke:#1f77b4;\" x=\"160.123914\" xlink:href=\"#m85d9ac503a\" y=\"85.51386\"/>\n     <use style=\"fill:#1f77b4;stroke:#1f77b4;\" x=\"136.191287\" xlink:href=\"#m85d9ac503a\" y=\"81.481096\"/>\n     <use style=\"fill:#1f77b4;stroke:#1f77b4;\" x=\"151.34945\" xlink:href=\"#m85d9ac503a\" y=\"91.088849\"/>\n     <use style=\"fill:#1f77b4;stroke:#1f77b4;\" x=\"134.636879\" xlink:href=\"#m85d9ac503a\" y=\"72.335217\"/>\n     <use style=\"fill:#1f77b4;stroke:#1f77b4;\" x=\"166.437367\" xlink:href=\"#m85d9ac503a\" y=\"86.17702\"/>\n     <use style=\"fill:#1f77b4;stroke:#1f77b4;\" x=\"120.906037\" xlink:href=\"#m85d9ac503a\" y=\"74.408867\"/>\n     <use style=\"fill:#1f77b4;stroke:#1f77b4;\" x=\"158.393653\" xlink:href=\"#m85d9ac503a\" y=\"90.296606\"/>\n     <use style=\"fill:#1f77b4;stroke:#1f77b4;\" x=\"197.625869\" xlink:href=\"#m85d9ac503a\" y=\"131.613804\"/>\n     <use style=\"fill:#1f77b4;stroke:#1f77b4;\" x=\"117.593637\" xlink:href=\"#m85d9ac503a\" y=\"71.954189\"/>\n     <use style=\"fill:#1f77b4;stroke:#1f77b4;\" x=\"114.767452\" xlink:href=\"#m85d9ac503a\" y=\"47.356043\"/>\n     <use style=\"fill:#1f77b4;stroke:#1f77b4;\" x=\"147.617094\" xlink:href=\"#m85d9ac503a\" y=\"85.776345\"/>\n     <use style=\"fill:#1f77b4;stroke:#1f77b4;\" x=\"150.78371\" xlink:href=\"#m85d9ac503a\" y=\"84.136869\"/>\n     <use style=\"fill:#1f77b4;stroke:#1f77b4;\" x=\"81.154507\" xlink:href=\"#m85d9ac503a\" y=\"56.742116\"/>\n     <use style=\"fill:#1f77b4;stroke:#1f77b4;\" x=\"137.73635\" xlink:href=\"#m85d9ac503a\" y=\"100.136577\"/>\n     <use style=\"fill:#1f77b4;stroke:#1f77b4;\" x=\"160.992806\" xlink:href=\"#m85d9ac503a\" y=\"100.31959\"/>\n     <use style=\"fill:#1f77b4;stroke:#1f77b4;\" x=\"110.426677\" xlink:href=\"#m85d9ac503a\" y=\"62.875063\"/>\n     <use style=\"fill:#1f77b4;stroke:#1f77b4;\" x=\"145.35462\" xlink:href=\"#m85d9ac503a\" y=\"102.296229\"/>\n     <use style=\"fill:#1f77b4;stroke:#1f77b4;\" x=\"107.440807\" xlink:href=\"#m85d9ac503a\" y=\"50.780605\"/>\n     <use style=\"fill:#1f77b4;stroke:#1f77b4;\" x=\"117.595436\" xlink:href=\"#m85d9ac503a\" y=\"74.886922\"/>\n     <use style=\"fill:#1f77b4;stroke:#1f77b4;\" x=\"115.850189\" xlink:href=\"#m85d9ac503a\" y=\"90.514795\"/>\n     <use style=\"fill:#1f77b4;stroke:#1f77b4;\" x=\"140.971003\" xlink:href=\"#m85d9ac503a\" y=\"88.63308\"/>\n     <use style=\"fill:#1f77b4;stroke:#1f77b4;\" x=\"132.684529\" xlink:href=\"#m85d9ac503a\" y=\"85.189684\"/>\n     <use style=\"fill:#1f77b4;stroke:#1f77b4;\" x=\"175.347845\" xlink:href=\"#m85d9ac503a\" y=\"92.077796\"/>\n     <use style=\"fill:#1f77b4;stroke:#1f77b4;\" x=\"164.348947\" xlink:href=\"#m85d9ac503a\" y=\"102.498778\"/>\n     <use style=\"fill:#1f77b4;stroke:#1f77b4;\" x=\"95.336009\" xlink:href=\"#m85d9ac503a\" y=\"65.359314\"/>\n     <use style=\"fill:#1f77b4;stroke:#1f77b4;\" x=\"127.617716\" xlink:href=\"#m85d9ac503a\" y=\"72.621038\"/>\n     <use style=\"fill:#1f77b4;stroke:#1f77b4;\" x=\"120.426363\" xlink:href=\"#m85d9ac503a\" y=\"75.078813\"/>\n     <use style=\"fill:#1f77b4;stroke:#1f77b4;\" x=\"112.23346\" xlink:href=\"#m85d9ac503a\" y=\"83.941631\"/>\n     <use style=\"fill:#1f77b4;stroke:#1f77b4;\" x=\"143.811114\" xlink:href=\"#m85d9ac503a\" y=\"66.89266\"/>\n     <use style=\"fill:#1f77b4;stroke:#1f77b4;\" x=\"134.747516\" xlink:href=\"#m85d9ac503a\" y=\"71.159512\"/>\n     <use style=\"fill:#1f77b4;stroke:#1f77b4;\" x=\"122.74798\" xlink:href=\"#m85d9ac503a\" y=\"76.777404\"/>\n     <use style=\"fill:#1f77b4;stroke:#1f77b4;\" x=\"92.001015\" xlink:href=\"#m85d9ac503a\" y=\"49.233503\"/>\n     <use style=\"fill:#1f77b4;stroke:#1f77b4;\" x=\"127.659494\" xlink:href=\"#m85d9ac503a\" y=\"87.420619\"/>\n     <use style=\"fill:#1f77b4;stroke:#1f77b4;\" x=\"137.911683\" xlink:href=\"#m85d9ac503a\" y=\"98.660331\"/>\n     <use style=\"fill:#1f77b4;stroke:#1f77b4;\" x=\"115.45745\" xlink:href=\"#m85d9ac503a\" y=\"64.253698\"/>\n     <use style=\"fill:#1f77b4;stroke:#1f77b4;\" x=\"137.227037\" xlink:href=\"#m85d9ac503a\" y=\"82.187576\"/>\n     <use style=\"fill:#1f77b4;stroke:#1f77b4;\" x=\"138.858796\" xlink:href=\"#m85d9ac503a\" y=\"65.495268\"/>\n     <use style=\"fill:#1f77b4;stroke:#1f77b4;\" x=\"163.589735\" xlink:href=\"#m85d9ac503a\" y=\"93.131704\"/>\n     <use style=\"fill:#1f77b4;stroke:#1f77b4;\" x=\"144.764432\" xlink:href=\"#m85d9ac503a\" y=\"78.16518\"/>\n     <use style=\"fill:#1f77b4;stroke:#1f77b4;\" x=\"134.363438\" xlink:href=\"#m85d9ac503a\" y=\"67.394338\"/>\n     <use style=\"fill:#1f77b4;stroke:#1f77b4;\" x=\"119.626997\" xlink:href=\"#m85d9ac503a\" y=\"54.662677\"/>\n     <use style=\"fill:#1f77b4;stroke:#1f77b4;\" x=\"106.199889\" xlink:href=\"#m85d9ac503a\" y=\"57.578478\"/>\n     <use style=\"fill:#1f77b4;stroke:#1f77b4;\" x=\"180.198301\" xlink:href=\"#m85d9ac503a\" y=\"102.685347\"/>\n     <use style=\"fill:#1f77b4;stroke:#1f77b4;\" x=\"91.024666\" xlink:href=\"#m85d9ac503a\" y=\"43.262924\"/>\n     <use style=\"fill:#1f77b4;stroke:#1f77b4;\" x=\"142.554676\" xlink:href=\"#m85d9ac503a\" y=\"79.210566\"/>\n     <use style=\"fill:#1f77b4;stroke:#1f77b4;\" x=\"72.611883\" xlink:href=\"#m85d9ac503a\" y=\"15.547095\"/>\n     <use style=\"fill:#1f77b4;stroke:#1f77b4;\" x=\"133.919725\" xlink:href=\"#m85d9ac503a\" y=\"78.739879\"/>\n     <use style=\"fill:#1f77b4;stroke:#1f77b4;\" x=\"55.627549\" xlink:href=\"#m85d9ac503a\" y=\"25.817497\"/>\n     <use style=\"fill:#1f77b4;stroke:#1f77b4;\" x=\"99.103335\" xlink:href=\"#m85d9ac503a\" y=\"63.358375\"/>\n     <use style=\"fill:#1f77b4;stroke:#1f77b4;\" x=\"185.493611\" xlink:href=\"#m85d9ac503a\" y=\"106.06302\"/>\n     <use style=\"fill:#1f77b4;stroke:#1f77b4;\" x=\"187.307711\" xlink:href=\"#m85d9ac503a\" y=\"100.211114\"/>\n     <use style=\"fill:#1f77b4;stroke:#1f77b4;\" x=\"123.099855\" xlink:href=\"#m85d9ac503a\" y=\"84.641345\"/>\n     <use style=\"fill:#1f77b4;stroke:#1f77b4;\" x=\"163.507348\" xlink:href=\"#m85d9ac503a\" y=\"105.670074\"/>\n     <use style=\"fill:#1f77b4;stroke:#1f77b4;\" x=\"138.956344\" xlink:href=\"#m85d9ac503a\" y=\"64.014533\"/>\n     <use style=\"fill:#1f77b4;stroke:#1f77b4;\" x=\"105.2891\" xlink:href=\"#m85d9ac503a\" y=\"53.426772\"/>\n     <use style=\"fill:#1f77b4;stroke:#1f77b4;\" x=\"145.388228\" xlink:href=\"#m85d9ac503a\" y=\"90.69566\"/>\n     <use style=\"fill:#1f77b4;stroke:#1f77b4;\" x=\"177.029645\" xlink:href=\"#m85d9ac503a\" y=\"126.157386\"/>\n     <use style=\"fill:#1f77b4;stroke:#1f77b4;\" x=\"121.691313\" xlink:href=\"#m85d9ac503a\" y=\"65.076048\"/>\n     <use style=\"fill:#1f77b4;stroke:#1f77b4;\" x=\"166.55641\" xlink:href=\"#m85d9ac503a\" y=\"108.587128\"/>\n     <use style=\"fill:#1f77b4;stroke:#1f77b4;\" x=\"114.982923\" xlink:href=\"#m85d9ac503a\" y=\"81.564111\"/>\n     <use style=\"fill:#1f77b4;stroke:#1f77b4;\" x=\"92.914855\" xlink:href=\"#m85d9ac503a\" y=\"73.627762\"/>\n     <use style=\"fill:#1f77b4;stroke:#1f77b4;\" x=\"201.612344\" xlink:href=\"#m85d9ac503a\" y=\"134.355945\"/>\n     <use style=\"fill:#1f77b4;stroke:#1f77b4;\" x=\"112.87979\" xlink:href=\"#m85d9ac503a\" y=\"78.818823\"/>\n     <use style=\"fill:#1f77b4;stroke:#1f77b4;\" x=\"111.641411\" xlink:href=\"#m85d9ac503a\" y=\"52.542569\"/>\n     <use style=\"fill:#1f77b4;stroke:#1f77b4;\" x=\"115.096084\" xlink:href=\"#m85d9ac503a\" y=\"74.851263\"/>\n     <use style=\"fill:#1f77b4;stroke:#1f77b4;\" x=\"158.320086\" xlink:href=\"#m85d9ac503a\" y=\"110.051922\"/>\n     <use style=\"fill:#1f77b4;stroke:#1f77b4;\" x=\"165.648479\" xlink:href=\"#m85d9ac503a\" y=\"89.65574\"/>\n     <use style=\"fill:#1f77b4;stroke:#1f77b4;\" x=\"87.877042\" xlink:href=\"#m85d9ac503a\" y=\"55.235019\"/>\n     <use style=\"fill:#1f77b4;stroke:#1f77b4;\" x=\"160.31818\" xlink:href=\"#m85d9ac503a\" y=\"104.631584\"/>\n     <use style=\"fill:#1f77b4;stroke:#1f77b4;\" x=\"154.600679\" xlink:href=\"#m85d9ac503a\" y=\"106.013209\"/>\n     <use style=\"fill:#1f77b4;stroke:#1f77b4;\" x=\"72.796848\" xlink:href=\"#m85d9ac503a\" y=\"31.819488\"/>\n     <use style=\"fill:#1f77b4;stroke:#1f77b4;\" x=\"136.61691\" xlink:href=\"#m85d9ac503a\" y=\"74.859631\"/>\n     <use style=\"fill:#1f77b4;stroke:#1f77b4;\" x=\"127.023329\" xlink:href=\"#m85d9ac503a\" y=\"79.785858\"/>\n     <use style=\"fill:#1f77b4;stroke:#1f77b4;\" x=\"162.610929\" xlink:href=\"#m85d9ac503a\" y=\"83.656183\"/>\n     <use style=\"fill:#1f77b4;stroke:#1f77b4;\" x=\"87.934573\" xlink:href=\"#m85d9ac503a\" y=\"56.984264\"/>\n     <use style=\"fill:#1f77b4;stroke:#1f77b4;\" x=\"132.103756\" xlink:href=\"#m85d9ac503a\" y=\"98.746765\"/>\n     <use style=\"fill:#1f77b4;stroke:#1f77b4;\" x=\"92.544692\" xlink:href=\"#m85d9ac503a\" y=\"60.535749\"/>\n     <use style=\"fill:#1f77b4;stroke:#1f77b4;\" x=\"123.116788\" xlink:href=\"#m85d9ac503a\" y=\"78.699668\"/>\n     <use style=\"fill:#1f77b4;stroke:#1f77b4;\" x=\"142.347159\" xlink:href=\"#m85d9ac503a\" y=\"104.253091\"/>\n     <use style=\"fill:#1f77b4;stroke:#1f77b4;\" x=\"140.663234\" xlink:href=\"#m85d9ac503a\" y=\"98.809118\"/>\n     <use style=\"fill:#1f77b4;stroke:#1f77b4;\" x=\"142.53068\" xlink:href=\"#m85d9ac503a\" y=\"74.115002\"/>\n     <use style=\"fill:#1f77b4;stroke:#1f77b4;\" x=\"115.325657\" xlink:href=\"#m85d9ac503a\" y=\"62.028727\"/>\n     <use style=\"fill:#1f77b4;stroke:#1f77b4;\" x=\"126.59671\" xlink:href=\"#m85d9ac503a\" y=\"71.654201\"/>\n     <use style=\"fill:#1f77b4;stroke:#1f77b4;\" x=\"115.618235\" xlink:href=\"#m85d9ac503a\" y=\"80.487595\"/>\n     <use style=\"fill:#1f77b4;stroke:#1f77b4;\" x=\"111.371681\" xlink:href=\"#m85d9ac503a\" y=\"57.007569\"/>\n     <use style=\"fill:#1f77b4;stroke:#1f77b4;\" x=\"160.387529\" xlink:href=\"#m85d9ac503a\" y=\"80.858605\"/>\n     <use style=\"fill:#1f77b4;stroke:#1f77b4;\" x=\"133.602982\" xlink:href=\"#m85d9ac503a\" y=\"85.560853\"/>\n     <use style=\"fill:#1f77b4;stroke:#1f77b4;\" x=\"159.7053\" xlink:href=\"#m85d9ac503a\" y=\"98.301022\"/>\n     <use style=\"fill:#1f77b4;stroke:#1f77b4;\" x=\"108.735722\" xlink:href=\"#m85d9ac503a\" y=\"58.170999\"/>\n     <use style=\"fill:#1f77b4;stroke:#1f77b4;\" x=\"109.196266\" xlink:href=\"#m85d9ac503a\" y=\"53.355928\"/>\n     <use style=\"fill:#1f77b4;stroke:#1f77b4;\" x=\"141.150729\" xlink:href=\"#m85d9ac503a\" y=\"80.058158\"/>\n     <use style=\"fill:#1f77b4;stroke:#1f77b4;\" x=\"144.084324\" xlink:href=\"#m85d9ac503a\" y=\"96.192292\"/>\n     <use style=\"fill:#1f77b4;stroke:#1f77b4;\" x=\"99.308584\" xlink:href=\"#m85d9ac503a\" y=\"71.83737\"/>\n     <use style=\"fill:#1f77b4;stroke:#1f77b4;\" x=\"93.307576\" xlink:href=\"#m85d9ac503a\" y=\"61.62064\"/>\n     <use style=\"fill:#1f77b4;stroke:#1f77b4;\" x=\"109.385757\" xlink:href=\"#m85d9ac503a\" y=\"54.962896\"/>\n     <use style=\"fill:#1f77b4;stroke:#1f77b4;\" x=\"151.917819\" xlink:href=\"#m85d9ac503a\" y=\"101.562429\"/>\n     <use style=\"fill:#1f77b4;stroke:#1f77b4;\" x=\"112.3594\" xlink:href=\"#m85d9ac503a\" y=\"65.285816\"/>\n     <use style=\"fill:#1f77b4;stroke:#1f77b4;\" x=\"97.623658\" xlink:href=\"#m85d9ac503a\" y=\"59.414924\"/>\n     <use style=\"fill:#1f77b4;stroke:#1f77b4;\" x=\"137.054177\" xlink:href=\"#m85d9ac503a\" y=\"96.655001\"/>\n     <use style=\"fill:#1f77b4;stroke:#1f77b4;\" x=\"106.696191\" xlink:href=\"#m85d9ac503a\" y=\"73.726299\"/>\n     <use style=\"fill:#1f77b4;stroke:#1f77b4;\" x=\"132.779448\" xlink:href=\"#m85d9ac503a\" y=\"77.910822\"/>\n     <use style=\"fill:#1f77b4;stroke:#1f77b4;\" x=\"139.313379\" xlink:href=\"#m85d9ac503a\" y=\"79.655123\"/>\n     <use style=\"fill:#1f77b4;stroke:#1f77b4;\" x=\"132.32447\" xlink:href=\"#m85d9ac503a\" y=\"83.678238\"/>\n     <use style=\"fill:#1f77b4;stroke:#1f77b4;\" x=\"119.995357\" xlink:href=\"#m85d9ac503a\" y=\"60.683573\"/>\n     <use style=\"fill:#1f77b4;stroke:#1f77b4;\" x=\"125.309086\" xlink:href=\"#m85d9ac503a\" y=\"74.249095\"/>\n     <use style=\"fill:#1f77b4;stroke:#1f77b4;\" x=\"78.286358\" xlink:href=\"#m85d9ac503a\" y=\"29.869916\"/>\n     <use style=\"fill:#1f77b4;stroke:#1f77b4;\" x=\"150.42583\" xlink:href=\"#m85d9ac503a\" y=\"88.683593\"/>\n     <use style=\"fill:#1f77b4;stroke:#1f77b4;\" x=\"122.028903\" xlink:href=\"#m85d9ac503a\" y=\"86.191169\"/>\n     <use style=\"fill:#1f77b4;stroke:#1f77b4;\" x=\"104.576719\" xlink:href=\"#m85d9ac503a\" y=\"64.237676\"/>\n     <use style=\"fill:#1f77b4;stroke:#1f77b4;\" x=\"111.007874\" xlink:href=\"#m85d9ac503a\" y=\"48.992386\"/>\n     <use style=\"fill:#1f77b4;stroke:#1f77b4;\" x=\"114.663787\" xlink:href=\"#m85d9ac503a\" y=\"58.242651\"/>\n     <use style=\"fill:#1f77b4;stroke:#1f77b4;\" x=\"109.695026\" xlink:href=\"#m85d9ac503a\" y=\"56.261554\"/>\n     <use style=\"fill:#1f77b4;stroke:#1f77b4;\" x=\"159.157629\" xlink:href=\"#m85d9ac503a\" y=\"97.179385\"/>\n     <use style=\"fill:#1f77b4;stroke:#1f77b4;\" x=\"140.37226\" xlink:href=\"#m85d9ac503a\" y=\"77.301787\"/>\n     <use style=\"fill:#1f77b4;stroke:#1f77b4;\" x=\"93.657857\" xlink:href=\"#m85d9ac503a\" y=\"66.309542\"/>\n     <use style=\"fill:#1f77b4;stroke:#1f77b4;\" x=\"172.641139\" xlink:href=\"#m85d9ac503a\" y=\"108.113999\"/>\n     <use style=\"fill:#1f77b4;stroke:#1f77b4;\" x=\"152.254712\" xlink:href=\"#m85d9ac503a\" y=\"92.942911\"/>\n     <use style=\"fill:#1f77b4;stroke:#1f77b4;\" x=\"120.55142\" xlink:href=\"#m85d9ac503a\" y=\"58.046483\"/>\n     <use style=\"fill:#1f77b4;stroke:#1f77b4;\" x=\"134.651843\" xlink:href=\"#m85d9ac503a\" y=\"94.267152\"/>\n     <use style=\"fill:#1f77b4;stroke:#1f77b4;\" x=\"121.796376\" xlink:href=\"#m85d9ac503a\" y=\"61.741364\"/>\n     <use style=\"fill:#1f77b4;stroke:#1f77b4;\" x=\"109.08073\" xlink:href=\"#m85d9ac503a\" y=\"62.807133\"/>\n     <use style=\"fill:#1f77b4;stroke:#1f77b4;\" x=\"156.139045\" xlink:href=\"#m85d9ac503a\" y=\"69.074631\"/>\n     <use style=\"fill:#1f77b4;stroke:#1f77b4;\" x=\"70.962622\" xlink:href=\"#m85d9ac503a\" y=\"49.740575\"/>\n     <use style=\"fill:#1f77b4;stroke:#1f77b4;\" x=\"91.821017\" xlink:href=\"#m85d9ac503a\" y=\"41.094317\"/>\n     <use style=\"fill:#1f77b4;stroke:#1f77b4;\" x=\"116.170399\" xlink:href=\"#m85d9ac503a\" y=\"61.873152\"/>\n     <use style=\"fill:#1f77b4;stroke:#1f77b4;\" x=\"113.803384\" xlink:href=\"#m85d9ac503a\" y=\"64.313977\"/>\n     <use style=\"fill:#1f77b4;stroke:#1f77b4;\" x=\"128.160773\" xlink:href=\"#m85d9ac503a\" y=\"93.369352\"/>\n     <use style=\"fill:#1f77b4;stroke:#1f77b4;\" x=\"144.246938\" xlink:href=\"#m85d9ac503a\" y=\"108.409198\"/>\n     <use style=\"fill:#1f77b4;stroke:#1f77b4;\" x=\"172.115934\" xlink:href=\"#m85d9ac503a\" y=\"102.918076\"/>\n     <use style=\"fill:#1f77b4;stroke:#1f77b4;\" x=\"113.424323\" xlink:href=\"#m85d9ac503a\" y=\"67.183065\"/>\n     <use style=\"fill:#1f77b4;stroke:#1f77b4;\" x=\"159.538865\" xlink:href=\"#m85d9ac503a\" y=\"98.57228\"/>\n     <use style=\"fill:#1f77b4;stroke:#1f77b4;\" x=\"134.972502\" xlink:href=\"#m85d9ac503a\" y=\"92.059555\"/>\n     <use style=\"fill:#1f77b4;stroke:#1f77b4;\" x=\"187.268697\" xlink:href=\"#m85d9ac503a\" y=\"119.001834\"/>\n     <use style=\"fill:#1f77b4;stroke:#1f77b4;\" x=\"124.69072\" xlink:href=\"#m85d9ac503a\" y=\"83.989088\"/>\n     <use style=\"fill:#1f77b4;stroke:#1f77b4;\" x=\"121.859584\" xlink:href=\"#m85d9ac503a\" y=\"71.552443\"/>\n     <use style=\"fill:#1f77b4;stroke:#1f77b4;\" x=\"156.466342\" xlink:href=\"#m85d9ac503a\" y=\"109.353419\"/>\n     <use style=\"fill:#1f77b4;stroke:#1f77b4;\" x=\"86.395443\" xlink:href=\"#m85d9ac503a\" y=\"57.80698\"/>\n     <use style=\"fill:#1f77b4;stroke:#1f77b4;\" x=\"135.81373\" xlink:href=\"#m85d9ac503a\" y=\"78.070665\"/>\n     <use style=\"fill:#1f77b4;stroke:#1f77b4;\" x=\"119.021486\" xlink:href=\"#m85d9ac503a\" y=\"66.329572\"/>\n     <use style=\"fill:#1f77b4;stroke:#1f77b4;\" x=\"135.702702\" xlink:href=\"#m85d9ac503a\" y=\"76.772636\"/>\n     <use style=\"fill:#1f77b4;stroke:#1f77b4;\" x=\"97.869356\" xlink:href=\"#m85d9ac503a\" y=\"55.634089\"/>\n     <use style=\"fill:#1f77b4;stroke:#1f77b4;\" x=\"139.23231\" xlink:href=\"#m85d9ac503a\" y=\"87.047864\"/>\n     <use style=\"fill:#1f77b4;stroke:#1f77b4;\" x=\"116.826338\" xlink:href=\"#m85d9ac503a\" y=\"77.169109\"/>\n     <use style=\"fill:#1f77b4;stroke:#1f77b4;\" x=\"92.89346\" xlink:href=\"#m85d9ac503a\" y=\"55.149662\"/>\n     <use style=\"fill:#1f77b4;stroke:#1f77b4;\" x=\"178.762878\" xlink:href=\"#m85d9ac503a\" y=\"105.982367\"/>\n     <use style=\"fill:#1f77b4;stroke:#1f77b4;\" x=\"145.988254\" xlink:href=\"#m85d9ac503a\" y=\"83.117417\"/>\n     <use style=\"fill:#1f77b4;stroke:#1f77b4;\" x=\"140.758561\" xlink:href=\"#m85d9ac503a\" y=\"71.867661\"/>\n     <use style=\"fill:#1f77b4;stroke:#1f77b4;\" x=\"169.374563\" xlink:href=\"#m85d9ac503a\" y=\"84.496577\"/>\n     <use style=\"fill:#1f77b4;stroke:#1f77b4;\" x=\"120.563133\" xlink:href=\"#m85d9ac503a\" y=\"81.101926\"/>\n     <use style=\"fill:#1f77b4;stroke:#1f77b4;\" x=\"147.74788\" xlink:href=\"#m85d9ac503a\" y=\"76.055243\"/>\n     <use style=\"fill:#1f77b4;stroke:#1f77b4;\" x=\"99.828348\" xlink:href=\"#m85d9ac503a\" y=\"58.435173\"/>\n     <use style=\"fill:#1f77b4;stroke:#1f77b4;\" x=\"141.647574\" xlink:href=\"#m85d9ac503a\" y=\"77.006203\"/>\n     <use style=\"fill:#1f77b4;stroke:#1f77b4;\" x=\"151.316091\" xlink:href=\"#m85d9ac503a\" y=\"67.361195\"/>\n     <use style=\"fill:#1f77b4;stroke:#1f77b4;\" x=\"160.872854\" xlink:href=\"#m85d9ac503a\" y=\"98.98804\"/>\n     <use style=\"fill:#1f77b4;stroke:#1f77b4;\" x=\"100.125961\" xlink:href=\"#m85d9ac503a\" y=\"56.302364\"/>\n     <use style=\"fill:#1f77b4;stroke:#1f77b4;\" x=\"140.314738\" xlink:href=\"#m85d9ac503a\" y=\"74.157794\"/>\n     <use style=\"fill:#1f77b4;stroke:#1f77b4;\" x=\"133.41354\" xlink:href=\"#m85d9ac503a\" y=\"86.32275\"/>\n     <use style=\"fill:#1f77b4;stroke:#1f77b4;\" x=\"128.430055\" xlink:href=\"#m85d9ac503a\" y=\"72.251982\"/>\n     <use style=\"fill:#1f77b4;stroke:#1f77b4;\" x=\"121.075322\" xlink:href=\"#m85d9ac503a\" y=\"75.350723\"/>\n     <use style=\"fill:#1f77b4;stroke:#1f77b4;\" x=\"71.5875\" xlink:href=\"#m85d9ac503a\" y=\"33.392539\"/>\n     <use style=\"fill:#1f77b4;stroke:#1f77b4;\" x=\"139.091997\" xlink:href=\"#m85d9ac503a\" y=\"74.183828\"/>\n     <use style=\"fill:#1f77b4;stroke:#1f77b4;\" x=\"140.572114\" xlink:href=\"#m85d9ac503a\" y=\"73.528375\"/>\n     <use style=\"fill:#1f77b4;stroke:#1f77b4;\" x=\"66.998324\" xlink:href=\"#m85d9ac503a\" y=\"37.272443\"/>\n     <use style=\"fill:#1f77b4;stroke:#1f77b4;\" x=\"112.628739\" xlink:href=\"#m85d9ac503a\" y=\"65.406076\"/>\n     <use style=\"fill:#1f77b4;stroke:#1f77b4;\" x=\"184.181176\" xlink:href=\"#m85d9ac503a\" y=\"117.583105\"/>\n     <use style=\"fill:#1f77b4;stroke:#1f77b4;\" x=\"151.133609\" xlink:href=\"#m85d9ac503a\" y=\"75.466048\"/>\n     <use style=\"fill:#1f77b4;stroke:#1f77b4;\" x=\"147.909608\" xlink:href=\"#m85d9ac503a\" y=\"82.2888\"/>\n     <use style=\"fill:#1f77b4;stroke:#1f77b4;\" x=\"71.456841\" xlink:href=\"#m85d9ac503a\" y=\"36.319717\"/>\n     <use style=\"fill:#1f77b4;stroke:#1f77b4;\" x=\"107.293616\" xlink:href=\"#m85d9ac503a\" y=\"50.503688\"/>\n     <use style=\"fill:#1f77b4;stroke:#1f77b4;\" x=\"91.047987\" xlink:href=\"#m85d9ac503a\" y=\"58.367874\"/>\n     <use style=\"fill:#1f77b4;stroke:#1f77b4;\" x=\"80.607879\" xlink:href=\"#m85d9ac503a\" y=\"46.793678\"/>\n     <use style=\"fill:#1f77b4;stroke:#1f77b4;\" x=\"93.77487\" xlink:href=\"#m85d9ac503a\" y=\"47.83565\"/>\n     <use style=\"fill:#1f77b4;stroke:#1f77b4;\" x=\"101.586227\" xlink:href=\"#m85d9ac503a\" y=\"61.205785\"/>\n     <use style=\"fill:#1f77b4;stroke:#1f77b4;\" x=\"99.969475\" xlink:href=\"#m85d9ac503a\" y=\"58.975081\"/>\n     <use style=\"fill:#1f77b4;stroke:#1f77b4;\" x=\"168.637679\" xlink:href=\"#m85d9ac503a\" y=\"106.772077\"/>\n     <use style=\"fill:#1f77b4;stroke:#1f77b4;\" x=\"161.929798\" xlink:href=\"#m85d9ac503a\" y=\"101.603793\"/>\n     <use style=\"fill:#1f77b4;stroke:#1f77b4;\" x=\"116.138822\" xlink:href=\"#m85d9ac503a\" y=\"47.286999\"/>\n     <use style=\"fill:#1f77b4;stroke:#1f77b4;\" x=\"141.768577\" xlink:href=\"#m85d9ac503a\" y=\"90.729687\"/>\n     <use style=\"fill:#1f77b4;stroke:#1f77b4;\" x=\"133.080696\" xlink:href=\"#m85d9ac503a\" y=\"78.039695\"/>\n     <use style=\"fill:#1f77b4;stroke:#1f77b4;\" x=\"110.137535\" xlink:href=\"#m85d9ac503a\" y=\"62.500656\"/>\n     <use style=\"fill:#1f77b4;stroke:#1f77b4;\" x=\"141.352352\" xlink:href=\"#m85d9ac503a\" y=\"95.715318\"/>\n     <use style=\"fill:#1f77b4;stroke:#1f77b4;\" x=\"118.529359\" xlink:href=\"#m85d9ac503a\" y=\"67.029787\"/>\n     <use style=\"fill:#1f77b4;stroke:#1f77b4;\" x=\"103.600585\" xlink:href=\"#m85d9ac503a\" y=\"58.328208\"/>\n     <use style=\"fill:#1f77b4;stroke:#1f77b4;\" x=\"116.878034\" xlink:href=\"#m85d9ac503a\" y=\"56.647749\"/>\n     <use style=\"fill:#1f77b4;stroke:#1f77b4;\" x=\"157.160603\" xlink:href=\"#m85d9ac503a\" y=\"68.934315\"/>\n     <use style=\"fill:#1f77b4;stroke:#1f77b4;\" x=\"162.415686\" xlink:href=\"#m85d9ac503a\" y=\"99.208308\"/>\n     <use style=\"fill:#1f77b4;stroke:#1f77b4;\" x=\"106.701503\" xlink:href=\"#m85d9ac503a\" y=\"72.719341\"/>\n     <use style=\"fill:#1f77b4;stroke:#1f77b4;\" x=\"142.573846\" xlink:href=\"#m85d9ac503a\" y=\"104.239626\"/>\n     <use style=\"fill:#1f77b4;stroke:#1f77b4;\" x=\"109.657112\" xlink:href=\"#m85d9ac503a\" y=\"78.40171\"/>\n     <use style=\"fill:#1f77b4;stroke:#1f77b4;\" x=\"160.846409\" xlink:href=\"#m85d9ac503a\" y=\"104.046321\"/>\n     <use style=\"fill:#1f77b4;stroke:#1f77b4;\" x=\"84.306316\" xlink:href=\"#m85d9ac503a\" y=\"34.051644\"/>\n     <use style=\"fill:#1f77b4;stroke:#1f77b4;\" x=\"112.744672\" xlink:href=\"#m85d9ac503a\" y=\"59.524776\"/>\n     <use style=\"fill:#1f77b4;stroke:#1f77b4;\" x=\"140.301567\" xlink:href=\"#m85d9ac503a\" y=\"66.885324\"/>\n     <use style=\"fill:#1f77b4;stroke:#1f77b4;\" x=\"95.285346\" xlink:href=\"#m85d9ac503a\" y=\"59.532509\"/>\n     <use style=\"fill:#1f77b4;stroke:#1f77b4;\" x=\"74.63526\" xlink:href=\"#m85d9ac503a\" y=\"43.275649\"/>\n     <use style=\"fill:#1f77b4;stroke:#1f77b4;\" x=\"138.843714\" xlink:href=\"#m85d9ac503a\" y=\"83.788057\"/>\n     <use style=\"fill:#1f77b4;stroke:#1f77b4;\" x=\"87.776441\" xlink:href=\"#m85d9ac503a\" y=\"37.720107\"/>\n     <use style=\"fill:#1f77b4;stroke:#1f77b4;\" x=\"167.549661\" xlink:href=\"#m85d9ac503a\" y=\"100.350499\"/>\n     <use style=\"fill:#1f77b4;stroke:#1f77b4;\" x=\"186.255534\" xlink:href=\"#m85d9ac503a\" y=\"124.749587\"/>\n     <use style=\"fill:#1f77b4;stroke:#1f77b4;\" x=\"141.049471\" xlink:href=\"#m85d9ac503a\" y=\"82.091494\"/>\n     <use style=\"fill:#1f77b4;stroke:#1f77b4;\" x=\"161.181119\" xlink:href=\"#m85d9ac503a\" y=\"100.833751\"/>\n     <use style=\"fill:#1f77b4;stroke:#1f77b4;\" x=\"96.645239\" xlink:href=\"#m85d9ac503a\" y=\"65.810767\"/>\n     <use style=\"fill:#1f77b4;stroke:#1f77b4;\" x=\"128.525092\" xlink:href=\"#m85d9ac503a\" y=\"73.851854\"/>\n     <use style=\"fill:#1f77b4;stroke:#1f77b4;\" x=\"157.737263\" xlink:href=\"#m85d9ac503a\" y=\"108.992757\"/>\n     <use style=\"fill:#1f77b4;stroke:#1f77b4;\" x=\"147.59359\" xlink:href=\"#m85d9ac503a\" y=\"93.482059\"/>\n     <use style=\"fill:#1f77b4;stroke:#1f77b4;\" x=\"133.461935\" xlink:href=\"#m85d9ac503a\" y=\"66.459871\"/>\n     <use style=\"fill:#1f77b4;stroke:#1f77b4;\" x=\"148.653727\" xlink:href=\"#m85d9ac503a\" y=\"90.023187\"/>\n     <use style=\"fill:#1f77b4;stroke:#1f77b4;\" x=\"96.643697\" xlink:href=\"#m85d9ac503a\" y=\"47.869282\"/>\n     <use style=\"fill:#1f77b4;stroke:#1f77b4;\" x=\"138.012265\" xlink:href=\"#m85d9ac503a\" y=\"88.163166\"/>\n     <use style=\"fill:#1f77b4;stroke:#1f77b4;\" x=\"148.790544\" xlink:href=\"#m85d9ac503a\" y=\"96.196336\"/>\n     <use style=\"fill:#1f77b4;stroke:#1f77b4;\" x=\"158.154213\" xlink:href=\"#m85d9ac503a\" y=\"96.684128\"/>\n     <use style=\"fill:#1f77b4;stroke:#1f77b4;\" x=\"167.778328\" xlink:href=\"#m85d9ac503a\" y=\"93.251984\"/>\n     <use style=\"fill:#1f77b4;stroke:#1f77b4;\" x=\"146.696162\" xlink:href=\"#m85d9ac503a\" y=\"102.060991\"/>\n     <use style=\"fill:#1f77b4;stroke:#1f77b4;\" x=\"132.187056\" xlink:href=\"#m85d9ac503a\" y=\"72.093355\"/>\n     <use style=\"fill:#1f77b4;stroke:#1f77b4;\" x=\"55.05351\" xlink:href=\"#m85d9ac503a\" y=\"25.079639\"/>\n     <use style=\"fill:#1f77b4;stroke:#1f77b4;\" x=\"107.306229\" xlink:href=\"#m85d9ac503a\" y=\"67.820257\"/>\n     <use style=\"fill:#1f77b4;stroke:#1f77b4;\" x=\"119.868042\" xlink:href=\"#m85d9ac503a\" y=\"53.890018\"/>\n     <use style=\"fill:#1f77b4;stroke:#1f77b4;\" x=\"141.908094\" xlink:href=\"#m85d9ac503a\" y=\"79.362481\"/>\n     <use style=\"fill:#1f77b4;stroke:#1f77b4;\" x=\"152.552442\" xlink:href=\"#m85d9ac503a\" y=\"101.084257\"/>\n     <use style=\"fill:#1f77b4;stroke:#1f77b4;\" x=\"56.656713\" xlink:href=\"#m85d9ac503a\" y=\"22.563019\"/>\n     <use style=\"fill:#1f77b4;stroke:#1f77b4;\" x=\"157.967763\" xlink:href=\"#m85d9ac503a\" y=\"85.398316\"/>\n     <use style=\"fill:#1f77b4;stroke:#1f77b4;\" x=\"140.017563\" xlink:href=\"#m85d9ac503a\" y=\"107.411498\"/>\n     <use style=\"fill:#1f77b4;stroke:#1f77b4;\" x=\"105.850415\" xlink:href=\"#m85d9ac503a\" y=\"73.487256\"/>\n     <use style=\"fill:#1f77b4;stroke:#1f77b4;\" x=\"121.268887\" xlink:href=\"#m85d9ac503a\" y=\"71.231608\"/>\n     <use style=\"fill:#1f77b4;stroke:#1f77b4;\" x=\"97.850761\" xlink:href=\"#m85d9ac503a\" y=\"56.474758\"/>\n     <use style=\"fill:#1f77b4;stroke:#1f77b4;\" x=\"156.085095\" xlink:href=\"#m85d9ac503a\" y=\"110.924179\"/>\n     <use style=\"fill:#1f77b4;stroke:#1f77b4;\" x=\"133.563541\" xlink:href=\"#m85d9ac503a\" y=\"86.078062\"/>\n     <use style=\"fill:#1f77b4;stroke:#1f77b4;\" x=\"82.127141\" xlink:href=\"#m85d9ac503a\" y=\"36.595535\"/>\n     <use style=\"fill:#1f77b4;stroke:#1f77b4;\" x=\"73.641341\" xlink:href=\"#m85d9ac503a\" y=\"45.379906\"/>\n     <use style=\"fill:#1f77b4;stroke:#1f77b4;\" x=\"137.085603\" xlink:href=\"#m85d9ac503a\" y=\"85.840689\"/>\n     <use style=\"fill:#1f77b4;stroke:#1f77b4;\" x=\"112.935603\" xlink:href=\"#m85d9ac503a\" y=\"45.059889\"/>\n     <use style=\"fill:#1f77b4;stroke:#1f77b4;\" x=\"136.329576\" xlink:href=\"#m85d9ac503a\" y=\"86.391669\"/>\n     <use style=\"fill:#1f77b4;stroke:#1f77b4;\" x=\"123.850526\" xlink:href=\"#m85d9ac503a\" y=\"87.443854\"/>\n     <use style=\"fill:#1f77b4;stroke:#1f77b4;\" x=\"132.748392\" xlink:href=\"#m85d9ac503a\" y=\"61.276794\"/>\n     <use style=\"fill:#1f77b4;stroke:#1f77b4;\" x=\"107.952058\" xlink:href=\"#m85d9ac503a\" y=\"75.02843\"/>\n     <use style=\"fill:#1f77b4;stroke:#1f77b4;\" x=\"124.154086\" xlink:href=\"#m85d9ac503a\" y=\"57.960813\"/>\n     <use style=\"fill:#1f77b4;stroke:#1f77b4;\" x=\"142.230128\" xlink:href=\"#m85d9ac503a\" y=\"82.420964\"/>\n     <use style=\"fill:#1f77b4;stroke:#1f77b4;\" x=\"107.621193\" xlink:href=\"#m85d9ac503a\" y=\"69.22893\"/>\n     <use style=\"fill:#1f77b4;stroke:#1f77b4;\" x=\"147.614239\" xlink:href=\"#m85d9ac503a\" y=\"86.487926\"/>\n     <use style=\"fill:#1f77b4;stroke:#1f77b4;\" x=\"141.963646\" xlink:href=\"#m85d9ac503a\" y=\"96.626144\"/>\n     <use style=\"fill:#1f77b4;stroke:#1f77b4;\" x=\"137.629001\" xlink:href=\"#m85d9ac503a\" y=\"86.459354\"/>\n     <use style=\"fill:#1f77b4;stroke:#1f77b4;\" x=\"152.152755\" xlink:href=\"#m85d9ac503a\" y=\"79.162036\"/>\n     <use style=\"fill:#1f77b4;stroke:#1f77b4;\" x=\"138.106072\" xlink:href=\"#m85d9ac503a\" y=\"91.219409\"/>\n     <use style=\"fill:#1f77b4;stroke:#1f77b4;\" x=\"128.565393\" xlink:href=\"#m85d9ac503a\" y=\"74.743151\"/>\n     <use style=\"fill:#1f77b4;stroke:#1f77b4;\" x=\"167.052361\" xlink:href=\"#m85d9ac503a\" y=\"78.913283\"/>\n     <use style=\"fill:#1f77b4;stroke:#1f77b4;\" x=\"141.467604\" xlink:href=\"#m85d9ac503a\" y=\"80.969599\"/>\n     <use style=\"fill:#1f77b4;stroke:#1f77b4;\" x=\"168.539201\" xlink:href=\"#m85d9ac503a\" y=\"100.13379\"/>\n     <use style=\"fill:#1f77b4;stroke:#1f77b4;\" x=\"110.914823\" xlink:href=\"#m85d9ac503a\" y=\"49.929903\"/>\n     <use style=\"fill:#1f77b4;stroke:#1f77b4;\" x=\"139.388042\" xlink:href=\"#m85d9ac503a\" y=\"77.958066\"/>\n     <use style=\"fill:#1f77b4;stroke:#1f77b4;\" x=\"109.480677\" xlink:href=\"#m85d9ac503a\" y=\"51.370666\"/>\n     <use style=\"fill:#1f77b4;stroke:#1f77b4;\" x=\"135.773348\" xlink:href=\"#m85d9ac503a\" y=\"103.203211\"/>\n     <use style=\"fill:#1f77b4;stroke:#1f77b4;\" x=\"112.539303\" xlink:href=\"#m85d9ac503a\" y=\"95.378143\"/>\n     <use style=\"fill:#1f77b4;stroke:#1f77b4;\" x=\"175.082032\" xlink:href=\"#m85d9ac503a\" y=\"97.439274\"/>\n     <use style=\"fill:#1f77b4;stroke:#1f77b4;\" x=\"66.412458\" xlink:href=\"#m85d9ac503a\" y=\"45.839084\"/>\n     <use style=\"fill:#1f77b4;stroke:#1f77b4;\" x=\"134.549115\" xlink:href=\"#m85d9ac503a\" y=\"88.265033\"/>\n     <use style=\"fill:#1f77b4;stroke:#1f77b4;\" x=\"112.334671\" xlink:href=\"#m85d9ac503a\" y=\"60.96917\"/>\n     <use style=\"fill:#1f77b4;stroke:#1f77b4;\" x=\"81.777545\" xlink:href=\"#m85d9ac503a\" y=\"36.525896\"/>\n     <use style=\"fill:#1f77b4;stroke:#1f77b4;\" x=\"120.0353\" xlink:href=\"#m85d9ac503a\" y=\"69.096007\"/>\n     <use style=\"fill:#1f77b4;stroke:#1f77b4;\" x=\"120.597255\" xlink:href=\"#m85d9ac503a\" y=\"84.585449\"/>\n     <use style=\"fill:#1f77b4;stroke:#1f77b4;\" x=\"132.024693\" xlink:href=\"#m85d9ac503a\" y=\"70.845531\"/>\n     <use style=\"fill:#1f77b4;stroke:#1f77b4;\" x=\"147.883693\" xlink:href=\"#m85d9ac503a\" y=\"73.278514\"/>\n     <use style=\"fill:#1f77b4;stroke:#1f77b4;\" x=\"167.60007\" xlink:href=\"#m85d9ac503a\" y=\"109.414868\"/>\n     <use style=\"fill:#1f77b4;stroke:#1f77b4;\" x=\"85.814443\" xlink:href=\"#m85d9ac503a\" y=\"60.048214\"/>\n     <use style=\"fill:#1f77b4;stroke:#1f77b4;\" x=\"97.16283\" xlink:href=\"#m85d9ac503a\" y=\"43.664757\"/>\n     <use style=\"fill:#1f77b4;stroke:#1f77b4;\" x=\"196.012008\" xlink:href=\"#m85d9ac503a\" y=\"110.416187\"/>\n     <use style=\"fill:#1f77b4;stroke:#1f77b4;\" x=\"140.37674\" xlink:href=\"#m85d9ac503a\" y=\"89.172597\"/>\n     <use style=\"fill:#1f77b4;stroke:#1f77b4;\" x=\"88.668559\" xlink:href=\"#m85d9ac503a\" y=\"50.10698\"/>\n     <use style=\"fill:#1f77b4;stroke:#1f77b4;\" x=\"108.564496\" xlink:href=\"#m85d9ac503a\" y=\"76.410887\"/>\n     <use style=\"fill:#1f77b4;stroke:#1f77b4;\" x=\"139.478296\" xlink:href=\"#m85d9ac503a\" y=\"95.209249\"/>\n     <use style=\"fill:#1f77b4;stroke:#1f77b4;\" x=\"123.24702\" xlink:href=\"#m85d9ac503a\" y=\"68.841798\"/>\n    </g>\n   </g>\n   <g id=\"matplotlib.axis_1\">\n    <g id=\"xtick_1\">\n     <g id=\"line2d_1\">\n      <defs>\n       <path d=\"M 0 0 \nL 0 3.5 \n\" id=\"mae242165a7\" style=\"stroke:#000000;stroke-width:0.8;\"/>\n      </defs>\n      <g>\n       <use style=\"stroke:#000000;stroke-width:0.8;\" x=\"71.130868\" xlink:href=\"#mae242165a7\" y=\"143.1\"/>\n      </g>\n     </g>\n     <g id=\"text_1\">\n      <!-- −2 -->\n      <defs>\n       <path d=\"M 10.59375 35.5 \nL 73.1875 35.5 \nL 73.1875 27.203125 \nL 10.59375 27.203125 \nz\n\" id=\"DejaVuSans-8722\"/>\n       <path d=\"M 19.1875 8.296875 \nL 53.609375 8.296875 \nL 53.609375 0 \nL 7.328125 0 \nL 7.328125 8.296875 \nQ 12.9375 14.109375 22.625 23.890625 \nQ 32.328125 33.6875 34.8125 36.53125 \nQ 39.546875 41.84375 41.421875 45.53125 \nQ 43.3125 49.21875 43.3125 52.78125 \nQ 43.3125 58.59375 39.234375 62.25 \nQ 35.15625 65.921875 28.609375 65.921875 \nQ 23.96875 65.921875 18.8125 64.3125 \nQ 13.671875 62.703125 7.8125 59.421875 \nL 7.8125 69.390625 \nQ 13.765625 71.78125 18.9375 73 \nQ 24.125 74.21875 28.421875 74.21875 \nQ 39.75 74.21875 46.484375 68.546875 \nQ 53.21875 62.890625 53.21875 53.421875 \nQ 53.21875 48.921875 51.53125 44.890625 \nQ 49.859375 40.875 45.40625 35.40625 \nQ 44.1875 33.984375 37.640625 27.21875 \nQ 31.109375 20.453125 19.1875 8.296875 \nz\n\" id=\"DejaVuSans-50\"/>\n      </defs>\n      <g transform=\"translate(63.759774 157.698438)scale(0.1 -0.1)\">\n       <use xlink:href=\"#DejaVuSans-8722\"/>\n       <use x=\"83.789062\" xlink:href=\"#DejaVuSans-50\"/>\n      </g>\n     </g>\n    </g>\n    <g id=\"xtick_2\">\n     <g id=\"line2d_2\">\n      <g>\n       <use style=\"stroke:#000000;stroke-width:0.8;\" x=\"131.298368\" xlink:href=\"#mae242165a7\" y=\"143.1\"/>\n      </g>\n     </g>\n     <g id=\"text_2\">\n      <!-- 0 -->\n      <defs>\n       <path d=\"M 31.78125 66.40625 \nQ 24.171875 66.40625 20.328125 58.90625 \nQ 16.5 51.421875 16.5 36.375 \nQ 16.5 21.390625 20.328125 13.890625 \nQ 24.171875 6.390625 31.78125 6.390625 \nQ 39.453125 6.390625 43.28125 13.890625 \nQ 47.125 21.390625 47.125 36.375 \nQ 47.125 51.421875 43.28125 58.90625 \nQ 39.453125 66.40625 31.78125 66.40625 \nz\nM 31.78125 74.21875 \nQ 44.046875 74.21875 50.515625 64.515625 \nQ 56.984375 54.828125 56.984375 36.375 \nQ 56.984375 17.96875 50.515625 8.265625 \nQ 44.046875 -1.421875 31.78125 -1.421875 \nQ 19.53125 -1.421875 13.0625 8.265625 \nQ 6.59375 17.96875 6.59375 36.375 \nQ 6.59375 54.828125 13.0625 64.515625 \nQ 19.53125 74.21875 31.78125 74.21875 \nz\n\" id=\"DejaVuSans-48\"/>\n      </defs>\n      <g transform=\"translate(128.117118 157.698438)scale(0.1 -0.1)\">\n       <use xlink:href=\"#DejaVuSans-48\"/>\n      </g>\n     </g>\n    </g>\n    <g id=\"xtick_3\">\n     <g id=\"line2d_3\">\n      <g>\n       <use style=\"stroke:#000000;stroke-width:0.8;\" x=\"191.465868\" xlink:href=\"#mae242165a7\" y=\"143.1\"/>\n      </g>\n     </g>\n     <g id=\"text_3\">\n      <!-- 2 -->\n      <g transform=\"translate(188.284618 157.698438)scale(0.1 -0.1)\">\n       <use xlink:href=\"#DejaVuSans-50\"/>\n      </g>\n     </g>\n    </g>\n   </g>\n   <g id=\"matplotlib.axis_2\">\n    <g id=\"ytick_1\">\n     <g id=\"line2d_4\">\n      <defs>\n       <path d=\"M 0 0 \nL -3.5 0 \n\" id=\"mc856e4c67d\" style=\"stroke:#000000;stroke-width:0.8;\"/>\n      </defs>\n      <g>\n       <use style=\"stroke:#000000;stroke-width:0.8;\" x=\"28.942188\" xlink:href=\"#mc856e4c67d\" y=\"127.763628\"/>\n      </g>\n     </g>\n     <g id=\"text_4\">\n      <!-- −5 -->\n      <defs>\n       <path d=\"M 10.796875 72.90625 \nL 49.515625 72.90625 \nL 49.515625 64.59375 \nL 19.828125 64.59375 \nL 19.828125 46.734375 \nQ 21.96875 47.46875 24.109375 47.828125 \nQ 26.265625 48.1875 28.421875 48.1875 \nQ 40.625 48.1875 47.75 41.5 \nQ 54.890625 34.8125 54.890625 23.390625 \nQ 54.890625 11.625 47.5625 5.09375 \nQ 40.234375 -1.421875 26.90625 -1.421875 \nQ 22.3125 -1.421875 17.546875 -0.640625 \nQ 12.796875 0.140625 7.71875 1.703125 \nL 7.71875 11.625 \nQ 12.109375 9.234375 16.796875 8.0625 \nQ 21.484375 6.890625 26.703125 6.890625 \nQ 35.15625 6.890625 40.078125 11.328125 \nQ 45.015625 15.765625 45.015625 23.390625 \nQ 45.015625 31 40.078125 35.4375 \nQ 35.15625 39.890625 26.703125 39.890625 \nQ 22.75 39.890625 18.8125 39.015625 \nQ 14.890625 38.140625 10.796875 36.28125 \nz\n\" id=\"DejaVuSans-53\"/>\n      </defs>\n      <g transform=\"translate(7.2 131.562846)scale(0.1 -0.1)\">\n       <use xlink:href=\"#DejaVuSans-8722\"/>\n       <use x=\"83.789062\" xlink:href=\"#DejaVuSans-53\"/>\n      </g>\n     </g>\n    </g>\n    <g id=\"ytick_2\">\n     <g id=\"line2d_5\">\n      <g>\n       <use style=\"stroke:#000000;stroke-width:0.8;\" x=\"28.942188\" xlink:href=\"#mc856e4c67d\" y=\"100.173051\"/>\n      </g>\n     </g>\n     <g id=\"text_5\">\n      <!-- 0 -->\n      <g transform=\"translate(15.579688 103.97227)scale(0.1 -0.1)\">\n       <use xlink:href=\"#DejaVuSans-48\"/>\n      </g>\n     </g>\n    </g>\n    <g id=\"ytick_3\">\n     <g id=\"line2d_6\">\n      <g>\n       <use style=\"stroke:#000000;stroke-width:0.8;\" x=\"28.942188\" xlink:href=\"#mc856e4c67d\" y=\"72.582474\"/>\n      </g>\n     </g>\n     <g id=\"text_6\">\n      <!-- 5 -->\n      <g transform=\"translate(15.579688 76.381693)scale(0.1 -0.1)\">\n       <use xlink:href=\"#DejaVuSans-53\"/>\n      </g>\n     </g>\n    </g>\n    <g id=\"ytick_4\">\n     <g id=\"line2d_7\">\n      <g>\n       <use style=\"stroke:#000000;stroke-width:0.8;\" x=\"28.942188\" xlink:href=\"#mc856e4c67d\" y=\"44.991898\"/>\n      </g>\n     </g>\n     <g id=\"text_7\">\n      <!-- 10 -->\n      <defs>\n       <path d=\"M 12.40625 8.296875 \nL 28.515625 8.296875 \nL 28.515625 63.921875 \nL 10.984375 60.40625 \nL 10.984375 69.390625 \nL 28.421875 72.90625 \nL 38.28125 72.90625 \nL 38.28125 8.296875 \nL 54.390625 8.296875 \nL 54.390625 0 \nL 12.40625 0 \nz\n\" id=\"DejaVuSans-49\"/>\n      </defs>\n      <g transform=\"translate(9.217188 48.791117)scale(0.1 -0.1)\">\n       <use xlink:href=\"#DejaVuSans-49\"/>\n       <use x=\"63.623047\" xlink:href=\"#DejaVuSans-48\"/>\n      </g>\n     </g>\n    </g>\n    <g id=\"ytick_5\">\n     <g id=\"line2d_8\">\n      <g>\n       <use style=\"stroke:#000000;stroke-width:0.8;\" x=\"28.942188\" xlink:href=\"#mc856e4c67d\" y=\"17.401321\"/>\n      </g>\n     </g>\n     <g id=\"text_8\">\n      <!-- 15 -->\n      <g transform=\"translate(9.217188 21.20054)scale(0.1 -0.1)\">\n       <use xlink:href=\"#DejaVuSans-49\"/>\n       <use x=\"63.623047\" xlink:href=\"#DejaVuSans-53\"/>\n      </g>\n     </g>\n    </g>\n   </g>\n   <g id=\"patch_3\">\n    <path d=\"M 28.942188 143.1 \nL 28.942188 7.2 \n\" style=\"fill:none;stroke:#000000;stroke-linecap:square;stroke-linejoin:miter;stroke-width:0.8;\"/>\n   </g>\n   <g id=\"patch_4\">\n    <path d=\"M 224.242188 143.1 \nL 224.242188 7.2 \n\" style=\"fill:none;stroke:#000000;stroke-linecap:square;stroke-linejoin:miter;stroke-width:0.8;\"/>\n   </g>\n   <g id=\"patch_5\">\n    <path d=\"M 28.942187 143.1 \nL 224.242188 143.1 \n\" style=\"fill:none;stroke:#000000;stroke-linecap:square;stroke-linejoin:miter;stroke-width:0.8;\"/>\n   </g>\n   <g id=\"patch_6\">\n    <path d=\"M 28.942187 7.2 \nL 224.242188 7.2 \n\" style=\"fill:none;stroke:#000000;stroke-linecap:square;stroke-linejoin:miter;stroke-width:0.8;\"/>\n   </g>\n  </g>\n </g>\n <defs>\n  <clipPath id=\"p9f472269e6\">\n   <rect height=\"135.9\" width=\"195.3\" x=\"28.942188\" y=\"7.2\"/>\n  </clipPath>\n </defs>\n</svg>\n"
          },
          "metadata": {
            "needs_background": "light"
          }
        }
      ]
    },
    {
      "cell_type": "markdown",
      "metadata": {
        "origin_pos": 12,
        "id": "OCX06J7YDTRg"
      },
      "source": [
        "## Reading the Dataset\n",
        "\n",
        "Recall that training models consists of\n",
        "making multiple passes over the dataset,\n",
        "grabbing one minibatch of examples at a time,\n",
        "and using them to update our model.\n",
        "Since this process is so fundamental\n",
        "to training machine learning algorithms,\n",
        "it is worth defining a utility function\n",
        "to shuffle the dataset and access it in minibatches.\n",
        "\n",
        "In the following code, we [**define the `data_iter` function**] \n",
        "to demonstrate one possible implementation of this functionality.\n",
        "The function (**takes a batch size, a matrix of features,\n",
        "and a vector of labels, yielding minibatches of the size `batch_size`.**)\n",
        "Each minibatch consists of a tuple of features and labels.\n"
      ]
    },
    {
      "cell_type": "code",
      "metadata": {
        "origin_pos": 14,
        "tab": [
          "tensorflow"
        ],
        "id": "lLIshB3_DTRh"
      },
      "source": [
        "def data_iter(batch_size, features, labels):\n",
        "    num_examples = len(features)\n",
        "    indices = list(range(num_examples))\n",
        "    # The examples are read at random, in no particular order\n",
        "    random.shuffle(indices)\n",
        "    for i in range(0, num_examples, batch_size):\n",
        "        j = tf.constant(indices[i:min(i + batch_size, num_examples)])\n",
        "        yield tf.gather(features, j), tf.gather(labels, j)"
      ],
      "execution_count": 7,
      "outputs": []
    },
    {
      "cell_type": "markdown",
      "metadata": {
        "origin_pos": 15,
        "id": "1-P13EXPDTRh"
      },
      "source": [
        "In general, note that we want to use reasonably sized minibatches\n",
        "to take advantage of the GPU hardware,\n",
        "which excels at parallelizing operations.\n",
        "Because each example can be fed through our models in parallel\n",
        "and the gradient of the loss function for each example can also be taken in parallel,\n",
        "GPUs allow us to process hundreds of examples in scarcely more time\n",
        "than it might take to process just a single example.\n",
        "\n",
        "To build some intuition, let us read and print\n",
        "the first small batch of data examples.\n",
        "The shape of the features in each minibatch tells us\n",
        "both the minibatch size and the number of input features.\n",
        "Likewise, our minibatch of labels will have a shape given by `batch_size`.\n"
      ]
    },
    {
      "cell_type": "code",
      "metadata": {
        "origin_pos": 16,
        "tab": [
          "tensorflow"
        ],
        "id": "U7MlFTiYDTRi",
        "outputId": "f86ac095-1410-45ac-c6c8-7eca346249c1",
        "colab": {
          "base_uri": "https://localhost:8080/"
        }
      },
      "source": [
        "batch_size = 10\n",
        "\n",
        "for X, y in data_iter(batch_size, features, labels):\n",
        "    print(X, '\\n', y)\n",
        "    break"
      ],
      "execution_count": 8,
      "outputs": [
        {
          "output_type": "stream",
          "text": [
            "tf.Tensor(\n",
            "[[ 0.18239963 -0.4244487 ]\n",
            " [-0.2937282   1.8199967 ]\n",
            " [-0.7414996   0.4186889 ]\n",
            " [ 0.19409123 -0.01301748]\n",
            " [-0.7076979  -0.5404535 ]\n",
            " [-1.0326403  -1.5119101 ]\n",
            " [ 0.05793533  0.59407026]\n",
            " [-1.3458457  -0.71936697]\n",
            " [-0.9442474  -2.0055926 ]\n",
            " [ 0.3034566  -0.83028966]], shape=(10, 2), dtype=float32) \n",
            " tf.Tensor(\n",
            "[[ 6.006265 ]\n",
            " [-2.5727959]\n",
            " [ 1.2943742]\n",
            " [ 4.6395054]\n",
            " [ 4.6148605]\n",
            " [ 7.271475 ]\n",
            " [ 2.2925858]\n",
            " [ 3.9454305]\n",
            " [ 9.139439 ]\n",
            " [ 7.6261015]], shape=(10, 1), dtype=float32)\n"
          ],
          "name": "stdout"
        }
      ]
    },
    {
      "cell_type": "markdown",
      "metadata": {
        "origin_pos": 17,
        "id": "DyNUggQDDTRj"
      },
      "source": [
        "As we run the iteration, we obtain distinct minibatches\n",
        "successively until the entire dataset has been exhausted (try this).\n",
        "While the iteration implemented above is good for didactic purposes,\n",
        "it is inefficient in ways that might get us in trouble on real problems.\n",
        "For example, it requires that we load all the data in memory\n",
        "and that we perform lots of random memory access.\n",
        "The built-in iterators implemented in a deep learning framework\n",
        "are considerably more efficient and they can deal\n",
        "with both data stored in files and data fed via data streams.\n",
        "\n",
        "\n",
        "## Initializing Model Parameters\n",
        "\n",
        "[**Before we can begin optimizing our model's parameters**] by minibatch stochastic gradient descent,\n",
        "(**we need to have some parameters in the first place.**)\n",
        "In the following code, we initialize weights by sampling\n",
        "random numbers from a normal distribution with mean 0\n",
        "and a standard deviation of 0.01, and setting the bias to 0.\n"
      ]
    },
    {
      "cell_type": "code",
      "metadata": {
        "origin_pos": 20,
        "tab": [
          "tensorflow"
        ],
        "id": "fpXH_ENvDTRk"
      },
      "source": [
        "w = tf.Variable(tf.random.normal(shape=(2, 1), mean=0, stddev=0.01),\n",
        "                trainable=True)\n",
        "b = tf.Variable(tf.zeros(1), trainable=True)"
      ],
      "execution_count": 9,
      "outputs": []
    },
    {
      "cell_type": "markdown",
      "metadata": {
        "origin_pos": 21,
        "id": "te2y97EtDTRk"
      },
      "source": [
        "After initializing our parameters,\n",
        "our next task is to update them until\n",
        "they fit our data sufficiently well.\n",
        "Each update requires taking the gradient\n",
        "of our loss function with respect to the parameters.\n",
        "Given this gradient, we can update each parameter\n",
        "in the direction that may reduce the loss.\n",
        "\n",
        "Since nobody wants to compute gradients explicitly\n",
        "(this is tedious and error prone),\n",
        "we use automatic differentiation,\n",
        "as introduced in :numref:`sec_autograd`, to compute the gradient.\n",
        "\n",
        "\n",
        "## Defining the Model\n",
        "\n",
        "Next, we must [**define our model,\n",
        "relating its inputs and parameters to its outputs.**]\n",
        "Recall that to calculate the output of the linear model,\n",
        "we simply take the matrix-vector dot product\n",
        "of the input features $\\mathbf{X}$ and the model weights $\\mathbf{w}$,\n",
        "and add the offset $b$ to each example.\n",
        "Note that below $\\mathbf{Xw}$  is a vector and $b$ is a scalar.\n",
        "Recall the broadcasting mechanism as described in :numref:`subsec_broadcasting`.\n",
        "When we add a vector and a scalar,\n",
        "the scalar is added to each component of the vector.\n"
      ]
    },
    {
      "cell_type": "code",
      "metadata": {
        "origin_pos": 22,
        "tab": [
          "tensorflow"
        ],
        "id": "TZOTrt4DDTRk"
      },
      "source": [
        "def linreg(X, w, b):  \n",
        "    \"\"\"The linear regression model.\"\"\"\n",
        "    return tf.matmul(X, w) + b"
      ],
      "execution_count": 10,
      "outputs": []
    },
    {
      "cell_type": "markdown",
      "metadata": {
        "origin_pos": 23,
        "id": "HfTtFy1QDTRl"
      },
      "source": [
        "## Defining the Loss Function\n",
        "\n",
        "Since [**updating our model requires taking\n",
        "the gradient of our loss function,**]\n",
        "we ought to (**define the loss function first.**)\n",
        "Here we will use the squared loss function\n",
        "as described in :numref:`sec_linear_regression`.\n",
        "In the implementation, we need to transform the true value `y`\n",
        "into the predicted value's shape `y_hat`.\n",
        "The result returned by the following function\n",
        "will also have the same shape as `y_hat`.\n"
      ]
    },
    {
      "cell_type": "code",
      "metadata": {
        "origin_pos": 24,
        "tab": [
          "tensorflow"
        ],
        "id": "fSr-_n5FDTRl"
      },
      "source": [
        "def squared_loss(y_hat, y):  \n",
        "    \"\"\"Squared loss.\"\"\"\n",
        "    return (y_hat - tf.reshape(y, y_hat.shape))**2 / 2"
      ],
      "execution_count": 11,
      "outputs": []
    },
    {
      "cell_type": "markdown",
      "metadata": {
        "origin_pos": 25,
        "id": "_39QRjsjDTRl"
      },
      "source": [
        "## Defining the Optimization Algorithm\n",
        "\n",
        "As we discussed in :numref:`sec_linear_regression`,\n",
        "linear regression has a closed-form solution.\n",
        "However, this is not a book about linear regression:\n",
        "it is a book about deep learning.\n",
        "Since none of the other models that this book introduces\n",
        "can be solved analytically, we will take this opportunity to introduce your first working example of\n",
        "minibatch stochastic gradient descent.\n",
        "\n",
        "At each step, using one minibatch randomly drawn from our dataset,\n",
        "we will estimate the gradient of the loss with respect to our parameters.\n",
        "Next, we will update our parameters\n",
        "in the direction that may reduce the loss.\n",
        "The following code applies the minibatch stochastic gradient descent update,\n",
        "given a set of parameters, a learning rate, and a batch size.\n",
        "The size of the update step is determined by the learning rate `lr`.\n",
        "Because our loss is calculated as a sum over the minibatch of examples,\n",
        "we normalize our step size by the batch size (`batch_size`),\n",
        "so that the magnitude of a typical step size\n",
        "does not depend heavily on our choice of the batch size.\n"
      ]
    },
    {
      "cell_type": "code",
      "metadata": {
        "origin_pos": 28,
        "tab": [
          "tensorflow"
        ],
        "id": "_MfhRDrFDTRm"
      },
      "source": [
        "def sgd(params, grads, lr, batch_size):  \n",
        "    \"\"\"Minibatch stochastic gradient descent.\"\"\"\n",
        "    for param, grad in zip(params, grads):\n",
        "        param.assign_sub(lr * grad / batch_size)"
      ],
      "execution_count": 12,
      "outputs": []
    },
    {
      "cell_type": "markdown",
      "metadata": {
        "origin_pos": 29,
        "id": "3YSYW5vqDTRm"
      },
      "source": [
        "## Training\n",
        "\n",
        "Now that we have all of the parts in place,\n",
        "we are ready to [**implement the main training loop.**]\n",
        "It is crucial that you understand this code\n",
        "because you will see nearly identical training loops\n",
        "over and over again throughout your career in deep learning.\n",
        "\n",
        "In each iteration, we will grab a minibatch of training examples,\n",
        "and pass them through our model to obtain a set of predictions.\n",
        "After calculating the loss, we initiate the backwards pass through the network,\n",
        "storing the gradients with respect to each parameter.\n",
        "Finally, we will call the optimization algorithm `sgd`\n",
        "to update the model parameters.\n",
        "\n",
        "In summary, we will execute the following loop:\n",
        "\n",
        "* Initialize parameters $(\\mathbf{w}, b)$\n",
        "* Repeat until done\n",
        "    * Compute gradient $\\mathbf{g} \\leftarrow \\partial_{(\\mathbf{w},b)} \\frac{1}{|\\mathcal{B}|} \\sum_{i \\in \\mathcal{B}} l(\\mathbf{x}^{(i)}, y^{(i)}, \\mathbf{w}, b)$\n",
        "    * Update parameters $(\\mathbf{w}, b) \\leftarrow (\\mathbf{w}, b) - \\eta \\mathbf{g}$\n",
        "\n",
        "In each *epoch*,\n",
        "we will iterate through the entire dataset\n",
        "(using the `data_iter` function) once\n",
        "passing through every example in the training dataset\n",
        "(assuming that the number of examples is divisible by the batch size).\n",
        "The number of epochs `num_epochs` and the learning rate `lr` are both hyperparameters,\n",
        "which we set here to 3 and 0.03, respectively.\n",
        "Unfortunately, setting hyperparameters is tricky\n",
        "and requires some adjustment by trial and error.\n",
        "We elide these details for now but revise them\n",
        "later in\n",
        ":numref:`chap_optimization`.\n"
      ]
    },
    {
      "cell_type": "code",
      "metadata": {
        "origin_pos": 30,
        "tab": [
          "tensorflow"
        ],
        "id": "gYnr7IF5DTRm"
      },
      "source": [
        "lr = 0.03\n",
        "num_epochs = 3\n",
        "net = linreg\n",
        "loss = squared_loss"
      ],
      "execution_count": 13,
      "outputs": []
    },
    {
      "cell_type": "code",
      "metadata": {
        "origin_pos": 33,
        "tab": [
          "tensorflow"
        ],
        "id": "u--DAYbnDTRm",
        "outputId": "dcda9e58-53d2-411c-bf35-bd9346394cf0",
        "colab": {
          "base_uri": "https://localhost:8080/"
        }
      },
      "source": [
        "for epoch in range(num_epochs):\n",
        "    for X, y in data_iter(batch_size, features, labels):\n",
        "        with tf.GradientTape() as g:\n",
        "            l = loss(net(X, w, b), y)  # Minibatch loss in `X` and `y`\n",
        "        # Compute gradient on l with respect to [`w`, `b`]\n",
        "        dw, db = g.gradient(l, [w, b])\n",
        "        # Update parameters using their gradient\n",
        "        sgd([w, b], [dw, db], lr, batch_size)\n",
        "    train_l = loss(net(features, w, b), labels)\n",
        "    print(f'epoch {epoch + 1}, loss {float(tf.reduce_mean(train_l)):f}')"
      ],
      "execution_count": 14,
      "outputs": [
        {
          "output_type": "stream",
          "text": [
            "epoch 1, loss 0.043737\n",
            "epoch 2, loss 0.000176\n",
            "epoch 3, loss 0.000052\n"
          ],
          "name": "stdout"
        }
      ]
    },
    {
      "cell_type": "markdown",
      "metadata": {
        "origin_pos": 34,
        "id": "ih2MPGFlDTRn"
      },
      "source": [
        "In this case, because we synthesized the dataset ourselves,\n",
        "we know precisely what the true parameters are.\n",
        "Thus, we can [**evaluate our success in training\n",
        "by comparing the true parameters\n",
        "with those that we learned**] through our training loop.\n",
        "Indeed they turn out to be very close to each other.\n"
      ]
    },
    {
      "cell_type": "code",
      "metadata": {
        "origin_pos": 35,
        "tab": [
          "tensorflow"
        ],
        "id": "QlIYQOx5DTRn",
        "outputId": "45565767-692e-4001-88df-5d404acdfaa4",
        "colab": {
          "base_uri": "https://localhost:8080/"
        }
      },
      "source": [
        "print(f'error in estimating w: {true_w - tf.reshape(w, true_w.shape)}')\n",
        "print(f'error in estimating b: {true_b - b}')"
      ],
      "execution_count": 15,
      "outputs": [
        {
          "output_type": "stream",
          "text": [
            "error in estimating w: [ 0.00017178 -0.0009253 ]\n",
            "error in estimating b: [0.00084639]\n"
          ],
          "name": "stdout"
        }
      ]
    },
    {
      "cell_type": "markdown",
      "metadata": {
        "origin_pos": 36,
        "id": "d9nVqkWHDTRn"
      },
      "source": [
        "Note that we should not take it for granted\n",
        "that we are able to recover the parameters perfectly.\n",
        "However, in machine learning, we are typically less concerned\n",
        "with recovering true underlying parameters,\n",
        "and more concerned with parameters that lead to highly accurate prediction.\n",
        "Fortunately, even on difficult optimization problems,\n",
        "stochastic gradient descent can often find remarkably good solutions,\n",
        "owing partly to the fact that, for deep networks,\n",
        "there exist many configurations of the parameters\n",
        "that lead to highly accurate prediction.\n",
        "\n",
        "\n",
        "## Summary\n",
        "\n",
        "* We saw how a deep network can be implemented and optimized from scratch, using just tensors and auto differentiation, without any need for defining layers or fancy optimizers.\n",
        "* This section only scratches the surface of what is possible. In the following sections, we will describe additional models based on the concepts that we have just introduced and learn how to implement them more concisely.\n",
        "\n",
        "\n",
        "## Exercises\n",
        "\n",
        "1. What would happen if we were to initialize the weights to zero. Would the algorithm still work?\n",
        "1. Assume that you are\n",
        "   [Georg Simon Ohm](https://en.wikipedia.org/wiki/Georg_Ohm) trying to come up\n",
        "   with a model between voltage and current. Can you use auto differentiation to learn the parameters of your model?\n",
        "1. Can you use [Planck's Law](https://en.wikipedia.org/wiki/Planck%27s_law) to determine the temperature of an object using spectral energy density?\n",
        "1. What are the problems you might encounter if you wanted to  compute the second derivatives? How would you fix them?\n",
        "1.  Why is the `reshape` function needed in the `squared_loss` function?\n",
        "1. Experiment using different learning rates to find out how fast the loss function value drops.\n",
        "1. If the number of examples cannot be divided by the batch size, what happens to the `data_iter` function's behavior?\n"
      ]
    }
  ]
}