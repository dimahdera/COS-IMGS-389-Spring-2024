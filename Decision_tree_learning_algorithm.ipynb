{
  "nbformat": 4,
  "nbformat_minor": 0,
  "metadata": {
    "colab": {
      "provenance": [],
      "authorship_tag": "ABX9TyMrZnU2R81SMlgXR3h0e2bk",
      "include_colab_link": true
    },
    "kernelspec": {
      "name": "python3",
      "display_name": "Python 3"
    },
    "language_info": {
      "name": "python"
    }
  },
  "cells": [
    {
      "cell_type": "markdown",
      "metadata": {
        "id": "view-in-github",
        "colab_type": "text"
      },
      "source": [
        "<a href=\"https://colab.research.google.com/github/dimahdera/COS-IMGS-389-Spring-2024/blob/main/Decision_tree_learning_algorithm.ipynb\" target=\"_parent\"><img src=\"https://colab.research.google.com/assets/colab-badge.svg\" alt=\"Open In Colab\"/></a>"
      ]
    },
    {
      "cell_type": "markdown",
      "source": [
        "The decision tree learning algorithm recursively learns the tree as follows:\n",
        "\n",
        "1.   Assign all training instances to the root of the tree. Set curent node to root node.\n",
        "2.   For each attribute Partition all data instances at the node by the value of the attribute.\n",
        "3. Compute the information gain ratio from the partitioning.\n",
        "4. Identify feature that results in the greatest information gain ratio. Set this feature to be the splitting criterion at the current node.\n",
        "5. If the best information gain ratio is 0, tag the current node as a leaf and return.\n",
        "6. Partition all instances according to attribute value of the best feature.\n",
        "7. Denote each partition as a child node of the current node.\n",
        "8. For each child node: a. If the child node is “pure” (has instances from only one class) tag it as a leaf and return. b. If not set the child node as the current node and recurse to step 2.\n",
        "\n",
        "Based on above we would be required to write following functions to create the decision tree\n",
        "\n",
        "1. Function to identify partition values for all attribute\n",
        "2. Split the data into 2 using the partition value\n",
        "3. Function to calculate entropy\n",
        "4. Function to calculate information Gain. Function to identify the best feature and value to particition on using entropy and information gain\n",
        "5. Function to check Purity. Check each split if Data is Pure (0 information Gain), then stop for that split Else iterate through recursively\n",
        "6. Function to return classification from leaf node\n",
        "\n",
        "\n",
        "\n",
        "\n"
      ],
      "metadata": {
        "id": "2NeUBZc17thl"
      }
    },
    {
      "cell_type": "code",
      "execution_count": 1,
      "metadata": {
        "id": "L7CiQDYJ4XBO"
      },
      "outputs": [],
      "source": [
        "# Importing Dependencies\n",
        "import numpy as np\n",
        "import pandas as pd\n",
        "import matplotlib.pyplot as plt\n",
        "import seaborn as sns\n",
        "from pprint import pprint\n",
        "%matplotlib inline"
      ]
    },
    {
      "cell_type": "code",
      "source": [
        "df = pd.read_csv(\"Iris.csv\")\n",
        "df.head()"
      ],
      "metadata": {
        "colab": {
          "base_uri": "https://localhost:8080/",
          "height": 206
        },
        "id": "q3k0rM4Q4xLY",
        "outputId": "a8fca960-8aa1-4cb2-e22b-636beb3a7c1d"
      },
      "execution_count": 2,
      "outputs": [
        {
          "output_type": "execute_result",
          "data": {
            "text/plain": [
              "   sepal_length  sepal_width  petal_length  petal_width species\n",
              "0           5.1          3.5           1.4          0.2  setosa\n",
              "1           4.9          3.0           1.4          0.2  setosa\n",
              "2           4.7          3.2           1.3          0.2  setosa\n",
              "3           4.6          3.1           1.5          0.2  setosa\n",
              "4           5.0          3.6           1.4          0.2  setosa"
            ],
            "text/html": [
              "\n",
              "  <div id=\"df-4bb476fa-1c34-4921-9b38-fc56bea45bdd\" class=\"colab-df-container\">\n",
              "    <div>\n",
              "<style scoped>\n",
              "    .dataframe tbody tr th:only-of-type {\n",
              "        vertical-align: middle;\n",
              "    }\n",
              "\n",
              "    .dataframe tbody tr th {\n",
              "        vertical-align: top;\n",
              "    }\n",
              "\n",
              "    .dataframe thead th {\n",
              "        text-align: right;\n",
              "    }\n",
              "</style>\n",
              "<table border=\"1\" class=\"dataframe\">\n",
              "  <thead>\n",
              "    <tr style=\"text-align: right;\">\n",
              "      <th></th>\n",
              "      <th>sepal_length</th>\n",
              "      <th>sepal_width</th>\n",
              "      <th>petal_length</th>\n",
              "      <th>petal_width</th>\n",
              "      <th>species</th>\n",
              "    </tr>\n",
              "  </thead>\n",
              "  <tbody>\n",
              "    <tr>\n",
              "      <th>0</th>\n",
              "      <td>5.1</td>\n",
              "      <td>3.5</td>\n",
              "      <td>1.4</td>\n",
              "      <td>0.2</td>\n",
              "      <td>setosa</td>\n",
              "    </tr>\n",
              "    <tr>\n",
              "      <th>1</th>\n",
              "      <td>4.9</td>\n",
              "      <td>3.0</td>\n",
              "      <td>1.4</td>\n",
              "      <td>0.2</td>\n",
              "      <td>setosa</td>\n",
              "    </tr>\n",
              "    <tr>\n",
              "      <th>2</th>\n",
              "      <td>4.7</td>\n",
              "      <td>3.2</td>\n",
              "      <td>1.3</td>\n",
              "      <td>0.2</td>\n",
              "      <td>setosa</td>\n",
              "    </tr>\n",
              "    <tr>\n",
              "      <th>3</th>\n",
              "      <td>4.6</td>\n",
              "      <td>3.1</td>\n",
              "      <td>1.5</td>\n",
              "      <td>0.2</td>\n",
              "      <td>setosa</td>\n",
              "    </tr>\n",
              "    <tr>\n",
              "      <th>4</th>\n",
              "      <td>5.0</td>\n",
              "      <td>3.6</td>\n",
              "      <td>1.4</td>\n",
              "      <td>0.2</td>\n",
              "      <td>setosa</td>\n",
              "    </tr>\n",
              "  </tbody>\n",
              "</table>\n",
              "</div>\n",
              "    <div class=\"colab-df-buttons\">\n",
              "\n",
              "  <div class=\"colab-df-container\">\n",
              "    <button class=\"colab-df-convert\" onclick=\"convertToInteractive('df-4bb476fa-1c34-4921-9b38-fc56bea45bdd')\"\n",
              "            title=\"Convert this dataframe to an interactive table.\"\n",
              "            style=\"display:none;\">\n",
              "\n",
              "  <svg xmlns=\"http://www.w3.org/2000/svg\" height=\"24px\" viewBox=\"0 -960 960 960\">\n",
              "    <path d=\"M120-120v-720h720v720H120Zm60-500h600v-160H180v160Zm220 220h160v-160H400v160Zm0 220h160v-160H400v160ZM180-400h160v-160H180v160Zm440 0h160v-160H620v160ZM180-180h160v-160H180v160Zm440 0h160v-160H620v160Z\"/>\n",
              "  </svg>\n",
              "    </button>\n",
              "\n",
              "  <style>\n",
              "    .colab-df-container {\n",
              "      display:flex;\n",
              "      gap: 12px;\n",
              "    }\n",
              "\n",
              "    .colab-df-convert {\n",
              "      background-color: #E8F0FE;\n",
              "      border: none;\n",
              "      border-radius: 50%;\n",
              "      cursor: pointer;\n",
              "      display: none;\n",
              "      fill: #1967D2;\n",
              "      height: 32px;\n",
              "      padding: 0 0 0 0;\n",
              "      width: 32px;\n",
              "    }\n",
              "\n",
              "    .colab-df-convert:hover {\n",
              "      background-color: #E2EBFA;\n",
              "      box-shadow: 0px 1px 2px rgba(60, 64, 67, 0.3), 0px 1px 3px 1px rgba(60, 64, 67, 0.15);\n",
              "      fill: #174EA6;\n",
              "    }\n",
              "\n",
              "    .colab-df-buttons div {\n",
              "      margin-bottom: 4px;\n",
              "    }\n",
              "\n",
              "    [theme=dark] .colab-df-convert {\n",
              "      background-color: #3B4455;\n",
              "      fill: #D2E3FC;\n",
              "    }\n",
              "\n",
              "    [theme=dark] .colab-df-convert:hover {\n",
              "      background-color: #434B5C;\n",
              "      box-shadow: 0px 1px 3px 1px rgba(0, 0, 0, 0.15);\n",
              "      filter: drop-shadow(0px 1px 2px rgba(0, 0, 0, 0.3));\n",
              "      fill: #FFFFFF;\n",
              "    }\n",
              "  </style>\n",
              "\n",
              "    <script>\n",
              "      const buttonEl =\n",
              "        document.querySelector('#df-4bb476fa-1c34-4921-9b38-fc56bea45bdd button.colab-df-convert');\n",
              "      buttonEl.style.display =\n",
              "        google.colab.kernel.accessAllowed ? 'block' : 'none';\n",
              "\n",
              "      async function convertToInteractive(key) {\n",
              "        const element = document.querySelector('#df-4bb476fa-1c34-4921-9b38-fc56bea45bdd');\n",
              "        const dataTable =\n",
              "          await google.colab.kernel.invokeFunction('convertToInteractive',\n",
              "                                                    [key], {});\n",
              "        if (!dataTable) return;\n",
              "\n",
              "        const docLinkHtml = 'Like what you see? Visit the ' +\n",
              "          '<a target=\"_blank\" href=https://colab.research.google.com/notebooks/data_table.ipynb>data table notebook</a>'\n",
              "          + ' to learn more about interactive tables.';\n",
              "        element.innerHTML = '';\n",
              "        dataTable['output_type'] = 'display_data';\n",
              "        await google.colab.output.renderOutput(dataTable, element);\n",
              "        const docLink = document.createElement('div');\n",
              "        docLink.innerHTML = docLinkHtml;\n",
              "        element.appendChild(docLink);\n",
              "      }\n",
              "    </script>\n",
              "  </div>\n",
              "\n",
              "\n",
              "<div id=\"df-3f6bb348-0da5-44ea-995c-ec823532e15e\">\n",
              "  <button class=\"colab-df-quickchart\" onclick=\"quickchart('df-3f6bb348-0da5-44ea-995c-ec823532e15e')\"\n",
              "            title=\"Suggest charts\"\n",
              "            style=\"display:none;\">\n",
              "\n",
              "<svg xmlns=\"http://www.w3.org/2000/svg\" height=\"24px\"viewBox=\"0 0 24 24\"\n",
              "     width=\"24px\">\n",
              "    <g>\n",
              "        <path d=\"M19 3H5c-1.1 0-2 .9-2 2v14c0 1.1.9 2 2 2h14c1.1 0 2-.9 2-2V5c0-1.1-.9-2-2-2zM9 17H7v-7h2v7zm4 0h-2V7h2v10zm4 0h-2v-4h2v4z\"/>\n",
              "    </g>\n",
              "</svg>\n",
              "  </button>\n",
              "\n",
              "<style>\n",
              "  .colab-df-quickchart {\n",
              "      --bg-color: #E8F0FE;\n",
              "      --fill-color: #1967D2;\n",
              "      --hover-bg-color: #E2EBFA;\n",
              "      --hover-fill-color: #174EA6;\n",
              "      --disabled-fill-color: #AAA;\n",
              "      --disabled-bg-color: #DDD;\n",
              "  }\n",
              "\n",
              "  [theme=dark] .colab-df-quickchart {\n",
              "      --bg-color: #3B4455;\n",
              "      --fill-color: #D2E3FC;\n",
              "      --hover-bg-color: #434B5C;\n",
              "      --hover-fill-color: #FFFFFF;\n",
              "      --disabled-bg-color: #3B4455;\n",
              "      --disabled-fill-color: #666;\n",
              "  }\n",
              "\n",
              "  .colab-df-quickchart {\n",
              "    background-color: var(--bg-color);\n",
              "    border: none;\n",
              "    border-radius: 50%;\n",
              "    cursor: pointer;\n",
              "    display: none;\n",
              "    fill: var(--fill-color);\n",
              "    height: 32px;\n",
              "    padding: 0;\n",
              "    width: 32px;\n",
              "  }\n",
              "\n",
              "  .colab-df-quickchart:hover {\n",
              "    background-color: var(--hover-bg-color);\n",
              "    box-shadow: 0 1px 2px rgba(60, 64, 67, 0.3), 0 1px 3px 1px rgba(60, 64, 67, 0.15);\n",
              "    fill: var(--button-hover-fill-color);\n",
              "  }\n",
              "\n",
              "  .colab-df-quickchart-complete:disabled,\n",
              "  .colab-df-quickchart-complete:disabled:hover {\n",
              "    background-color: var(--disabled-bg-color);\n",
              "    fill: var(--disabled-fill-color);\n",
              "    box-shadow: none;\n",
              "  }\n",
              "\n",
              "  .colab-df-spinner {\n",
              "    border: 2px solid var(--fill-color);\n",
              "    border-color: transparent;\n",
              "    border-bottom-color: var(--fill-color);\n",
              "    animation:\n",
              "      spin 1s steps(1) infinite;\n",
              "  }\n",
              "\n",
              "  @keyframes spin {\n",
              "    0% {\n",
              "      border-color: transparent;\n",
              "      border-bottom-color: var(--fill-color);\n",
              "      border-left-color: var(--fill-color);\n",
              "    }\n",
              "    20% {\n",
              "      border-color: transparent;\n",
              "      border-left-color: var(--fill-color);\n",
              "      border-top-color: var(--fill-color);\n",
              "    }\n",
              "    30% {\n",
              "      border-color: transparent;\n",
              "      border-left-color: var(--fill-color);\n",
              "      border-top-color: var(--fill-color);\n",
              "      border-right-color: var(--fill-color);\n",
              "    }\n",
              "    40% {\n",
              "      border-color: transparent;\n",
              "      border-right-color: var(--fill-color);\n",
              "      border-top-color: var(--fill-color);\n",
              "    }\n",
              "    60% {\n",
              "      border-color: transparent;\n",
              "      border-right-color: var(--fill-color);\n",
              "    }\n",
              "    80% {\n",
              "      border-color: transparent;\n",
              "      border-right-color: var(--fill-color);\n",
              "      border-bottom-color: var(--fill-color);\n",
              "    }\n",
              "    90% {\n",
              "      border-color: transparent;\n",
              "      border-bottom-color: var(--fill-color);\n",
              "    }\n",
              "  }\n",
              "</style>\n",
              "\n",
              "  <script>\n",
              "    async function quickchart(key) {\n",
              "      const quickchartButtonEl =\n",
              "        document.querySelector('#' + key + ' button');\n",
              "      quickchartButtonEl.disabled = true;  // To prevent multiple clicks.\n",
              "      quickchartButtonEl.classList.add('colab-df-spinner');\n",
              "      try {\n",
              "        const charts = await google.colab.kernel.invokeFunction(\n",
              "            'suggestCharts', [key], {});\n",
              "      } catch (error) {\n",
              "        console.error('Error during call to suggestCharts:', error);\n",
              "      }\n",
              "      quickchartButtonEl.classList.remove('colab-df-spinner');\n",
              "      quickchartButtonEl.classList.add('colab-df-quickchart-complete');\n",
              "    }\n",
              "    (() => {\n",
              "      let quickchartButtonEl =\n",
              "        document.querySelector('#df-3f6bb348-0da5-44ea-995c-ec823532e15e button');\n",
              "      quickchartButtonEl.style.display =\n",
              "        google.colab.kernel.accessAllowed ? 'block' : 'none';\n",
              "    })();\n",
              "  </script>\n",
              "</div>\n",
              "\n",
              "    </div>\n",
              "  </div>\n"
            ]
          },
          "metadata": {},
          "execution_count": 2
        }
      ]
    },
    {
      "cell_type": "markdown",
      "source": [
        "# **1 -Function to identify partition values for all attribute**\n",
        "It should take the data and labels and return all the potential splits for all columns\n",
        "How can we get all the potential splits.\n",
        "\n",
        "1. Iterate through each attribute\n",
        "2. identify the unique values for that attribute\n",
        "3. store the unique values with the attribute index in a dictionary and return the dictionary"
      ],
      "metadata": {
        "id": "CxR3AQwY9Hds"
      }
    },
    {
      "cell_type": "code",
      "source": [
        "def all_potential_splits(data):\n",
        "    # 1 - Create an empty dictionary, we will create our splits and store the splits in this dictionary.\n",
        "    #      The format of the dictionary will be {col_index:[list of all possible values]}\n",
        "    potential_splits ={}\n",
        "    # 2   Since we need to iterate through each column in the dataset we would need the column count. Row count is\n",
        "    n_row , n_col = data.shape\n",
        "    # 3   In this Step we are iterating through each column in the dataset identifying the unique values and\n",
        "    #     storing the values in our dictionary with that column index\n",
        "    for col_index in range(n_col-1):\n",
        "        values = data[:,col_index]\n",
        "        unique_values = np.unique(values)\n",
        "        potential_splits[col_index] = unique_values\n",
        "    return potential_splits"
      ],
      "metadata": {
        "id": "DwRugsST9g75"
      },
      "execution_count": 22,
      "outputs": []
    },
    {
      "cell_type": "code",
      "source": [
        "potential_splits = all_potential_splits(df.drop(\"species\",axis=1).values)\n",
        "pprint(potential_splits)"
      ],
      "metadata": {
        "colab": {
          "base_uri": "https://localhost:8080/"
        },
        "id": "WvJncqocC39p",
        "outputId": "d1086698-1bf1-4d43-c7cc-63138713921a"
      },
      "execution_count": 4,
      "outputs": [
        {
          "output_type": "stream",
          "name": "stdout",
          "text": [
            "{0: array([4.3, 4.4, 4.5, 4.6, 4.7, 4.8, 4.9, 5. , 5.1, 5.2, 5.3, 5.4, 5.5,\n",
            "       5.6, 5.7, 5.8, 5.9, 6. , 6.1, 6.2, 6.3, 6.4, 6.5, 6.6, 6.7, 6.8,\n",
            "       6.9, 7. , 7.1, 7.2, 7.3, 7.4, 7.6, 7.7, 7.9]),\n",
            " 1: array([2. , 2.2, 2.3, 2.4, 2.5, 2.6, 2.7, 2.8, 2.9, 3. , 3.1, 3.2, 3.3,\n",
            "       3.4, 3.5, 3.6, 3.7, 3.8, 3.9, 4. , 4.1, 4.2, 4.4]),\n",
            " 2: array([1. , 1.1, 1.2, 1.3, 1.4, 1.5, 1.6, 1.7, 1.9, 3. , 3.3, 3.5, 3.6,\n",
            "       3.7, 3.8, 3.9, 4. , 4.1, 4.2, 4.3, 4.4, 4.5, 4.6, 4.7, 4.8, 4.9,\n",
            "       5. , 5.1, 5.2, 5.3, 5.4, 5.5, 5.6, 5.7, 5.8, 5.9, 6. , 6.1, 6.3,\n",
            "       6.4, 6.6, 6.7, 6.9]),\n",
            " 3: array([0.1, 0.2, 0.3, 0.4, 0.5, 0.6, 1. , 1.1, 1.2, 1.3, 1.4, 1.5, 1.6,\n",
            "       1.7, 1.8, 1.9, 2. , 2.1, 2.2, 2.3, 2.4, 2.5])}\n"
          ]
        }
      ]
    },
    {
      "cell_type": "code",
      "source": [
        "df.drop(\"species\",axis=1)"
      ],
      "metadata": {
        "colab": {
          "base_uri": "https://localhost:8080/",
          "height": 423
        },
        "id": "OSCmz8aXDBSA",
        "outputId": "e1f7a174-f552-4fc2-e4f2-a416ed277e57"
      },
      "execution_count": 5,
      "outputs": [
        {
          "output_type": "execute_result",
          "data": {
            "text/plain": [
              "     sepal_length  sepal_width  petal_length  petal_width\n",
              "0             5.1          3.5           1.4          0.2\n",
              "1             4.9          3.0           1.4          0.2\n",
              "2             4.7          3.2           1.3          0.2\n",
              "3             4.6          3.1           1.5          0.2\n",
              "4             5.0          3.6           1.4          0.2\n",
              "..            ...          ...           ...          ...\n",
              "145           6.7          3.0           5.2          2.3\n",
              "146           6.3          2.5           5.0          1.9\n",
              "147           6.5          3.0           5.2          2.0\n",
              "148           6.2          3.4           5.4          2.3\n",
              "149           5.9          3.0           5.1          1.8\n",
              "\n",
              "[150 rows x 4 columns]"
            ],
            "text/html": [
              "\n",
              "  <div id=\"df-aafbe8f5-7b02-48eb-a27a-bbca40a1e704\" class=\"colab-df-container\">\n",
              "    <div>\n",
              "<style scoped>\n",
              "    .dataframe tbody tr th:only-of-type {\n",
              "        vertical-align: middle;\n",
              "    }\n",
              "\n",
              "    .dataframe tbody tr th {\n",
              "        vertical-align: top;\n",
              "    }\n",
              "\n",
              "    .dataframe thead th {\n",
              "        text-align: right;\n",
              "    }\n",
              "</style>\n",
              "<table border=\"1\" class=\"dataframe\">\n",
              "  <thead>\n",
              "    <tr style=\"text-align: right;\">\n",
              "      <th></th>\n",
              "      <th>sepal_length</th>\n",
              "      <th>sepal_width</th>\n",
              "      <th>petal_length</th>\n",
              "      <th>petal_width</th>\n",
              "    </tr>\n",
              "  </thead>\n",
              "  <tbody>\n",
              "    <tr>\n",
              "      <th>0</th>\n",
              "      <td>5.1</td>\n",
              "      <td>3.5</td>\n",
              "      <td>1.4</td>\n",
              "      <td>0.2</td>\n",
              "    </tr>\n",
              "    <tr>\n",
              "      <th>1</th>\n",
              "      <td>4.9</td>\n",
              "      <td>3.0</td>\n",
              "      <td>1.4</td>\n",
              "      <td>0.2</td>\n",
              "    </tr>\n",
              "    <tr>\n",
              "      <th>2</th>\n",
              "      <td>4.7</td>\n",
              "      <td>3.2</td>\n",
              "      <td>1.3</td>\n",
              "      <td>0.2</td>\n",
              "    </tr>\n",
              "    <tr>\n",
              "      <th>3</th>\n",
              "      <td>4.6</td>\n",
              "      <td>3.1</td>\n",
              "      <td>1.5</td>\n",
              "      <td>0.2</td>\n",
              "    </tr>\n",
              "    <tr>\n",
              "      <th>4</th>\n",
              "      <td>5.0</td>\n",
              "      <td>3.6</td>\n",
              "      <td>1.4</td>\n",
              "      <td>0.2</td>\n",
              "    </tr>\n",
              "    <tr>\n",
              "      <th>...</th>\n",
              "      <td>...</td>\n",
              "      <td>...</td>\n",
              "      <td>...</td>\n",
              "      <td>...</td>\n",
              "    </tr>\n",
              "    <tr>\n",
              "      <th>145</th>\n",
              "      <td>6.7</td>\n",
              "      <td>3.0</td>\n",
              "      <td>5.2</td>\n",
              "      <td>2.3</td>\n",
              "    </tr>\n",
              "    <tr>\n",
              "      <th>146</th>\n",
              "      <td>6.3</td>\n",
              "      <td>2.5</td>\n",
              "      <td>5.0</td>\n",
              "      <td>1.9</td>\n",
              "    </tr>\n",
              "    <tr>\n",
              "      <th>147</th>\n",
              "      <td>6.5</td>\n",
              "      <td>3.0</td>\n",
              "      <td>5.2</td>\n",
              "      <td>2.0</td>\n",
              "    </tr>\n",
              "    <tr>\n",
              "      <th>148</th>\n",
              "      <td>6.2</td>\n",
              "      <td>3.4</td>\n",
              "      <td>5.4</td>\n",
              "      <td>2.3</td>\n",
              "    </tr>\n",
              "    <tr>\n",
              "      <th>149</th>\n",
              "      <td>5.9</td>\n",
              "      <td>3.0</td>\n",
              "      <td>5.1</td>\n",
              "      <td>1.8</td>\n",
              "    </tr>\n",
              "  </tbody>\n",
              "</table>\n",
              "<p>150 rows × 4 columns</p>\n",
              "</div>\n",
              "    <div class=\"colab-df-buttons\">\n",
              "\n",
              "  <div class=\"colab-df-container\">\n",
              "    <button class=\"colab-df-convert\" onclick=\"convertToInteractive('df-aafbe8f5-7b02-48eb-a27a-bbca40a1e704')\"\n",
              "            title=\"Convert this dataframe to an interactive table.\"\n",
              "            style=\"display:none;\">\n",
              "\n",
              "  <svg xmlns=\"http://www.w3.org/2000/svg\" height=\"24px\" viewBox=\"0 -960 960 960\">\n",
              "    <path d=\"M120-120v-720h720v720H120Zm60-500h600v-160H180v160Zm220 220h160v-160H400v160Zm0 220h160v-160H400v160ZM180-400h160v-160H180v160Zm440 0h160v-160H620v160ZM180-180h160v-160H180v160Zm440 0h160v-160H620v160Z\"/>\n",
              "  </svg>\n",
              "    </button>\n",
              "\n",
              "  <style>\n",
              "    .colab-df-container {\n",
              "      display:flex;\n",
              "      gap: 12px;\n",
              "    }\n",
              "\n",
              "    .colab-df-convert {\n",
              "      background-color: #E8F0FE;\n",
              "      border: none;\n",
              "      border-radius: 50%;\n",
              "      cursor: pointer;\n",
              "      display: none;\n",
              "      fill: #1967D2;\n",
              "      height: 32px;\n",
              "      padding: 0 0 0 0;\n",
              "      width: 32px;\n",
              "    }\n",
              "\n",
              "    .colab-df-convert:hover {\n",
              "      background-color: #E2EBFA;\n",
              "      box-shadow: 0px 1px 2px rgba(60, 64, 67, 0.3), 0px 1px 3px 1px rgba(60, 64, 67, 0.15);\n",
              "      fill: #174EA6;\n",
              "    }\n",
              "\n",
              "    .colab-df-buttons div {\n",
              "      margin-bottom: 4px;\n",
              "    }\n",
              "\n",
              "    [theme=dark] .colab-df-convert {\n",
              "      background-color: #3B4455;\n",
              "      fill: #D2E3FC;\n",
              "    }\n",
              "\n",
              "    [theme=dark] .colab-df-convert:hover {\n",
              "      background-color: #434B5C;\n",
              "      box-shadow: 0px 1px 3px 1px rgba(0, 0, 0, 0.15);\n",
              "      filter: drop-shadow(0px 1px 2px rgba(0, 0, 0, 0.3));\n",
              "      fill: #FFFFFF;\n",
              "    }\n",
              "  </style>\n",
              "\n",
              "    <script>\n",
              "      const buttonEl =\n",
              "        document.querySelector('#df-aafbe8f5-7b02-48eb-a27a-bbca40a1e704 button.colab-df-convert');\n",
              "      buttonEl.style.display =\n",
              "        google.colab.kernel.accessAllowed ? 'block' : 'none';\n",
              "\n",
              "      async function convertToInteractive(key) {\n",
              "        const element = document.querySelector('#df-aafbe8f5-7b02-48eb-a27a-bbca40a1e704');\n",
              "        const dataTable =\n",
              "          await google.colab.kernel.invokeFunction('convertToInteractive',\n",
              "                                                    [key], {});\n",
              "        if (!dataTable) return;\n",
              "\n",
              "        const docLinkHtml = 'Like what you see? Visit the ' +\n",
              "          '<a target=\"_blank\" href=https://colab.research.google.com/notebooks/data_table.ipynb>data table notebook</a>'\n",
              "          + ' to learn more about interactive tables.';\n",
              "        element.innerHTML = '';\n",
              "        dataTable['output_type'] = 'display_data';\n",
              "        await google.colab.output.renderOutput(dataTable, element);\n",
              "        const docLink = document.createElement('div');\n",
              "        docLink.innerHTML = docLinkHtml;\n",
              "        element.appendChild(docLink);\n",
              "      }\n",
              "    </script>\n",
              "  </div>\n",
              "\n",
              "\n",
              "<div id=\"df-23fa6212-ac56-411c-a1a3-7221a6669702\">\n",
              "  <button class=\"colab-df-quickchart\" onclick=\"quickchart('df-23fa6212-ac56-411c-a1a3-7221a6669702')\"\n",
              "            title=\"Suggest charts\"\n",
              "            style=\"display:none;\">\n",
              "\n",
              "<svg xmlns=\"http://www.w3.org/2000/svg\" height=\"24px\"viewBox=\"0 0 24 24\"\n",
              "     width=\"24px\">\n",
              "    <g>\n",
              "        <path d=\"M19 3H5c-1.1 0-2 .9-2 2v14c0 1.1.9 2 2 2h14c1.1 0 2-.9 2-2V5c0-1.1-.9-2-2-2zM9 17H7v-7h2v7zm4 0h-2V7h2v10zm4 0h-2v-4h2v4z\"/>\n",
              "    </g>\n",
              "</svg>\n",
              "  </button>\n",
              "\n",
              "<style>\n",
              "  .colab-df-quickchart {\n",
              "      --bg-color: #E8F0FE;\n",
              "      --fill-color: #1967D2;\n",
              "      --hover-bg-color: #E2EBFA;\n",
              "      --hover-fill-color: #174EA6;\n",
              "      --disabled-fill-color: #AAA;\n",
              "      --disabled-bg-color: #DDD;\n",
              "  }\n",
              "\n",
              "  [theme=dark] .colab-df-quickchart {\n",
              "      --bg-color: #3B4455;\n",
              "      --fill-color: #D2E3FC;\n",
              "      --hover-bg-color: #434B5C;\n",
              "      --hover-fill-color: #FFFFFF;\n",
              "      --disabled-bg-color: #3B4455;\n",
              "      --disabled-fill-color: #666;\n",
              "  }\n",
              "\n",
              "  .colab-df-quickchart {\n",
              "    background-color: var(--bg-color);\n",
              "    border: none;\n",
              "    border-radius: 50%;\n",
              "    cursor: pointer;\n",
              "    display: none;\n",
              "    fill: var(--fill-color);\n",
              "    height: 32px;\n",
              "    padding: 0;\n",
              "    width: 32px;\n",
              "  }\n",
              "\n",
              "  .colab-df-quickchart:hover {\n",
              "    background-color: var(--hover-bg-color);\n",
              "    box-shadow: 0 1px 2px rgba(60, 64, 67, 0.3), 0 1px 3px 1px rgba(60, 64, 67, 0.15);\n",
              "    fill: var(--button-hover-fill-color);\n",
              "  }\n",
              "\n",
              "  .colab-df-quickchart-complete:disabled,\n",
              "  .colab-df-quickchart-complete:disabled:hover {\n",
              "    background-color: var(--disabled-bg-color);\n",
              "    fill: var(--disabled-fill-color);\n",
              "    box-shadow: none;\n",
              "  }\n",
              "\n",
              "  .colab-df-spinner {\n",
              "    border: 2px solid var(--fill-color);\n",
              "    border-color: transparent;\n",
              "    border-bottom-color: var(--fill-color);\n",
              "    animation:\n",
              "      spin 1s steps(1) infinite;\n",
              "  }\n",
              "\n",
              "  @keyframes spin {\n",
              "    0% {\n",
              "      border-color: transparent;\n",
              "      border-bottom-color: var(--fill-color);\n",
              "      border-left-color: var(--fill-color);\n",
              "    }\n",
              "    20% {\n",
              "      border-color: transparent;\n",
              "      border-left-color: var(--fill-color);\n",
              "      border-top-color: var(--fill-color);\n",
              "    }\n",
              "    30% {\n",
              "      border-color: transparent;\n",
              "      border-left-color: var(--fill-color);\n",
              "      border-top-color: var(--fill-color);\n",
              "      border-right-color: var(--fill-color);\n",
              "    }\n",
              "    40% {\n",
              "      border-color: transparent;\n",
              "      border-right-color: var(--fill-color);\n",
              "      border-top-color: var(--fill-color);\n",
              "    }\n",
              "    60% {\n",
              "      border-color: transparent;\n",
              "      border-right-color: var(--fill-color);\n",
              "    }\n",
              "    80% {\n",
              "      border-color: transparent;\n",
              "      border-right-color: var(--fill-color);\n",
              "      border-bottom-color: var(--fill-color);\n",
              "    }\n",
              "    90% {\n",
              "      border-color: transparent;\n",
              "      border-bottom-color: var(--fill-color);\n",
              "    }\n",
              "  }\n",
              "</style>\n",
              "\n",
              "  <script>\n",
              "    async function quickchart(key) {\n",
              "      const quickchartButtonEl =\n",
              "        document.querySelector('#' + key + ' button');\n",
              "      quickchartButtonEl.disabled = true;  // To prevent multiple clicks.\n",
              "      quickchartButtonEl.classList.add('colab-df-spinner');\n",
              "      try {\n",
              "        const charts = await google.colab.kernel.invokeFunction(\n",
              "            'suggestCharts', [key], {});\n",
              "      } catch (error) {\n",
              "        console.error('Error during call to suggestCharts:', error);\n",
              "      }\n",
              "      quickchartButtonEl.classList.remove('colab-df-spinner');\n",
              "      quickchartButtonEl.classList.add('colab-df-quickchart-complete');\n",
              "    }\n",
              "    (() => {\n",
              "      let quickchartButtonEl =\n",
              "        document.querySelector('#df-23fa6212-ac56-411c-a1a3-7221a6669702 button');\n",
              "      quickchartButtonEl.style.display =\n",
              "        google.colab.kernel.accessAllowed ? 'block' : 'none';\n",
              "    })();\n",
              "  </script>\n",
              "</div>\n",
              "\n",
              "    </div>\n",
              "  </div>\n"
            ]
          },
          "metadata": {},
          "execution_count": 5
        }
      ]
    },
    {
      "cell_type": "markdown",
      "source": [
        "# **2 - Split the data into 2 using the partition value**\n",
        "\n",
        "How to split the dataset into 2 based on some value\n",
        "\n",
        "1. First thing that we need to understand is that we need to split the whole dataset not single column.\n",
        "2. Identify the type of column whether it is continous or categorical. For simplicity sake lets assume string values as categorical and others as continous.\n",
        "3. We can simply iterate through all values in the split column check below condition a. If variable is continous , check if value is <= to split value b. If variable is categorical, check if value is == to split value\n",
        "4. Rows which will satisfy the condition will be stored in left dataset\n",
        "5. Rows that don't satisfy the condition will get stored in right dataset\n",
        "6. Return the left dataset and right dataset\n",
        "\n",
        "lets use iris flower dataset check the function. Lets arbitarily assign 0.8 as split_value and 3 as split_column (same example we have been using, becuase this value should separate the sentosa species )"
      ],
      "metadata": {
        "id": "NVGMSE2qKBfF"
      }
    },
    {
      "cell_type": "code",
      "source": [
        "\n",
        "def determine_type_of_feature(df,n_unique_values_treshold = 10):\n",
        "\n",
        "    feature_types = []\n",
        "\n",
        "    for feature in df.columns:\n",
        "        if feature != \"label\":\n",
        "            unique_values = df[feature].unique()\n",
        "            example_value = unique_values[0]\n",
        "\n",
        "            if (isinstance(example_value, str)) or (len(unique_values) <= n_unique_values_treshold):\n",
        "                feature_types.append(\"categorical\")\n",
        "            else:\n",
        "                feature_types.append(\"continuous\")\n",
        "\n",
        "    return feature_types\n",
        "\n",
        "\n",
        "def split_data(data,split_column,split_value):\n",
        "    column_values = data[:,split_column]\n",
        "    FEATURE_TYPES = determine_type_of_feature(df)\n",
        "    type_of_feature = FEATURE_TYPES[split_column]\n",
        "\n",
        "    if type_of_feature == \"continuous\":\n",
        "        left_dataset = data[column_values <= split_value]\n",
        "        right_dataset = data[column_values > split_value]\n",
        "    else:\n",
        "        left_dataset = data[column_values == split_value]\n",
        "        right_dataset = data[column_values != split_value]\n",
        "    return left_dataset, right_dataset\n",
        "\n",
        "\n",
        "ld,rd = split_data(df.values,3,0.8)\n",
        "# Data before the split\n",
        "sns.lmplot(data=df,x=\"petal_width\",y=\"petal_length\",hue=\"species\",fit_reg=False)\n",
        "plt.vlines(x=0.8,ymin=0,ymax=8)"
      ],
      "metadata": {
        "colab": {
          "base_uri": "https://localhost:8080/",
          "height": 524
        },
        "id": "quyyUCGzLCl2",
        "outputId": "7eddb12b-aad3-4b85-909d-7b2b3319cd4e"
      },
      "execution_count": 6,
      "outputs": [
        {
          "output_type": "execute_result",
          "data": {
            "text/plain": [
              "<matplotlib.collections.LineCollection at 0x7b99ca409c00>"
            ]
          },
          "metadata": {},
          "execution_count": 6
        },
        {
          "output_type": "display_data",
          "data": {
            "text/plain": [
              "<Figure size 617.75x500 with 1 Axes>"
            ],
            "image/png": "[encoded data removed]"
          },
          "metadata": {}
        }
      ]
    },
    {
      "cell_type": "markdown",
      "source": [
        "**3 - Function to calculate entropy**\n"
      ],
      "metadata": {
        "id": "x7ZIlWEuNmpH"
      }
    },
    {
      "cell_type": "code",
      "source": [
        "def calculate_entropy(data):\n",
        "    label = data[:,-1]\n",
        "    _,counts = np.unique(label,return_counts=True)\n",
        "\n",
        "    probabilities = counts/counts.sum()\n",
        "    entropy = sum(probabilities * -np.log2(probabilities))\n",
        "    return entropy\n",
        "#function to calculate entropy after split\n",
        "\n",
        "def weighted_child_entropy(left_dataset,right_dataset):\n",
        "    total_len = len(left_dataset) + len(right_dataset)\n",
        "    left_dataset_entropy = calculate_entropy(left_dataset)\n",
        "    right_dataset_entropy = calculate_entropy(right_dataset)\n",
        "\n",
        "    child_entropy = len(left_dataset)/total_len * left_dataset_entropy + len(right_dataset)/total_len * right_dataset_entropy\n",
        "    return child_entropy\n",
        "left_dataset,right_dataset = split_data(df.values,3,0.8)\n",
        "# validating whether code is working well in the function\n",
        "print('Entropy of Parent Dataset {}'.format(calculate_entropy(df.values)))\n",
        "print('Weighted entropy of child {}'.format(weighted_child_entropy(left_dataset,right_dataset)))\n"
      ],
      "metadata": {
        "colab": {
          "base_uri": "https://localhost:8080/"
        },
        "id": "KF3YJ0T4Nxdf",
        "outputId": "f3e9c214-0066-421f-98ba-6471b4fd2488"
      },
      "execution_count": 7,
      "outputs": [
        {
          "output_type": "stream",
          "name": "stdout",
          "text": [
            "Entropy of Parent Dataset 1.584962500721156\n",
            "Weighted entropy of child 0.6666666666666666\n"
          ]
        }
      ]
    },
    {
      "cell_type": "markdown",
      "source": [
        "# **4 - Function to identify the best feature and value to particition on using entropy and information gain**\n",
        "\n",
        "How to identify the best split. Given we have the dataset and list of all available splits\n",
        "\n",
        "1. calculate the entropy of the data. Store the entropy as best entropy.\n",
        "2. Loop through all the indexs in the potential_splits dictionary, i.e. loop through all the column A. loop through all values for each column i. split_data for each column,split_value pair in potential splits into left dataset and right dataset\n",
        "ii. calculate weighted entropy of child datasets (left_dataset and right_dataset)\n",
        "iii. if child entropy is less than best_entropy a. Store the split_value and split_column in best_split_value and best_split_column b. best entropy == child entropy\n",
        "iv. else continue\n",
        "3. return best_split_value and best_split_column"
      ],
      "metadata": {
        "id": "6DdLazAOTVlt"
      }
    },
    {
      "cell_type": "code",
      "source": [
        "data = df.values\n",
        "potential_splits = all_potential_splits(data)\n",
        "\n",
        "def best_split(data,potential_splits):\n",
        "    parent_entropy = calculate_entropy(data)\n",
        "    best_entropy = parent_entropy\n",
        "\n",
        "    for index in potential_splits:\n",
        "        for value in potential_splits[index]:\n",
        "            left_dataset,right_dataset = split_data(data,index,value)\n",
        "            child_entropy = weighted_child_entropy(left_dataset,right_dataset)\n",
        "            if child_entropy < best_entropy:\n",
        "                best_split_column = index\n",
        "                best_split_value = value\n",
        "                best_entropy = child_entropy\n",
        "                information_gain = parent_entropy - best_entropy\n",
        "\n",
        "    return best_split_column , best_split_value, parent_entropy, information_gain, best_entropy\n",
        "best_split_column , best_split_value, parent_entropy, information_gain, best_entropy = best_split(data,potential_splits)\n",
        "print('split_column {} split_value {} best entropy {} parent entropy {} information gain {}'.format(best_split_column,best_split_value,best_entropy, parent_entropy,information_gain))"
      ],
      "metadata": {
        "colab": {
          "base_uri": "https://localhost:8080/"
        },
        "id": "kW-4u2yhVvQR",
        "outputId": "7ff20fe7-88f2-4b9a-dbb5-f6fc5c4f0a40"
      },
      "execution_count": 8,
      "outputs": [
        {
          "output_type": "stream",
          "name": "stdout",
          "text": [
            "split_column 2 split_value 1.9 best entropy 0.6666666666666666 parent entropy 1.584962500721156 information gain 0.9182958340544894\n"
          ]
        }
      ]
    },
    {
      "cell_type": "code",
      "source": [
        "# visualize Data before the split\n",
        "sns.lmplot(data=df,x=\"petal_width\",y=\"petal_length\",hue=\"species\",fit_reg=False)\n",
        "plt.hlines(y=best_split_value,xmin=0,xmax=3)"
      ],
      "metadata": {
        "colab": {
          "base_uri": "https://localhost:8080/",
          "height": 524
        },
        "id": "1YeIFgB0Z3Cs",
        "outputId": "95aeb9ed-8c68-4d52-b52e-80b453da359e"
      },
      "execution_count": 9,
      "outputs": [
        {
          "output_type": "execute_result",
          "data": {
            "text/plain": [
              "<matplotlib.collections.LineCollection at 0x7b9994a9d870>"
            ]
          },
          "metadata": {},
          "execution_count": 9
        },
        {
          "output_type": "display_data",
          "data": {
            "text/plain": [
              "<Figure size 617.75x500 with 1 Axes>"
            ],
            "image/png": "[encoded data removed]"
          },
          "metadata": {}
        }
      ]
    },
    {
      "cell_type": "markdown",
      "source": [
        "# **5- Check each split if Data is Pure**\n",
        "\n",
        "1. select the target column or the label column from the dataset.\n",
        "2. Check the unique values in the label column\n",
        "Return True, If their is only one unique value it will mean that Data is Pure and all rows in the dataset belong to only one class\n",
        "3. Else Return False"
      ],
      "metadata": {
        "id": "HRUqdokcaA22"
      }
    },
    {
      "cell_type": "code",
      "source": [
        "def check_purity(data):\n",
        "    label = data[:,-1]\n",
        "    unique_classes,unique_class_count = np.unique(label,return_counts=True)\n",
        "\n",
        "    if len(unique_classes) == 1:\n",
        "        return True\n",
        "    else:\n",
        "        return False\n",
        "\n",
        "\n",
        "print('Using the original dataset')\n",
        "sns.lmplot(data=df,x=\"petal_width\",y=\"petal_length\",hue=\"species\",fit_reg=False)\n",
        "data = df.values\n",
        "column_names = df.columns\n",
        "\n",
        "out = check_purity(data)\n",
        "print(\"Data is Pure: \", out)"
      ],
      "metadata": {
        "colab": {
          "base_uri": "https://localhost:8080/",
          "height": 542
        },
        "id": "-b3cPfIObCNw",
        "outputId": "839b440d-b631-4c65-f8ee-30a45188e5df"
      },
      "execution_count": 10,
      "outputs": [
        {
          "output_type": "stream",
          "name": "stdout",
          "text": [
            "Using the original dataset\n",
            "Data is Pure:  False\n"
          ]
        },
        {
          "output_type": "display_data",
          "data": {
            "text/plain": [
              "<Figure size 617.75x500 with 1 Axes>"
            ],
            "image/png": "[encoded data removed]"
          },
          "metadata": {}
        }
      ]
    },
    {
      "cell_type": "code",
      "source": [
        "print('Using the left dataset after splitting on column 2 and split value 1.9')\n",
        "left_dataset,right_dataset = split_data(data,2,1.9)\n",
        "ld = pd.DataFrame(left_dataset,columns=column_names)\n",
        "sns.lmplot(data=ld,x=\"petal_width\",y=\"petal_length\",hue=\"species\",fit_reg=False)\n",
        "plt.hlines(y=1.9,xmin=0,xmax=3)\n",
        "plt.xlim(0,2.5)\n",
        "plt.ylim(0,8)\n",
        "\n",
        "out = check_purity(left_dataset)\n",
        "print(\"Data is Pure: \", out)"
      ],
      "metadata": {
        "colab": {
          "base_uri": "https://localhost:8080/",
          "height": 548
        },
        "id": "rIDvRZyZd-KN",
        "outputId": "5ca06939-a67e-4bb6-d761-796e8262297a"
      },
      "execution_count": 11,
      "outputs": [
        {
          "output_type": "stream",
          "name": "stdout",
          "text": [
            "Using the left dataset after splitting on column 2 and split value 1.9\n",
            "Data is Pure:  True\n"
          ]
        },
        {
          "output_type": "display_data",
          "data": {
            "text/plain": [
              "<Figure size 595.375x500 with 1 Axes>"
            ],
            "image/png": "[encoded data removed]"
          },
          "metadata": {}
        }
      ]
    },
    {
      "cell_type": "code",
      "source": [
        "print('Using the right dataset after splitting on column 2 and split value 1.9')\n",
        "\n",
        "data = df.values\n",
        "left_dataset,right_dataset = split_data(data,2,1.9)\n",
        "\n",
        "rd = pd.DataFrame(right_dataset,columns=column_names)\n",
        "sns.lmplot(data=rd,x=\"petal_width\",y=\"petal_length\",hue=\"species\",fit_reg=False)\n",
        "plt.hlines(y=1.9,xmin=0,xmax=3)\n",
        "plt.xlim(0,2.5)\n",
        "plt.ylim(0,8)\n",
        "out = check_purity(right_dataset)\n",
        "print(\"Data is Pure: \", out)"
      ],
      "metadata": {
        "colab": {
          "base_uri": "https://localhost:8080/",
          "height": 548
        },
        "id": "6zw-ILQxd9YP",
        "outputId": "4c1a3744-9391-4da1-aa66-5cfca6964341"
      },
      "execution_count": 12,
      "outputs": [
        {
          "output_type": "stream",
          "name": "stdout",
          "text": [
            "Using the right dataset after splitting on column 2 and split value 1.9\n",
            "Data is Pure:  False\n"
          ]
        },
        {
          "output_type": "display_data",
          "data": {
            "text/plain": [
              "<Figure size 617.75x500 with 1 Axes>"
            ],
            "image/png": "[encoded data removed]"
          },
          "metadata": {}
        }
      ]
    },
    {
      "cell_type": "markdown",
      "source": [
        "# **6- Function to return classification from leaf node**\n",
        "\n",
        "If we take case that classify function will be called only when data is pure then a simple statement like\n",
        "\n",
        "\"return np.unique(data[:,-1])\" will be enough\n",
        "\n",
        "But that will not be the case always, mostly because of min_leaf concept. min_samples_leaf :- The minimum number of samples required to be at a leaf node. A split point at any depth will only be considered if it leaves at least min_samples_leaf training samples in each of the left and right branches\n",
        "\n",
        "This is to avoid overfitting. Otherwise the decision tree will overfit the training data and will give 100% accuracy but will strugle when it will try to classify new data.\n",
        "\n",
        "how to make this function\n",
        "\n",
        "1. get the label column from the dataset\n",
        "2. get unqiue classes and their count from label column\n",
        "3. Choose the class with maximum count\n",
        "4. Return the class"
      ],
      "metadata": {
        "id": "8rSt5_2HgZPN"
      }
    },
    {
      "cell_type": "code",
      "source": [
        "def classify(data):\n",
        "    label = data[:,-1]\n",
        "    unique_classes,unique_count = np.unique(label,return_counts=True)\n",
        "\n",
        "    class_index = unique_count.argmax()\n",
        "    classification = unique_classes[class_index]\n",
        "\n",
        "    return classification\n",
        "\n",
        "print('Class before split', classify(df.values))\n",
        "print('Class after split for left child node', classify(left_dataset))\n",
        "print('Class after split for right child node', classify(right_dataset))"
      ],
      "metadata": {
        "colab": {
          "base_uri": "https://localhost:8080/"
        },
        "id": "tVliZsvcg0Vq",
        "outputId": "4bfadfb5-73fd-4168-8ab7-d93eb1e14a0f"
      },
      "execution_count": 13,
      "outputs": [
        {
          "output_type": "stream",
          "name": "stdout",
          "text": [
            "Class before split setosa\n",
            "Class after split for left child node setosa\n",
            "Class after split for right child node versicolor\n"
          ]
        }
      ]
    },
    {
      "cell_type": "markdown",
      "source": [
        "# **Creating a decision Tree**\n",
        "\n",
        "\n",
        "\n",
        "1. Identifying potential splits\n",
        "2. Splitting data into 2 datasets\n",
        "3. calculating the entropy\n",
        "4. calculating child entropy\n",
        "5. Identifying the best split from list of potential splits using entropy\n",
        "6. checking purity of data\n",
        "7. classifying the leaf node\n",
        "\n",
        "\n"
      ],
      "metadata": {
        "id": "ji8ZPLnVj0Tc"
      }
    },
    {
      "cell_type": "code",
      "source": [
        "def create_decision_tree(df,min_samples=3,counter=0,max_depth=5):\n",
        "\n",
        "        # data preparations\n",
        "    if counter == 0:\n",
        "        global COLUMN_HEADERS, FEATURE_TYPES\n",
        "        COLUMN_HEADERS = df.columns\n",
        "        FEATURE_TYPES = determine_type_of_feature(df)\n",
        "        data = df.values\n",
        "    else:\n",
        "        data = df\n",
        "\n",
        "\n",
        "    if check_purity(data) or (len(data) < min_samples) or (counter == max_depth):\n",
        "        classification =  classify(data)\n",
        "        return classification\n",
        "\n",
        "\n",
        "    else:\n",
        "        counter += 1\n",
        "    #    print(counter)\n",
        "        potential_splits = all_potential_splits(data)\n",
        "     #   print(potential_splits)\n",
        "        split_column,split_value, parent_entropy, information_gain, best_entropy = best_split(data,potential_splits)\n",
        "        left_dataset, right_dataset = split_data(data,split_column,split_value)\n",
        "\n",
        "\n",
        "        if len(left_dataset) == 0 or len(right_dataset) == 0:\n",
        "            classification = classify(data)\n",
        "            return classification\n",
        "\n",
        "        feature_name = COLUMN_HEADERS[split_column]\n",
        "     #   print(FEATURE_TYPES)\n",
        "     #   print(split_column)\n",
        "        type_of_feature = FEATURE_TYPES[split_column]\n",
        "        if type_of_feature == \"continuous\":\n",
        "            question = \"{} <= {}\".format(feature_name, split_value)\n",
        "\n",
        "        # feature is categorical\n",
        "        else:\n",
        "            question = \"{} = {}\".format(feature_name, split_value)\n",
        "\n",
        "        tree = {question: []}\n",
        "\n",
        "        yes_answer = create_decision_tree(left_dataset,min_samples,counter,max_depth)\n",
        "\n",
        "        no_answer = create_decision_tree(right_dataset,min_samples,counter,max_depth)\n",
        "\n",
        "        if yes_answer == no_answer:\n",
        "            tree = yes_answer\n",
        "        else:\n",
        "            tree[question].append(yes_answer)\n",
        "            tree[question].append(no_answer)\n",
        "        return tree\n",
        "\n",
        "def fit(train_data,train_label):\n",
        "    train_data[\"label\"] = train_label\n",
        "    tree = create_decision_tree(train_data)\n",
        "    return tree\n",
        "\n",
        "df = pd.read_csv(\"Iris.csv\")\n",
        "data = df.drop('species',axis=1)\n",
        "y = df['species']\n",
        "print(data.shape,y.shape)\n",
        "tree = fit(data,y)\n",
        "pprint(tree)"
      ],
      "metadata": {
        "colab": {
          "base_uri": "https://localhost:8080/"
        },
        "id": "VIwtuAPylTlG",
        "outputId": "56447c48-ebe6-4676-d52c-f81e9a2fe819"
      },
      "execution_count": 25,
      "outputs": [
        {
          "output_type": "stream",
          "name": "stdout",
          "text": [
            "(150, 4) (150,)\n",
            "{'petal_length <= 1.9': ['setosa',\n",
            "                         {'petal_width <= 1.7': [{'petal_length <= 4.9': [{'petal_width <= 1.6': ['versicolor',\n",
            "                                                                                                  'virginica']},\n",
            "                                                                          {'petal_width <= 1.5': ['virginica',\n",
            "                                                                                                  {'sepal_length <= 6.7': ['versicolor',\n",
            "                                                                                                                           'virginica']}]}]},\n",
            "                                                 {'petal_length <= 4.8': [{'sepal_length <= 5.9': ['versicolor',\n",
            "                                                                                                   'virginica']},\n",
            "                                                                          'virginica']}]}]}\n"
          ]
        }
      ]
    },
    {
      "cell_type": "code",
      "source": [
        "def classify_example(test, tree):\n",
        "    question = list(tree.keys())[0]\n",
        "    feature_name, comparison_operator, value = question.split(\" \")\n",
        "\n",
        "    # ask question\n",
        "    if comparison_operator == \"<=\":\n",
        "        if test[feature_name] <= float(value):\n",
        "            answer = tree[question][0]\n",
        "        else:\n",
        "            answer = tree[question][1]\n",
        "\n",
        "    # feature is categorical\n",
        "    else:\n",
        "        if str(test[feature_name]) == value:\n",
        "            answer = tree[question][0]\n",
        "        else:\n",
        "            answer = tree[question][1]\n",
        "\n",
        "    # base case\n",
        "    if not isinstance(answer, dict):\n",
        "        return answer\n",
        "\n",
        "    # recursive part\n",
        "    else:\n",
        "        residual_tree = answer\n",
        "        return classify_example(test, residual_tree)\n",
        "def predict(test,tree):\n",
        "    output = []\n",
        "    index = test.index.tolist()\n",
        "    for i in index:\n",
        "        output.append(classify_example(test.loc[i],tree))\n",
        "    return output\n",
        "\n",
        "def predict(test,tree):\n",
        "    output = []\n",
        "    index = test.index.tolist()\n",
        "    for i in index:\n",
        "        output.append(classify_example(test.loc[i],tree))\n",
        "    return output\n",
        "\n",
        "df = pd.read_csv(\"Iris.csv\")\n",
        "data = df.drop('species',axis=1)\n",
        "y = df['species']\n",
        "print(data.shape,y.shape)\n",
        "tree = fit(data,y)\n",
        "\n",
        "output = predict(data,tree)\n",
        "\n",
        "accuracy = (y==output)\n",
        "accuracy = accuracy.mean()\n",
        "print('Accuracy of prediction is  {} '.format(accuracy))"
      ],
      "metadata": {
        "colab": {
          "base_uri": "https://localhost:8080/"
        },
        "id": "0kMhUnB-xlY5",
        "outputId": "ab4cc60b-7416-48df-aeb9-83cd18236f8b"
      },
      "execution_count": 26,
      "outputs": [
        {
          "output_type": "stream",
          "name": "stdout",
          "text": [
            "(150, 4) (150,)\n",
            "Accuracy of prediction is  1.0 \n"
          ]
        }
      ]
    },
    {
      "cell_type": "markdown",
      "source": [
        "Accuracy is 1 beacuse the training and testing data are same. Which is a bad idea. Lets just separate the training and testing samples and check the accuracy again"
      ],
      "metadata": {
        "id": "Xv4mJtciyJFA"
      }
    },
    {
      "cell_type": "code",
      "source": [
        "import random\n",
        "\n",
        "df = pd.read_csv(\"Iris.csv\")\n",
        "test_size = 50\n",
        "indices = df.index.tolist()\n",
        "test_indices = random.sample(population=indices, k=test_size)\n",
        "\n",
        "test_df = df.loc[test_indices]\n",
        "train_df = df.drop(test_indices)\n",
        "\n",
        "X_train = train_df.drop('species',axis=1)\n",
        "y_train = train_df['species']\n",
        "\n",
        "X_test = test_df.drop('species',axis=1)\n",
        "y_test = test_df['species']\n",
        "\n",
        "\n",
        "# Building the Tree\n",
        "tree = fit(X_train,y_train)\n",
        "\n",
        "# Predicting on the test data\n",
        "test_output = predict(X_test,tree)\n",
        "\n",
        "# Checking the accuracy\n",
        "Accuracy = (y_test == test_output)\n",
        "Accuracy = Accuracy.mean()\n",
        "print('Accuracy of prediction is  {} '.format(Accuracy))"
      ],
      "metadata": {
        "colab": {
          "base_uri": "https://localhost:8080/"
        },
        "id": "Od8b1N45yKKx",
        "outputId": "38a5a07d-7f5a-45c8-aa5f-31d4af89076f"
      },
      "execution_count": 27,
      "outputs": [
        {
          "output_type": "stream",
          "name": "stdout",
          "text": [
            "Accuracy of prediction is  0.98 \n"
          ]
        }
      ]
    }
  ]
}